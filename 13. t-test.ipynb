{
 "cells": [
  {
   "cell_type": "markdown",
   "id": "04c5cfaf-d5f0-4375-a8ff-4f1527b3a04e",
   "metadata": {},
   "source": [
    "# T-Test\n",
    "\n",
    "In cases where the standard deviation of the population is not known and the sample size is small, the T-distribution is used. This distribution is also known as the \"Student's T distribution\".\n",
    "\n",
    "The following are the key features of the T-distribution:\n",
    "\n",
    "+ It has a shape that is similar to a normal distribution but is slightly flatter.\n",
    "+ The sample size is typically small, usually less than 30.\n",
    "+ The T-distribution takes into account the concept of degrees of freedom. These are the number of observations in a statistical test that can be calculated independently. For example, if we have three numbers $x$, $y$, and $z$ and know that the mean is 5, we can conclude that the sum of the numbers must be $5 \\times 3 = 15$. We have the freedom to choose any value for $x$ and $y$, but not $z$. $z$ must be chosen so that the numbers add up to 15 and the mean remains at 5. Despite having three numbers, we only have the freedom to choose two of them, meaning we have two degrees of freedom.\n",
    "+ As the sample size decreases, the degrees of freedom decrease, and the population parameter can be predicted with less certainty from the sample parameter. The degrees of freedom (df) in the T-distribution is equal to the number of samples minus 1, or $df = n - 1$.\n",
    "\n",
    "<center><img src=\"./data/t_dist.png\"/></center>\n",
    "\n",
    "The formula for the critical test statistic in a one-sample t-test is given by the following equation: \n",
    "\n",
    "$$t = \\frac{\\overline{x} - \\mu}{\\frac{s}{\\sqrt{n}}}$$\n",
    "\n",
    "where $\\overline{x}$ is the sample mean, $\\mu$ is the population mean, $s$ is the sample standard deviation, and $n$ is the sample size.\n",
    "\n",
    "## One-Sample T-Test\n",
    "\n",
    "A one-sample t-test is similar to a one-sample z-test, with the following differences:\n",
    "\n",
    "1. The size of the sample is small ($< 30$).\n",
    "2. The population standard deviation is not known; we use the sample standard deviation ($s$) to calculate the standard error.\n",
    "3. The critical statistic here is the t-statistic, given by the following formula:\n",
    "\n",
    "$$t = \\frac{\\overline{x} - \\mu}{\\frac{s}{\\sqrt{n}}}$$\n"
   ]
  },
  {
   "cell_type": "markdown",
   "id": "2ce587eb-9dda-4779-a004-bea595c98abf",
   "metadata": {},
   "source": [
    "A coaching institute, preparing students for an exam, has 200 students, and the average score of the students in the practice tests is 80. It takes a sample of nine students and records their scores; it seems that the average score has now increased. These are the scores of these nine students: 80, 87, 80, 75, 79, 78, 89, 84, 88. Conduct a hypothesis test at a 5% significance level to verify if there is a significant increase in the average score.\n",
    "\n",
    "## Hypotheses\n",
    "\n",
    "- Null hypothesis ($H_0$): $\\mu = 80$\n",
    "- Alternative hypothesis ($H_1$): $\\mu > 80$\n"
   ]
  },
  {
   "cell_type": "code",
   "execution_count": 1,
   "id": "92b6154c",
   "metadata": {},
   "outputs": [
    {
     "data": {
      "text/plain": [
       "TtestResult(statistic=1.348399724926488, pvalue=0.21445866072113726, df=8)"
      ]
     },
     "execution_count": 1,
     "metadata": {},
     "output_type": "execute_result"
    }
   ],
   "source": [
    "import numpy as np\n",
    "import scipy.stats as stats\n",
    "\n",
    "sample = np.array([80,87,80,75,79,78,89,84,88])\n",
    "\n",
    "stats.ttest_1samp(sample,80)"
   ]
  },
  {
   "cell_type": "markdown",
   "id": "3602c604",
   "metadata": {},
   "source": [
    "Since the p-value is greater than 0.05, we fail to reject the null hypothesis. Hence, we cannot conclude that the average score of students has changed."
   ]
  },
  {
   "cell_type": "markdown",
   "id": "acf202cc",
   "metadata": {},
   "source": [
    "## Two-sample t-test \n",
    "\n",
    "A two-sample t-test is used when we take samples from two populations, where both the sample sizes are less than 30, and both the population standard deviations are unknown. Formula:\n",
    "\n",
    "$$t = \\frac{\\overline x_1 - \\overline x_2}{\\sqrt{S_p^2(\\frac{1}{n_1}+\\frac{1}{n_2})}}$$\n",
    "\n",
    "Where $x_1$ and $x_2$ are the sample means  \n",
    "\n",
    "The degrees of freedom: $df=n_1 + n_2 − 2$  \n",
    "\n",
    "The pooled variance $S_p^2 = \\frac{(n_1 -1)S_1^2 + (n_2-1)S_2^2}{n_1+n_2-2}$  \n",
    "\n",
    "A coaching institute has centers in two different cities. It takes a sample of ten students from each center and records their\n",
    "scores, which are as follows:  \n",
    "\n",
    "|Center A:| 80, 87, 80, 75, 79, 78, 89, 84, 88|\n",
    "|---------|-----------------------------------|\n",
    "|Center B:| 81, 74, 70, 73, 76, 73, 81, 82, 84|  \n",
    " \n",
    "Conduct a hypothesis test at a 5% significance level, and verify if there a significant difference in the average scores of the\n",
    "students in these two centers.\n",
    "\n",
    "$H_0:\\mu_1 = \\mu_2$  \n",
    "$H_1:\\mu_1 != \\mu_2$"
   ]
  },
  {
   "cell_type": "code",
   "execution_count": 2,
   "id": "7b4b5010",
   "metadata": {},
   "outputs": [
    {
     "data": {
      "text/plain": [
       "TtestResult(statistic=2.1892354788555664, pvalue=0.04374951024120649, df=16.0)"
      ]
     },
     "execution_count": 2,
     "metadata": {},
     "output_type": "execute_result"
    }
   ],
   "source": [
    "a = np.array([80,87,80,75,79,78,89,84,88])\n",
    "b = np.array([81,74,70,73,76,73,81,82,84])\n",
    "\n",
    "stats.ttest_ind(a,b)"
   ]
  },
  {
   "cell_type": "markdown",
   "id": "88a502b7",
   "metadata": {},
   "source": [
    "We can conclude that there is a significant difference in the average scores of students in the two centers of the coaching\n",
    "institute since the p-value is less than 0.05"
   ]
  },
  {
   "cell_type": "markdown",
   "id": "f498ce2d",
   "metadata": {},
   "source": [
    "## Two-sample t-test for paired samples \n",
    "\n",
    "This test is used to compare population means from samples that are dependent on each other, that is, sample values are measured twice using the same test group.\n",
    "\n",
    "+ A measurement taken at two different times (e.g., pre-test and post-test score with an intervention administered between the two time points)\n",
    "+ A measurement taken under two different conditions (e.g., completing a test under a \"control\" condition and an \"experimental\" condition)\n",
    "\n",
    "This equation gives the critical value of the test statistic for a paired two-sample t-test:\n",
    "\n",
    "$$t = \\frac{\\overline d}{s/\\sqrt{n}}$$\n",
    "\n",
    "Where $\\overline d$ is the average of the difference between the elements of the two samples. Both\n",
    "the samples have the same size, $n$.  \n",
    "\n",
    "Standard deviation of the differences between the elements of the two samples, S =  $\\sqrt{\\frac{\\sum d^2 -((\\sum d)^2/ n)}{n -1}}$\n",
    "\n",
    "The coaching institute is conducting a special program to improve the performance of the students. The scores of the same set of students are compared before and after the special program. Conduct a hypothesis test at a 5% significance level to verify if the scores have improved because of this program."
   ]
  },
  {
   "cell_type": "code",
   "execution_count": 3,
   "id": "9055c5e8",
   "metadata": {},
   "outputs": [
    {
     "data": {
      "text/plain": [
       "TtestResult(statistic=-2.4473735525455615, pvalue=0.040100656419513776, df=8)"
      ]
     },
     "execution_count": 3,
     "metadata": {},
     "output_type": "execute_result"
    }
   ],
   "source": [
    "a = np.array([80,87,80,75,79,78,89,84,88])\n",
    "b = np.array([81,89,83,81,79,82,90,82,90])\n",
    "\n",
    "stats.ttest_rel(a,b)"
   ]
  },
  {
   "cell_type": "markdown",
   "id": "aa94fab0",
   "metadata": {},
   "source": [
    "We can conclude, at a 5% significance level, that the average score has improved after the\n",
    "special program was conducted since the p-value is less than 0.05"
   ]
  },
  {
   "cell_type": "code",
   "execution_count": null,
   "id": "95a06911",
   "metadata": {},
   "outputs": [],
   "source": []
  }
 ],
 "metadata": {
  "kernelspec": {
   "display_name": "Python 3 (ipykernel)",
   "language": "python",
   "name": "python3"
  },
  "language_info": {
   "codemirror_mode": {
    "name": "ipython",
    "version": 3
   },
   "file_extension": ".py",
   "mimetype": "text/x-python",
   "name": "python",
   "nbconvert_exporter": "python",
   "pygments_lexer": "ipython3",
   "version": "3.11.7"
  }
 },
 "nbformat": 4,
 "nbformat_minor": 5
}

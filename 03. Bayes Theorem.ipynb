{
 "cells": [
  {
   "cell_type": "markdown",
   "metadata": {},
   "source": [
    "# Bayes theorem"
   ]
  },
  {
   "cell_type": "markdown",
   "metadata": {},
   "source": [
    "**Bayes theorem** is a theorem used to calculate the conditional probability of an event, given some evidence related to the event. Bayes theorem establishes a mathematical relationship between the probability of an event and prior knowledge of conditions\n",
    "related to it. As evidence related to an event accumulates, the probability of this event can be determined more accurately.\n",
    "\n",
    "Example:\n",
    "\n",
    "In a simple conditional probability question, we might be asked to calculate the probability of a person getting diabetes, given that they are obese. In Bayes theorem, we go backward and calculate the probability of a person being obese, given\n",
    "that they have diabetes. That is, if a person tested positive for diabetes, Bayes theorem tests the hypothesis that he is obese. The formula for Bayes theorem is as follows:\n",
    "\n",
    "\n",
    "$$ P(A|B) = \\frac{P(A)P(B|A)}{P(B)} $$\n",
    "\n",
    "$P(A/B)$, also known as the posterior probability, is what we want to compute, that is, the probability of the hypothesis being true, given the data on hand.  \n",
    "$P(B/A)$ is the probability of obtaining the evidence, given the hypothesis.  \n",
    "$P(A)$ is the prior probability, that is, the probability of the hypothesis being true before we have any data related to it.  \n",
    "$P(B)$ is the general probability of occurrence of the evidence, without any hypothesis, also called the normalizing constant.\n",
    "\n",
    "\n",
    "**Example:** \n",
    "\n",
    "What is the probability that there is fire given that there is smoke?\n",
    "\n",
    "$$P(Fire|Smoke) =\\frac {P(Smoke|Fire) * P(Fire)}{P(Smoke)}$$\n",
    "\n",
    "where,  \n",
    "$P(Fire)$ is the Prior  \n",
    "$P(Smoke|Fire)$ is the Likelihood  \n",
    "$P(Smoke)$ is the evidence "
   ]
  },
  {
   "cell_type": "markdown",
   "metadata": {},
   "source": [
    "**Question:**   \n",
    "Consider a scenario where a person has tested positive for an illness. This illness is known to impact about 1.2% of the population at any given time. The diagnostic test is known to have an accuracy of 85%, for people who have the illness. The test accuracy is 97% for people who do not have the illness. What is the probability that this person suffers from this illness, given that they have tested positive for it?  \n",
    "\n",
    "**Solution:**  \n",
    "Assessing the accuracy of medical tests is one of the applications of Bayes theorem.  \n",
    "Let us first define the events:  \n",
    "$A:$ The person has the illness, also called the hypothesis.  \n",
    "$\\overline{A}$: The person does not have the illness.  \n",
    "$B:$ The person has tested positive for the illness, also called the evidence.  \n",
    "$P(A/B):$ Probability that this person has the illness given that they have tested positive for it, also called the posterior probability (which is what we need to calculate).  \n",
    "$P(B/A):$ Probability that the person has tested positive for it given that they have the illness. This value is 0.85 (as given in the question that this test has 85% accuracy for people who suffer from the illness).  \n",
    "$P(A):$ Prior probability or the probability that the person has the illness, without any evidence (like a medical test). This value is 0.012 (as given in the question that this illness affects 1.2% of the population).  \n",
    "$P(B):$ Probability that this person has tested positive for this illness. This probability can be calculated in the following manner.  \n",
    "\n",
    "There are two ways this person could test positive for this illness:\n",
    "+ They have the illness and have tested positive (true POSITIVE) - the probability of this occurring can be calculated as follows:\n",
    "\n",
    "$$P(B/A)*P(A)=0.85*0.012=0.0102.$$  \n",
    "\n",
    "\n",
    "+ They do not have the illness, but the test was inaccurate, and they have tested positive for it (false positive) – the probability of this occurring can be calculated as follows:\n",
    "$$P(B/\\overline{A})*P(\\overline{A})=(1-0.97)*(1-0.012)=0.02964.$$\n",
    "\n",
    "Here, $P(B/\\overline{A})$ refers to the probability that the test was positive for a person who did not have the illness, that is, the probability that the test was inaccurate for the person who does not suffer from the illness.   Since this test is 97% accurate for people who do not have this illness, it is inaccurate for 3% of the cases.\n",
    "In other words, $P(B/\\overline{A}) = 1-0.97.$  \n",
    "  \n",
    "$P(\\overline{A})$ refers to the probability that the person does not have the illness. Since we have been provided the data that the incidence of this illness is 1.2%, $P(\\overline{A}) = 1-0.012.$  \n",
    "\n",
    "$P(B)$, the denominator in the Bayes theorem equation, is the union of the preceding two probabilities $P(B)= (P(B/A)*P(A)) + (P(B/\\overline{A})*P(\\overline{A}))=0.0102+0.2964=0.03984$  \n",
    "\n",
    "\n",
    "We can now calculate our final answer by plugging in the values for the numerator and denominator in the Bayes theorem formula.  \n",
    "$P(A/B)=P(B/A)*P(A)/P(B) =0.85*0.012 / 0.03984 = 0.256$\n",
    "\n",
    "Using the Bayes theorem, we can now conclude that even with a positive medical test, this person only has a 25.6% chance of suffering from this illness."
   ]
  },
  {
   "cell_type": "code",
   "execution_count": null,
   "metadata": {},
   "outputs": [],
   "source": []
  }
 ],
 "metadata": {
  "kernelspec": {
   "display_name": "Python 3",
   "language": "python",
   "name": "python3"
  },
  "language_info": {
   "codemirror_mode": {
    "name": "ipython",
    "version": 3
   },
   "file_extension": ".py",
   "mimetype": "text/x-python",
   "name": "python",
   "nbconvert_exporter": "python",
   "pygments_lexer": "ipython3",
   "version": "3.8.3"
  }
 },
 "nbformat": 4,
 "nbformat_minor": 4
}

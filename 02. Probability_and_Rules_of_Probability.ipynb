{
 "cells": [
  {
   "cell_type": "markdown",
   "metadata": {
    "id": "75tuxa_BKLEX"
   },
   "source": [
    "# **Probability and Rules of Probability**\n",
    "___"
   ]
  },
  {
   "cell_type": "markdown",
   "metadata": {
    "id": "8xI_XGaIKLEc"
   },
   "source": [
    "### Understanding Fundamental Concepts in Probability\r\n",
    "\r\n",
    "Before delving into the intricacies of probability, it's essential to grasp some fundamental terms and definitions associated with it.\r\n",
    "\r\n",
    "#### Random Experiment:\r\n",
    "A random experiment is characterized by its unpredictable outcomes when repeated under identical conditions. Examples include rolling a die or tossing an unbiased coin.\r\n",
    "\r\n",
    "#### Outcome:\r\n",
    "An outcome refers to the result obtained from a single trial of an experiment.\r\n",
    "\r\n",
    "#### Sample Space:\r\n",
    "The sample space represents a comprehensive list encompassing all potential outcomes of an experiment. For instance, in the case of tossing a coin, the sample space would be $\\{Heads, Tails\\}$, while for rolling a die, it would consist of $\\{1, 2, 3, 4, 5, 6\\}$.\r\n",
    "\r\n",
    "#### Event:\r\n",
    "An event denotes a subset of the sample space and can comprise either a single outcome or a combination of outcomes. For instance, obtaining at least two heads in a row when a coin is tossed four times constitutes an event. Another example could involve getting heads on a coin and rolling a six on a die simultaneously.\r\n",
    "\r\n",
    "### Probability:\r\n",
    "\r\n",
    "Probability serves as a quantifiable measure of the likelihood of an event occurring.\r\n",
    "\r\n",
    "**Note:** Events cannot be predicted with absolute certainty. Probability allows us to assess the likelihood of an event happening, ranging between 0 and 1. A probability of \"Zero\" signifies that the event is impossible, while a value of \"One\" indicates certainty.\r\n",
    "\r\n",
    "The probability of an event $A$, denoted as $P(A)$, is calculated using the formula:\r\n",
    "\r\n",
    "$$ P(A) = \\frac {n(A)}{n(S)} $$\r\n",
    "\r\n",
    "where:  \r\n",
    "- $P(A)$ represents the probability of event $A$ occurring.  \r\n",
    "- $n(A)$ denotes the number of favorable outcomes for event $A$.  \r\n",
    "- $n(S)$ signifies the total number of possible outcomes.\r\n",
    "\r\n",
    "**Example:**  \r\n",
    "The probability of rolling a number less than or equal to 2 when tossing a dieis $\\frac{2}{6} = \\frac{1}{3}$.\r\n"
   ]
  },
  {
   "cell_type": "markdown",
   "metadata": {},
   "source": [
    "### **Rules of Probability**\n",
    "\n",
    "Understanding the rules governing probability is crucial for accurate analysis and interpretation.\n",
    "\n",
    "+ The probability of an event can range anywhere from 0 to 1:  \n",
    "  $0 \\leq P(A) \\leq 1.$  \n",
    "  This signifies that probabilities lie within the range of certainty from impossible (0) to certain (1).\n",
    "\n",
    "+ Sum of all probabilities should add up to 1  \n",
    "  $P(A) + P(\\overline{A}) = 1.$  \n",
    "  This rule highlights that the combined probability of an event occurring and not occurring is always equal to 1.\n",
    "\n",
    "+ Complementary Rule - Probability of event A not happening:  \n",
    "  $P(\\overline{A})=1-P(A).$  \n",
    "  It indicates that the probability of an event not occurring is equal to 1 minus the probability of the event occurring.  \n",
    "\n",
    "+ Addition Rule (A and B are not necessarily disjoint) - Probability of A happening or B happening:  \n",
    "  $P(A\\cup B)=P(A)+P(B)-P(A\\cap B).$  \n",
    "  This rule calculates the probability of either event A or event B happening, accounting for the overlap if they are not mutually exclusive  \n",
    "\n",
    "+ Addition Rule (A and B are disjoint) - Probability of A happening or B happening:  \n",
    "  $P(A\\cup B)=P(A)+P(B).$  \n",
    "  This rule simplifies the addition of probabilities when events A and B are mutually exclusive.  \n",
    " \n",
    "+ Multiplication Rule - Chain Rule:  \n",
    "  $P(A\\cap B)=P(A)*P(B|A)=P(B)*P(A|B).$  \n",
    "  This rule computes the joint probability of events A and B occurring, taking into account the conditional probabilities.  \n",
    "\n",
    "+ If A and B are independent events, then:  \n",
    "  $P(A\\cap B)=P(A)*P(B).$  \n",
    "  This implies that the occurrence of one event does not affect the probability of the other event.  \n",
    "\n",
    "+ $P(A\\setminus B)=P(A)-P(A\\cap B).$  \n",
    "  This rule calculates the probability of event A happening excluding the outcomes also included in event B.  \n",
    "\n",
    "+ $If A\\subset B, \\text{then}\\ P(A)\\leq P(B).$  \n",
    "  This indicates that the probability of a subset event A is always less than or equal to the probability of the superset event B.  \n",
    "\n",
    "+ $P(\\emptyset)=0. $  \n",
    "  The probability of the empty set is always zero.  "
   ]
  },
  {
   "cell_type": "markdown",
   "metadata": {
    "id": "swoNtX39KLEd"
   },
   "source": [
    "## **Conditional Probability**\r\n",
    "\r\n",
    "Conditional probability of event **A** given event **B** is the probability that **A** occurs given that **B** has occurred.\r\n",
    "\r\n",
    "$$P(A|B)=\\frac{P(A\\cap B)}{P(B)}\\,.$$\r\n",
    "\r\n",
    "Let's illustrate this with an example:\r\n",
    "\r\n",
    "Suppose we roll a fair die, and let event A be the outcome being an odd number (i.e., A={1,3,5}), and event B be the outcome being less than or equal to 3 (i.e., B={1,2,3}). What is the probability of A given B, $P(A|B)$?\r\n",
    "\r\n",
    "$$P(B) = \\frac{3}{6} \\quad , \\quad P(A \\cap B) = \\frac{2}{6}$$ \r\n",
    "\r\n",
    "$$P(A|B) = \\frac{2}{3}$$\r\n",
    "\r\n",
    "\r\n",
    "## **Law of Large Numbers**\r\n",
    "\r\n",
    "The law of large numbers asserts that as the sample size increases, the average or mean of the sample values will converge towards the expected value.\r\n",
    "\r\n",
    "This principle can be exemplified through a basic scenario of flipping a coin. With a coin having equal chances of landing heads or tails, the expected probability of it landing heads is 1/2 or 0.5 over an infinite number of flips.\r\n",
    "\r\n",
    "However, if we only flip the coin 10 times, we may observe a deviation from the expected value. For instance, the coin might land heads only 3 times out of the 10 flips, which doesn't align closely with the expected probability of 0.5. This discrepancy is due to the relatively small sample size.\r\n",
    "\r\n",
    "As the number of flips increases, say to 20 or 30 times, we would expect the proportion of heads to gradually approach 0.5. For instance, after 20 flips, we might see 9 heads, and after 30 flips, we might observe 22 heads. With a larger sample size, the observed proportion of heads tends to converge towards the expected value of 0.5.\r\n",
    "\n",
    "\n",
    "![](./data/lln.png)"
   ]
  },
  {
   "cell_type": "code",
   "execution_count": null,
   "metadata": {
    "id": "3h0VgeSGKLEe"
   },
   "outputs": [],
   "source": []
  }
 ],
 "metadata": {
  "colab": {
   "name": "02. Probability and Rules of Probability.ipynb",
   "provenance": []
  },
  "kernelspec": {
   "display_name": "Python 3 (ipykernel)",
   "language": "python",
   "name": "python3"
  },
  "language_info": {
   "codemirror_mode": {
    "name": "ipython",
    "version": 3
   },
   "file_extension": ".py",
   "mimetype": "text/x-python",
   "name": "python",
   "nbconvert_exporter": "python",
   "pygments_lexer": "ipython3",
   "version": "3.11.7"
  }
 },
 "nbformat": 4,
 "nbformat_minor": 4
}

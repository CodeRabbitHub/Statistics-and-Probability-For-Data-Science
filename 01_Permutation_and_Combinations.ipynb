{
  "nbformat": 4,
  "nbformat_minor": 0,
  "metadata": {
    "kernelspec": {
      "display_name": "Python 3",
      "language": "python",
      "name": "python3"
    },
    "language_info": {
      "codemirror_mode": {
        "name": "ipython",
        "version": 3
      },
      "file_extension": ".py",
      "mimetype": "text/x-python",
      "name": "python",
      "nbconvert_exporter": "python",
      "pygments_lexer": "ipython3",
      "version": "3.8.8"
    },
    "colab": {
      "name": "01. Permutation and Combinations.ipynb",
      "provenance": [],
      "collapsed_sections": []
    }
  },
  "cells": [
    {
      "cell_type": "markdown",
      "metadata": {
        "id": "nWAP42l0C3en"
      },
      "source": [
        "# Permutation and Combination"
      ]
    },
    {
      "cell_type": "markdown",
      "metadata": {
        "id": "wO-hsVKwC3er"
      },
      "source": [
        "**Permutations and Combinations** are nothing but different arrangements of elements that can be formed using a given set of objects.\n",
        "\n",
        "So the next question that some one may ask is so what's the difference between them? The difference between them lies in terms of order.\n",
        "\n",
        "+ *Permutation* is each of several possible ways in which a set or number of things can be ordered or arranged. Here the **order does matter** ABC is different from BAC and CAB\n",
        "+  *Combination* is a collection of the elements where the **order doesn’t matter**. ABC, BAC, CAB all are considered to be a single combination of three characters.\n",
        "\n",
        "Lets look at some example to understand this concept. "
      ]
    },
    {
      "cell_type": "code",
      "metadata": {
        "id": "VQcNkxNOC3es"
      },
      "source": [
        "import itertools\n",
        "\n",
        "character_set = {'A', 'B', 'C'} \n",
        "permutations_taking_two_elements = itertools.permutations(character_set, 2)"
      ],
      "execution_count": 1,
      "outputs": []
    },
    {
      "cell_type": "code",
      "metadata": {
        "colab": {
          "base_uri": "https://localhost:8080/"
        },
        "id": "fKTmATJwE4Rx",
        "outputId": "cccad988-a0d0-4900-8790-235d79bc48dd"
      },
      "source": [
        "for i in permutations_taking_two_elements:\n",
        "    print(i)"
      ],
      "execution_count": 2,
      "outputs": [
        {
          "output_type": "stream",
          "name": "stdout",
          "text": [
            "('A', 'B')\n",
            "('A', 'C')\n",
            "('B', 'A')\n",
            "('B', 'C')\n",
            "('C', 'A')\n",
            "('C', 'B')\n"
          ]
        }
      ]
    },
    {
      "cell_type": "code",
      "metadata": {
        "colab": {
          "base_uri": "https://localhost:8080/"
        },
        "id": "TO6cDX02FQnJ",
        "outputId": "6cf57180-1338-460b-c044-554fc22e5e9f"
      },
      "source": [
        "permutations_taking_three_elements = itertools.permutations(character_set, 3)\n",
        "for i in permutations_taking_three_elements:\n",
        "    print(i)"
      ],
      "execution_count": 3,
      "outputs": [
        {
          "output_type": "stream",
          "name": "stdout",
          "text": [
            "('A', 'B', 'C')\n",
            "('A', 'C', 'B')\n",
            "('B', 'A', 'C')\n",
            "('B', 'C', 'A')\n",
            "('C', 'A', 'B')\n",
            "('C', 'B', 'A')\n"
          ]
        }
      ]
    },
    {
      "cell_type": "markdown",
      "metadata": {
        "id": "VsIIowVhC3ev"
      },
      "source": [
        "From the above example we can see that we have a total of 6 arrangements possible from a set containing 3 alphabets taking 3 at a time. If we have to calculate this value mathematically we would use the formula:\n",
        "\n",
        "$$^n P_r = \\frac{n!}{n-r!}$$\n",
        "\n",
        "where,  \n",
        "n is number of elements in a set.  \n",
        "r is number of elements taken together.  \n",
        "\n",
        "Permutation taking 2 elements together from a set of 3 elements\n",
        "$^3 P_2 = \\frac{3!}{3-2!} = \\frac {3!}{1!} = \\frac{6}{1} = 6$  \n",
        "\n",
        "Permutation taking 3 elements together from a set of 3 elements\n",
        " $^3 P_3 = \\frac{3!}{3-3!} = \\frac {3!}{0!} = \\frac{6}{1} = 6$  \n",
        "\n",
        "\n",
        "Now lets look at combinations."
      ]
    },
    {
      "cell_type": "code",
      "metadata": {
        "colab": {
          "base_uri": "https://localhost:8080/"
        },
        "id": "vjmrhsluC3ey",
        "outputId": "1202466c-0d9d-4418-e6b8-45b90dbadba3"
      },
      "source": [
        "combination_taking_two_elements = itertools.combinations(character_set, 2)\n",
        "\n",
        "for i in combination_taking_two_elements:\n",
        "    print(i)"
      ],
      "execution_count": 4,
      "outputs": [
        {
          "output_type": "stream",
          "name": "stdout",
          "text": [
            "('A', 'B')\n",
            "('A', 'C')\n",
            "('B', 'C')\n"
          ]
        }
      ]
    },
    {
      "cell_type": "code",
      "metadata": {
        "colab": {
          "base_uri": "https://localhost:8080/"
        },
        "id": "SYO9HIj8C3ew",
        "outputId": "3d3bf569-3411-41d0-a9a9-55d503168d2a"
      },
      "source": [
        "combination_taking_three_elements = itertools.combinations(character_set, 3)\n",
        "for i in combination_taking_three_elements: \n",
        "    print(i)"
      ],
      "execution_count": 5,
      "outputs": [
        {
          "output_type": "stream",
          "name": "stdout",
          "text": [
            "('A', 'B', 'C')\n"
          ]
        }
      ]
    },
    {
      "cell_type": "markdown",
      "metadata": {
        "id": "QZDdQOOlC3ey"
      },
      "source": [
        "The formula for calculating number of combinations from n elements taken r at a time is given by is:\n",
        "$$^n C_r = \\frac{n!}{(n-r)! r!}$$"
      ]
    },
    {
      "cell_type": "markdown",
      "metadata": {
        "id": "eqjVrwFyC3ez"
      },
      "source": [
        "We have two more functions called *Combinations with Replacement*, *Product*"
      ]
    },
    {
      "cell_type": "code",
      "metadata": {
        "colab": {
          "base_uri": "https://localhost:8080/"
        },
        "id": "1czZRTC_C3e0",
        "outputId": "83164b64-70d0-41c0-a244-cdefd295680f"
      },
      "source": [
        "combination_taking_two_elements_with_replacement = itertools.combinations_with_replacement(character_set, 2)\n",
        "for i in combination_taking_two_elements_with_replacement:\n",
        "    print(i)"
      ],
      "execution_count": 6,
      "outputs": [
        {
          "output_type": "stream",
          "name": "stdout",
          "text": [
            "('A', 'A')\n",
            "('A', 'B')\n",
            "('A', 'C')\n",
            "('B', 'B')\n",
            "('B', 'C')\n",
            "('C', 'C')\n"
          ]
        }
      ]
    },
    {
      "cell_type": "code",
      "metadata": {
        "colab": {
          "base_uri": "https://localhost:8080/"
        },
        "id": "QKeNbHWjC3e0",
        "outputId": "8363c139-daf4-4784-ff7f-2f72d3580287"
      },
      "source": [
        "product_taking_two_elements_with_replacement = itertools.product(character_set, repeat=2)\n",
        "for i in product_taking_two_elements_with_replacement:\n",
        "    print(i)"
      ],
      "execution_count": 7,
      "outputs": [
        {
          "output_type": "stream",
          "name": "stdout",
          "text": [
            "('A', 'A')\n",
            "('A', 'B')\n",
            "('A', 'C')\n",
            "('B', 'A')\n",
            "('B', 'B')\n",
            "('B', 'C')\n",
            "('C', 'A')\n",
            "('C', 'B')\n",
            "('C', 'C')\n"
          ]
        }
      ]
    },
    {
      "cell_type": "code",
      "metadata": {
        "id": "U5K1Bqt2C3e1"
      },
      "source": [
        ""
      ],
      "execution_count": 7,
      "outputs": []
    }
  ]
}
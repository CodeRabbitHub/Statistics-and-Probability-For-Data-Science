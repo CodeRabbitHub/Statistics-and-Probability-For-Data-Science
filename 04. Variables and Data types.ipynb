{
 "cells": [
  {
   "cell_type": "markdown",
   "id": "4affdc6c",
   "metadata": {},
   "source": [
    "# Variables and Data types\n",
    "___"
   ]
  },
  {
   "cell_type": "markdown",
   "id": "65063c08-be77-4aab-8e03-dc04d613ad83",
   "metadata": {},
   "source": [
    "## Understanding Variables\n",
    "\n",
    "In statistical studies, variables denote characteristics of the subjects under analysis. Selecting appropriate variables is pivotal in designing successful experiments, as they help anticipate outcomes.\n",
    "\n",
    "For instance, when predicting house prices, variables like the number of bedrooms, location, age, amenities nearby, and presence of a garage or pool are considered. These factors, aiding in price prediction, are termed variables.\n",
    "\n",
    "## Independent and Dependent Variables\n",
    "\n",
    "**Independent Variable**: Also known as explanatory or predictor variables, these are factors manipulated in an experiment to observe their impact on outcomes. They represent causes and are not influenced by other study variables.\n",
    "\n",
    "**Dependent Variable**: Referred to as response or outcome variables, these are observed results of an experiment. They represent effects and their values depend on changes made to the independent variable.\n",
    "\n",
    "## Types of Data\n",
    "\n",
    "Data, crucial for understanding relationships between variables, making predictions, and supporting decision-making, comes in various types. To accurately analyze and interpret data, it's essential to comprehend these types:\n",
    "\n",
    "**Quantitative Data**: Deals with quantities and measurements and can be either continuous or discrete. Continuous data refers to uninterrupted values along a scale, like distance and time. Discrete data, however, refers to specific values, like the number of students in a class or the outcome of rolling a die.\n",
    "\n",
    "**Categorical Data**: Represents groupings and is further categorized into nominal, ordinal, and binary types. Nominal data assigns values to categories without any inherent order, such as people's names and colors. Ordinal data, in contrast, assigns values with an order, like rating levels and grades. Binary data, the simplest form, has only two possible values, such as heads or tails in a coin flip, or yes or no.\n",
    "\n",
    "\n",
    "## Measurement Scales\n",
    "\n",
    "Measurement scales, also referred to as levels of measurement, elucidate how precisely variables are recorded in scientific research. Here, a variable denotes any attribute capable of assuming different values in a dataset (e.g., height, test scores).\n",
    "\n",
    "There exist four measurement scales:\n",
    "\n",
    "- **Nominal**: Data can only be categorized.\n",
    "- **Ordinal**: Data can be categorized and ordered.\n",
    "- **Interval**: Data can be categorized, ordered, and equally spaced.\n",
    "- **Ratio**: Data can be categorized, ordered, equally spaced, and possess a true zero point.\n",
    "\n",
    "The level of measurement for a variable profoundly influences the types of analyses feasible on it. Ranging from nominal (low) to ratio (high), measurement scales vary in complexity and precision.\n"
   ]
  },
  {
   "cell_type": "code",
   "execution_count": null,
   "id": "e2708acb-cebe-434b-bb9e-9a873250ab3e",
   "metadata": {},
   "outputs": [],
   "source": []
  }
 ],
 "metadata": {
  "kernelspec": {
   "display_name": "Python 3 (ipykernel)",
   "language": "python",
   "name": "python3"
  },
  "language_info": {
   "codemirror_mode": {
    "name": "ipython",
    "version": 3
   },
   "file_extension": ".py",
   "mimetype": "text/x-python",
   "name": "python",
   "nbconvert_exporter": "python",
   "pygments_lexer": "ipython3",
   "version": "3.11.7"
  }
 },
 "nbformat": 4,
 "nbformat_minor": 5
}

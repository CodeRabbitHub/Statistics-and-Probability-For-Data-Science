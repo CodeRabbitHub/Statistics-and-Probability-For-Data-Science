{
 "cells": [
  {
   "cell_type": "markdown",
   "metadata": {},
   "source": [
    "# Permutation and Combination"
   ]
  },
  {
   "cell_type": "markdown",
   "metadata": {},
   "source": [
    "**Permutations and Combinations** are nothing but different arrangements of elements that can be formed using a given set.  \n",
    "\n",
    "So the next question that some one may ask is so what's the difference between them? \n",
    "\n",
    "The difference between them lies in terms of order.\n",
    "\n",
    "*Permutation* is an arrangement of a set where the **order does matter**,  \n",
    "whereas *Combination* is a collection of the elements where the **order doesn’t matter**.\n",
    "\n",
    "Lets look at some example to understand this concept.  \n",
    "\n",
    "[itertools](https://docs.python.org/3/library/itertools.html) - Functions creating iterators for efficient looping"
   ]
  },
  {
   "cell_type": "code",
   "execution_count": 1,
   "metadata": {},
   "outputs": [
    {
     "name": "stdout",
     "output_type": "stream",
     "text": [
      "('C', 'A', 'B')\n",
      "('C', 'B', 'A')\n",
      "('A', 'C', 'B')\n",
      "('A', 'B', 'C')\n",
      "('B', 'C', 'A')\n",
      "('B', 'A', 'C')\n"
     ]
    }
   ],
   "source": [
    "import itertools\n",
    "\n",
    "values = {'A', 'B', 'C'}  # creating a set of four alphabets, n = 3\n",
    "\n",
    "perms = itertools.permutations(values, 3)  # permutations taking 3 together i.e, r = 3\n",
    "\n",
    "for i in perms:  # printing out all the permutations\n",
    "    print(i)"
   ]
  },
  {
   "cell_type": "markdown",
   "metadata": {},
   "source": [
    "From the above example we can see that we have a total of 6 arrangements possible from a set containing 3 alphabets. If we have to calculate this value mathematically we would use the formula:\n",
    "\n",
    "$$^n P_r = \\frac{n!}{n-r!}$$\n",
    "\n",
    "where,  \n",
    "n is number of elements in a set.  \n",
    "r is number of elemnts taken together.  \n",
    "\n",
    "In above example we have 3 elements taken 3 at a time so the formula becomes $^3 P_3 = \\frac{3!}{3-3!} = \\frac {3!}{0!} = \\frac{6}{1} = 6$  \n",
    "\n",
    "If we look at the same example taking 2 elements at a time from the set then the formula becomes $^3 P_2 = \\frac{3!}{3-2!} = \\frac {3!}{1!} = \\frac{6}{1} = 6$  "
   ]
  },
  {
   "cell_type": "code",
   "execution_count": 2,
   "metadata": {},
   "outputs": [
    {
     "name": "stdout",
     "output_type": "stream",
     "text": [
      "('C', 'A')\n",
      "('C', 'B')\n",
      "('A', 'C')\n",
      "('A', 'B')\n",
      "('B', 'C')\n",
      "('B', 'A')\n"
     ]
    }
   ],
   "source": [
    "perms = itertools.permutations(values, 2)  # r = 2\n",
    "\n",
    "for i in perms:\n",
    "    print(i)"
   ]
  },
  {
   "cell_type": "markdown",
   "metadata": {},
   "source": [
    "Now lets look at combinations taking 3 at a time and 2 at a time from the set of 3 elements."
   ]
  },
  {
   "cell_type": "code",
   "execution_count": 3,
   "metadata": {},
   "outputs": [
    {
     "name": "stdout",
     "output_type": "stream",
     "text": [
      "('C', 'A', 'B')\n"
     ]
    }
   ],
   "source": [
    "combs = itertools.combinations(values, 3) # r=3\n",
    "\n",
    "for i in combs: \n",
    "    print(i)"
   ]
  },
  {
   "cell_type": "code",
   "execution_count": 4,
   "metadata": {},
   "outputs": [
    {
     "name": "stdout",
     "output_type": "stream",
     "text": [
      "('C', 'A')\n",
      "('C', 'B')\n",
      "('A', 'B')\n"
     ]
    }
   ],
   "source": [
    "combs = itertools.combinations(values, 2) # r=2\n",
    "\n",
    "for i in combs:\n",
    "    print(i)"
   ]
  },
  {
   "cell_type": "markdown",
   "metadata": {},
   "source": [
    "The formula for calculating number of combinations from n elements taken r at a time is given by is:\n",
    "$$^n C_r = \\frac{n!}{(n-r)! r!}$$"
   ]
  },
  {
   "cell_type": "markdown",
   "metadata": {},
   "source": [
    "We have two more functions called *Combinations with Replacement*, *Product*"
   ]
  },
  {
   "cell_type": "code",
   "execution_count": 5,
   "metadata": {},
   "outputs": [
    {
     "name": "stdout",
     "output_type": "stream",
     "text": [
      "('A', 'A')\n",
      "('A', 'B')\n",
      "('A', 'C')\n",
      "('A', 'D')\n",
      "('B', 'B')\n",
      "('B', 'C')\n",
      "('B', 'D')\n",
      "('C', 'C')\n",
      "('C', 'D')\n",
      "('D', 'D')\n"
     ]
    }
   ],
   "source": [
    "value = \"ABCD\"\n",
    "\n",
    "combs = itertools.combinations_with_replacement(value, 2)\n",
    "for i in combs:\n",
    "    print(i)"
   ]
  },
  {
   "cell_type": "code",
   "execution_count": 6,
   "metadata": {},
   "outputs": [
    {
     "name": "stdout",
     "output_type": "stream",
     "text": [
      "('A', 'A')\n",
      "('A', 'B')\n",
      "('A', 'C')\n",
      "('A', 'D')\n",
      "('B', 'A')\n",
      "('B', 'B')\n",
      "('B', 'C')\n",
      "('B', 'D')\n",
      "('C', 'A')\n",
      "('C', 'B')\n",
      "('C', 'C')\n",
      "('C', 'D')\n",
      "('D', 'A')\n",
      "('D', 'B')\n",
      "('D', 'C')\n",
      "('D', 'D')\n"
     ]
    }
   ],
   "source": [
    "combs = itertools.product(value, repeat=2)\n",
    "for i in combs:\n",
    "    print(i)"
   ]
  },
  {
   "cell_type": "code",
   "execution_count": null,
   "metadata": {},
   "outputs": [],
   "source": []
  }
 ],
 "metadata": {
  "kernelspec": {
   "display_name": "Python 3",
   "language": "python",
   "name": "python3"
  },
  "language_info": {
   "codemirror_mode": {
    "name": "ipython",
    "version": 3
   },
   "file_extension": ".py",
   "mimetype": "text/x-python",
   "name": "python",
   "nbconvert_exporter": "python",
   "pygments_lexer": "ipython3",
   "version": "3.8.8"
  }
 },
 "nbformat": 4,
 "nbformat_minor": 4
}

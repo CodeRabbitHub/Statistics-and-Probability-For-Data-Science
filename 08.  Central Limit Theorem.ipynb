{
 "cells": [
  {
   "cell_type": "markdown",
   "metadata": {},
   "source": [
    "# Central Limit Theorem"
   ]
  },
  {
   "cell_type": "markdown",
   "metadata": {},
   "source": [
    "## The Central Limit Theorem\n",
    "\n",
    "The Central Limit Theorem (CLT) posits that the distribution of *sample means* drawn from a population will approximate a normal distribution, irrespective of the shape of the population distribution, provided the sample size is sufficiently large (typically n > 30). Even for populations that are already normally distributed, the theorem remains valid for smaller sample sizes.\n",
    "\n",
    "## Estimating the Population Mean\n",
    "\n",
    "While the sample mean serves as an estimate for the population mean, it's essential to recognize that the standard deviation of the sampling distribution ($\\sigma_{\\overline{x}}$) differs from the population standard deviation ($\\sigma$).\n",
    "\n",
    "## The Standard Error\n",
    "\n",
    "The standard deviation of the sampling distribution ($\\sigma_{\\overline{x}}$) is termed the **standard error** and is linked to the population standard deviation by the formula:\n",
    "\n",
    "$$\\sigma_{\\overline{x}} = \\frac{\\sigma}{\\sqrt{n}}$$\n",
    "\n",
    "Here, $\\sigma$ represents the population standard deviation, and $n$ denotes the sample size. \n",
    "\n",
    "As the sample size increases, the standard error diminishes toward 0, and the sample mean ($\\overline{x}$) converges towards the population mean ($\\mu$).\n"
   ]
  },
  {
   "cell_type": "markdown",
   "metadata": {},
   "source": [
    "## Estimates and Confidence Intervals\n",
    "\n",
    "### Point Estimate\n",
    "\n",
    "A point estimate is a single statistic calculated from a sample used to estimate an unknown population parameter. For instance, the sample mean can serve as a point estimate for the population mean.\n",
    "\n",
    "### Interval Estimate\n",
    "\n",
    "An interval estimate is a range of values believed to encompass the true population parameter. It represents the margin of error in estimating the population parameter.\n",
    "\n",
    "### Confidence Interval\n",
    "\n",
    "A confidence interval is a range of values within which the population mean is presumed to lie. It can be calculated as follows:\n",
    "\n",
    "#### When Population Standard Deviation is Known\n",
    "\n",
    "For a random sample of size $n$ with mean $\\overline{x}$, taken from a population with standard deviation $\\sigma$ and mean $\\mu$, the confidence interval for the population mean is:\n",
    "\n",
    "$$\\overline{x} - \\frac{z\\sigma}{\\sqrt{n}} \\leq \\mu \\leq \\overline{x} + \\frac{z\\sigma}{\\sqrt{n}}$$\n",
    "\n",
    "#### When Population Standard Deviation is Unknown\n",
    "\n",
    "In cases where the population standard deviation is unknown, the sample standard deviation ($s$) substitutes $\\sigma$ in calculating the confidence interval:\n",
    "\n",
    "$$\\overline{x} - \\frac{zs}{\\sqrt{n}} \\leq \\mu \\leq \\overline{x} + \\frac{zs}{\\sqrt{n}}$$\n",
    "\n",
    "Here:  \n",
    "                                                                                                                                                 \n",
    "$\\overline{x}$: Sample mean.  \n",
    "$n$: Sample size.  \n",
    "$\\mu$: Population mean (the parameter we are estimating).  \n",
    "$\\sigma$: Population standard deviation (known when calculating the confidence interval with the formula that includes $\\sigma$).  \n",
    "$s$: Sample standard deviation (used as an estimate of the population standard deviation when it's unknown).  \n",
    "$z$: The critical value from the standard normal distribution corresponding to the desired confidence level. It is determined based on the chosen confidence level (e.g., 95% confidence level corresponds to a z-score of approximately 1.96). This value is used to calculate the margin of error.\n",
    "\n",
    "### Example\n",
    "\n",
    "Suppose we have grades of 10 students drawn from a population, and we aim to ascertain the 95% confidence interval for the population mean.\n"
   ]
  },
  {
   "cell_type": "code",
   "execution_count": 1,
   "metadata": {},
   "outputs": [
    {
     "data": {
      "text/plain": [
       "(3.1110006165952773, 3.668999383404722)"
      ]
     },
     "execution_count": 1,
     "metadata": {},
     "output_type": "execute_result"
    }
   ],
   "source": [
    "import numpy as np\n",
    "import scipy.stats as stats\n",
    "from scipy.stats import t\n",
    "\n",
    "grades =  np.array([3.1,2.9,3.2,3.4,3.7,3.9,3.9,2.8,3.4,3.6])\n",
    "\n",
    "stats.t.interval(0.95, len(grades)-1, loc=np.mean(grades), scale=stats.sem(grades))"
   ]
  },
  {
   "cell_type": "markdown",
   "metadata": {},
   "source": [
    "The arguments inside t.interval function are 95% confidence interval, degrees of freedom (n-1), sample mean and the standard  error calculated by stats.sem function."
   ]
  },
  {
   "cell_type": "code",
   "execution_count": null,
   "metadata": {},
   "outputs": [],
   "source": []
  }
 ],
 "metadata": {
  "kernelspec": {
   "display_name": "Python 3 (ipykernel)",
   "language": "python",
   "name": "python3"
  },
  "language_info": {
   "codemirror_mode": {
    "name": "ipython",
    "version": 3
   },
   "file_extension": ".py",
   "mimetype": "text/x-python",
   "name": "python",
   "nbconvert_exporter": "python",
   "pygments_lexer": "ipython3",
   "version": "3.11.7"
  }
 },
 "nbformat": 4,
 "nbformat_minor": 4
}

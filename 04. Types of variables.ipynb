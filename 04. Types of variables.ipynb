{
 "cells": [
  {
   "cell_type": "markdown",
   "id": "4affdc6c",
   "metadata": {},
   "source": [
    "# Types of variables\n",
    "___"
   ]
  },
  {
   "cell_type": "markdown",
   "id": "649b5672",
   "metadata": {},
   "source": [
    "In statistical research, a variable is defined as an attribute of an object of study. Choosing which variables to measure is central to good experimental design\n",
    "\n",
    "Example:\n",
    "If you want to test whether some plant species are more salt-tolerant than others, some key variables you might measure include the amount of salt you add to the water, the species of plants being studied, and variables related to plant health like growth and wilting."
   ]
  },
  {
   "cell_type": "markdown",
   "id": "c875eb47",
   "metadata": {},
   "source": [
    "Data is generally divided into two categories:\n",
    "\n",
    "- **Quantitative** data represents amounts  \n",
    "\n",
    "    - **Continous** - Distance, Time\n",
    "    - **Descrete** - Number of students in a class, Rolling of die\n",
    "\n",
    "\n",
    "\n",
    "- **Categorical** data represents groupings  \n",
    "\n",
    "    - **Nominal** - Names of people, colors\n",
    "    - **Ordinal** - Rating (High, Medium, Low), Grades(A, B, C, D, E, F)\n",
    "    - **Binary** - Heads/tails in a coin flip, Yes or No\n"
   ]
  },
  {
   "cell_type": "markdown",
   "id": "dcd0112d",
   "metadata": {},
   "source": [
    "## Independent and Dependent variables\n",
    "\n",
    "**Independent Variable**: Variables that we manipulate in order to affect the outcome of an experiment are known as Independent variables. The independent variable is the *cause*. Its value is independent of other variables in your study.\n",
    "\n",
    "They may be also referred as: Explanatory variables (they explain an event or outcome) or Predictor variables (they can be used to predict the value of a dependent variable)\n",
    "\n",
    "\n",
    "**Dependent Variable**: Variables that represent the outcome of the experiment. The dependent variable is the effect. Its value depends on changes in the independent variable.\n",
    "\n",
    "They may be also referred as: Response variables (they respond to a change in another variable) or Outcome variables (they represent the outcome we want to measure)\n"
   ]
  },
  {
   "cell_type": "markdown",
   "id": "5ac22eb6",
   "metadata": {},
   "source": [
    "## **Levels of Measurement**\n",
    "\n",
    "Levels of measurement, also called scales of measurement, tell you how precisely variables are recorded. In scientific research, a variable is anything that can take on different values across your data set (e.g., height or test scores).\n",
    "\n",
    "There are 4 levels of measurement:\n",
    "\n",
    "+ Nominal: the data can only be categorized\n",
    "+ Ordinal: the data can be categorized and ranked\n",
    "+ Interval: the data can be categorized, ranked, and evenly spaced\n",
    "+ Ratio: the data can be categorized, ranked, evenly spaced, and has a natural zero.\n",
    "\n",
    "Depending on the level of measurement of the variable, what you can do to analyze your data may be limited. There is a hierarchy in the complexity and precision of the level of measurement, from low (nominal) to high (ratio)."
   ]
  },
  {
   "cell_type": "code",
   "execution_count": null,
   "id": "8fcad532",
   "metadata": {},
   "outputs": [],
   "source": []
  }
 ],
 "metadata": {
  "kernelspec": {
   "display_name": "Python 3",
   "language": "python",
   "name": "python3"
  },
  "language_info": {
   "codemirror_mode": {
    "name": "ipython",
    "version": 3
   },
   "file_extension": ".py",
   "mimetype": "text/x-python",
   "name": "python",
   "nbconvert_exporter": "python",
   "pygments_lexer": "ipython3",
   "version": "3.8.8"
  }
 },
 "nbformat": 4,
 "nbformat_minor": 5
}

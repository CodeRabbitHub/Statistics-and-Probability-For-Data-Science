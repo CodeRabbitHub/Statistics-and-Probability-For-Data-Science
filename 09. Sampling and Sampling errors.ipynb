{
 "cells": [
  {
   "cell_type": "markdown",
   "metadata": {},
   "source": [
    "## Sampling\n",
    "\n",
    "Sampling serves as a fundamental technique for acquiring insights into a population by gathering data from a representative subset, rather than assessing every individual within the population. It presents a pragmatic approach when exhaustive data collection proves impractical. However, it is imperative that the sample mirrors the population's characteristics accurately.\n",
    "\n",
    "### Probability Sampling\n",
    "\n",
    "Probability sampling ensures that every member of the population possesses an equal chance of selection, thereby facilitating the creation of a sample that faithfully mirrors the population. Several commonly employed probability sampling techniques include:\n",
    "\n",
    "1. **Simple random sampling**: Subjects are selected entirely at random, without bias or preference, ensuring each has an equal probability of inclusion.\n",
    "\n",
    "2. **Stratified random sampling**: The population undergoes division into non-overlapping groups, from which subjects are randomly chosen. This method ensures representation across all relevant categories or strata.\n",
    "\n",
    "3. **Systematic random sampling**: Subjects are chosen at regular intervals, offering simplicity in execution but potentially risking representativeness if the interval choice is inappropriate.\n",
    "\n",
    "4. **Cluster sampling**: The population divides into non-overlapping clusters, from which a subset is randomly selected. This method offers convenience and cost-effectiveness.\n",
    "\n",
    "Advantages of Probability Sampling\n",
    "- Mitigation of Sample Bias\n",
    "- Representation of Diverse Population Characteristics\n",
    "- Generation of Accurate Sample Representations\n",
    "\n",
    "### Non-Probability Sampling\n",
    "\n",
    "Non-probability sampling deviates from the principle of equal probability of selection, thus increasing the likelihood of acquiring a non-representative sample. Commonly utilized non-probability sampling techniques include:\n",
    "\n",
    "1. **Convenience sampling**: Conveniently accessible subjects form the sample, often leading to ease of implementation but potential representativeness issues.\n",
    "\n",
    "2. **Judgmental or purposive sampling**: Selection is based on predefined criteria, aligning with the study's objectives, albeit potentially biasing the sample.\n",
    "\n",
    "3. **Quota sampling**: Quotas ensure the sample reflects significant population characteristics, albeit without the assurance of equal probability of selection.\n",
    "\n",
    "4. **Snowball sampling**: Initial subjects refer additional participants, commonly employed in populations with low visibility.\n",
    "\n",
    "**Note**: Non-probability sampling typically yields less reliable and less generalizable results compared to probability sampling methodologies.\n"
   ]
  },
  {
   "cell_type": "markdown",
   "metadata": {},
   "source": [
    "## Types of Errors in Sampling\n",
    "\n",
    "When making inferences about a population based on a sample, it's possible to encounter various types of errors. These errors can be grouped into the following categories:\n",
    "\n",
    "- **Sampling Error**: The difference between the sample estimate for the population and the actual population estimate\n",
    "- **Coverage Error**: Occurs when the population is not adequately represented and some groups are excluded\n",
    "- **Nonresponse Error**: Occurs when we fail to include nonresponsive subjects who meet the criteria of the study, but are excluded because they do not answer the survey questions.\n",
    "- **Measurement Error**: Occurs when the correct parameters are not measured due to flaws in the measurement method or tool used.\n"
   ]
  },
  {
   "cell_type": "code",
   "execution_count": null,
   "metadata": {},
   "outputs": [],
   "source": []
  }
 ],
 "metadata": {
  "kernelspec": {
   "display_name": "Python 3 (ipykernel)",
   "language": "python",
   "name": "python3"
  },
  "language_info": {
   "codemirror_mode": {
    "name": "ipython",
    "version": 3
   },
   "file_extension": ".py",
   "mimetype": "text/x-python",
   "name": "python",
   "nbconvert_exporter": "python",
   "pygments_lexer": "ipython3",
   "version": "3.11.7"
  }
 },
 "nbformat": 4,
 "nbformat_minor": 4
}

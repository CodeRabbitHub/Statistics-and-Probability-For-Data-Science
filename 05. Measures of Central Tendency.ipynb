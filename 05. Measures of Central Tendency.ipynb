{
 "cells": [
  {
   "cell_type": "markdown",
   "metadata": {},
   "source": [
    "# Measures of central tendency\n",
    "\n",
    "The central tendency is a measure of the central value among a set of values in a dataset.\n",
    "The following are some of the measures of central tendency:  \n",
    "\n",
    "**Mean:** This is the average of values in a dataset.  \n",
    "\n",
    "**Median:** This is the middle number when the values in the dataset are arranged size-wise.  \n",
    "\n",
    "**Mode:** The most frequently occurring value in a dataset with discrete values.  \n",
    "\n",
    "**Percentile:** A percentile is a measure of the percentage of values below a particular value. The median corresponds to the 50th percentile.   \n",
    "\n",
    "**Quartile:** A quartile is a value that divides the values in an ordered dataset into four equal groups. Q1 (or the first quartile) corresponds to the 25th percentile, Q2 corresponds to the median, and Q3 corresponds to the 75th percentile."
   ]
  },
  {
   "cell_type": "code",
   "execution_count": null,
   "metadata": {},
   "outputs": [],
   "source": []
  }
 ],
 "metadata": {
  "kernelspec": {
   "display_name": "Python 3",
   "language": "python",
   "name": "python3"
  },
  "language_info": {
   "codemirror_mode": {
    "name": "ipython",
    "version": 3
   },
   "file_extension": ".py",
   "mimetype": "text/x-python",
   "name": "python",
   "nbconvert_exporter": "python",
   "pygments_lexer": "ipython3",
   "version": "3.8.3"
  }
 },
 "nbformat": 4,
 "nbformat_minor": 4
}

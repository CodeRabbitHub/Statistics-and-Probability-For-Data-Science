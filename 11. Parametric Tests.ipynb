{
 "cells": [
  {
   "cell_type": "markdown",
   "metadata": {},
   "source": [
    "# Parametric Tests"
   ]
  },
  {
   "cell_type": "markdown",
   "metadata": {},
   "source": [
    "### **One-sample test**\n",
    "This is a test used when there is only one population under consideration, and a single sample is taken to see if there is a difference between the values calculated from the sample and population parameter.\n",
    "\n",
    "### Two-sample test:  \n",
    "This is a test used when samples are taken from two different populations. It helps to assess whether the population parameters are different based on the sample parameters.\n",
    "\n",
    "### The critical test statistic\n",
    "The limiting value of the sample test statistic to decide whether or not to reject the null hypothesis\n",
    "\n",
    "### Region of rejection\n",
    "The range of values where the null hypothesis is rejected. The region of acceptance is the area corresponding to the limits where the null hypothesis holds.\n",
    "\n",
    "### Types of Tests\n",
    "\n",
    "There are Four different types of tests we will discuss : \n",
    "- ***Z-tests***. Used for large sample sizes (n=>30), and when population's standard deviation is known.\n",
    "- ***T-tests***. Used for small sample sizes (n<30), and when population's standard deviation is unknown.\n",
    "- ***F-tests***. Used for comparing values of more than two variables.\n",
    "- ***Chi-square***. Used for comparing categorical data.\n",
    "\n",
    "### One-tail test  - *Directional Test*\n",
    "The region of rejection is located on the right tail (upper one-tail) or the left tail (lower-tail) but not on both tails.\n",
    "\n",
    "+ Null: The effect is less than or equal to zero.\n",
    "+ Alternative: The effect is greater than zero.\n",
    "\n",
    "We perform a *one-tail test (upper)* using a sample from the population because we are testing if the mean score has increased. The region of rejection will be located on the right tail.\n",
    "\n",
    "We conduct a *one-tail test (lower)* using a sample from the population because we are testing if the mean score has reduced. The region of rejection is located on the left tail.\n",
    "\n",
    "\n",
    "### Two-tail test - *Non Directional Test*\n",
    "The region of rejection is located on both tails of the distribution. we will conduct a two-tail test whene we\n",
    "are just testing for a change in the mean, and we do not know if this change is positive or negative.\n",
    "\n",
    "+ Null: The effect equals zero.\n",
    "+ Alternative: The effect does not equal zero.\n",
    "\n",
    "\n",
    "The p-value is often used in hypothesis tests to decide whether or not to reject a null hypothesis. The p-value is commonly compared with a significance level of 0.05.\n",
    "\n",
    "+ If p < 0.05, it would mean that the probability that the sample data was random and not representative of the population is very low. We reject the null hypothesis in this case.\n",
    "+ If p > 0.05, there is a greater chance that this sample is not representative of the population. We fail to reject the null hypothesis in this case.\n",
    "\n",
    "![](data/hypothesis.png)"
   ]
  },
  {
   "cell_type": "markdown",
   "metadata": {},
   "source": [
    "SciPy is a Python-based library for mathematics, science, and engineering. There are many useful imports we are going to make from this module."
   ]
  },
  {
   "cell_type": "markdown",
   "metadata": {},
   "source": [
    "### cdf (cumulative distribution function) and ppf (percent point function)\n",
    "\n",
    "\n",
    "The cdf() function calculates the probability value given z-statistic while the ppf() caluculates the z-statistic given probabilty value. It is sometimes refered as inverse of cdf.\n",
    "\n",
    "To illustrate this calculation, check the below sample code. \n",
    "\n",
    "![](data/cdf_ppf.png)"
   ]
  },
  {
   "cell_type": "code",
   "execution_count": 7,
   "metadata": {},
   "outputs": [
    {
     "name": "stdout",
     "output_type": "stream",
     "text": [
      "Calculating p given z: p =  0.95\n",
      "Calculating z given p: z =  1.6448536269514722\n"
     ]
    }
   ],
   "source": [
    "from scipy.stats import norm\n",
    "\n",
    "z = 1.6448536269514722\n",
    "p = 0.95\n",
    "\n",
    "print(\"Calculating p given z: p = \", norm.cdf(z))\n",
    "print(\"Calculating z given p: z = \", norm.ppf(p))"
   ]
  },
  {
   "cell_type": "code",
   "execution_count": null,
   "metadata": {},
   "outputs": [],
   "source": []
  }
 ],
 "metadata": {
  "kernelspec": {
   "display_name": "Python 3",
   "language": "python",
   "name": "python3"
  },
  "language_info": {
   "codemirror_mode": {
    "name": "ipython",
    "version": 3
   },
   "file_extension": ".py",
   "mimetype": "text/x-python",
   "name": "python",
   "nbconvert_exporter": "python",
   "pygments_lexer": "ipython3",
   "version": "3.8.8"
  }
 },
 "nbformat": 4,
 "nbformat_minor": 4
}

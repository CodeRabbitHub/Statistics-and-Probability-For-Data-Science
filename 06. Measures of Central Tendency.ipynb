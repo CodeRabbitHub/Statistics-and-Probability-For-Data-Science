{
 "cells": [
  {
   "cell_type": "markdown",
   "metadata": {},
   "source": [
    "# Introduction to Measures of Central Tendency\n",
    "## Overview\n",
    "The central tendency refers to the typical value or central value of a dataset. It is used to summarize and describe a set of values in a way that provides a meaningful representation of the data. There are several measures of central tendency, including mean, median, mode, percentile, and quartile.\n",
    "\n",
    "### Mean\n",
    "The mean is the average value of a dataset. It is calculated by adding up all the values in a dataset and dividing by the number of values.\n",
    "\n",
    "### Properties of Mean\n",
    "- The sum of deviations of the items from their arithmetic mean is always zero, i.e. $∑(x – \\overline x) = 0.$\n",
    "- The sum of the squared deviations of the items from Arithmetic Mean (A.M) is minimum, which is less than the sum of the squared deviations of the items from any other values.\n",
    "- If each item in the arithmetic series is substituted by the mean, then the sum of these replacements will be equal to the sum of the specific items.\n",
    "- It is influenced by the value of every item in the series.\n",
    "- It is a measured value and not based on the position in the series.\n",
    "- It is changed by extreme items such as very small and very large items. i.e. sensitive to outliers.\n",
    "- It can rarely be identified by inspection.\n",
    "- In some cases, A.M. does not represent the original item. For example, average patients admitted to a hospital are 10.7 per day.\n",
    "- The arithmetic mean is not suitable in extremely asymmetrical distributions.\n",
    "\n",
    "### Median\n",
    "The median is the middle value of a dataset when the values are arranged in size order. It represents the 50th percentile of the values.\n",
    "\n",
    "### Properties of Median\n",
    "- Median is not dependent on all the data values in a dataset.\n",
    "- The median value is fixed by its position and is not reflected by the individual value.\n",
    "- The distance between the median and the rest of the values is less than the distance from any other point.\n",
    "- Every array has a single median.\n",
    "- Median cannot be manipulated algebraically. It cannot be weighed and combined.\n",
    "- n a grouping procedure, the median is stable.\n",
    "- Median is not applicable to qualitative data.\n",
    "- The values must be grouped and ordered for computation.\n",
    "- Median can be determined for ratio, interval and ordinal scale.\n",
    "- Outliers and skewed data have less impact on the median.\n",
    "- If the distribution is skewed, the median is a better measure when compared to mean.\n",
    "\n",
    "### Mode\n",
    "The mode is the most frequently occurring value in a dataset with discrete values.\n",
    "\n",
    "### Properties of Mode\n",
    "- The mode is used when the most typical case is desired.\n",
    "- The mode can be used when the data are nominal or categorical, such as religious preference, gender, or political affiliation.\n",
    "- The mode is not always unique. A data set can have more than one mode, or the mode may not exist for a data set.\n",
    "\n",
    "### Percentile\n",
    "A percentile is a measure of the percentage of values below a particular value. The median corresponds to the 50th percentile.\n",
    "\n",
    "### Quartile\n",
    "A quartile is a value that divides the values in an ordered dataset into four equal groups. $Q_1$ (or the first quartile) corresponds to the 25th percentile, $Q_2$ corresponds to the median, and $Q_3$ corresponds to the 75th percentile."
   ]
  },
  {
   "cell_type": "code",
   "execution_count": null,
   "metadata": {},
   "outputs": [],
   "source": []
  }
 ],
 "metadata": {
  "kernelspec": {
   "display_name": "Python 3 (ipykernel)",
   "language": "python",
   "name": "python3"
  },
  "language_info": {
   "codemirror_mode": {
    "name": "ipython",
    "version": 3
   },
   "file_extension": ".py",
   "mimetype": "text/x-python",
   "name": "python",
   "nbconvert_exporter": "python",
   "pygments_lexer": "ipython3",
   "version": "3.9.15"
  }
 },
 "nbformat": 4,
 "nbformat_minor": 4
}

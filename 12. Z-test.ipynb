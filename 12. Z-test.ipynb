{
 "cells": [
  {
   "cell_type": "markdown",
   "id": "7865f8f8-b588-40d3-8838-b4aed0b33c8b",
   "metadata": {},
   "source": [
    "# Z-Test\n",
    "\n",
    "## One-Sample Z-Test\n",
    "\n",
    "A one-sample Z-test is utilized to evaluate if the mean of a single sample differs from a known or hypothesized population mean. Several criteria must be fulfilled for a one-sample Z-test:\n",
    "\n",
    "- The population from which the sample is drawn follows a normal distribution.\n",
    "- The sample size exceeds 30.\n",
    "- Only one sample is obtained.\n",
    "- The hypothesis concerns the population mean.\n",
    "- The population standard deviation is known.\n",
    "\n",
    "The test statistic is computed using the formula:\n",
    "\n",
    "$$ z = \\frac {(\\overline x - \\mu)}{\\frac{\\sigma}{\\sqrt n}}$$\n",
    "\n",
    "where $x$ denotes the sample mean, $\\mu$ represents the population mean, $\\sigma$ stands for the population standard deviation, and $n$ is the sample size.\n",
    "\n",
    "## One-Sample Z-Test: One-Tail\n",
    "\n",
    "Suppose we have a pizza delivery shop with a historical average delivery time of 45 minutes and a standard deviation of 5 minutes. However, due to recent customer complaints, the shop decides to analyze the delivery time of the last 40 orders, revealing an average delivery time of 48 minutes. We aim to ascertain if the new mean significantly exceeds the population mean.\n",
    "\n",
    "The null hypothesis ($H_0$) posits that the mean delivery time equals 45 minutes: $\\mu = 45$. The alternative hypothesis ($H_1$) suggests that the mean delivery time surpasses 45 minutes: $\\mu > 45$. Let's adopt a significance level of $\\alpha = 0.05$. In this scenario, the region of rejection will be situated on the right tail."
   ]
  },
  {
   "cell_type": "code",
   "execution_count": 1,
   "id": "f793d2d7",
   "metadata": {},
   "outputs": [
    {
     "name": "stdout",
     "output_type": "stream",
     "text": [
      "3.7947331922020555\n"
     ]
    }
   ],
   "source": [
    "z = (48-45)/(5/(40)**0.5)\n",
    "print(z)"
   ]
  },
  {
   "cell_type": "code",
   "execution_count": 2,
   "id": "d4c5f52e",
   "metadata": {},
   "outputs": [
    {
     "name": "stdout",
     "output_type": "stream",
     "text": [
      "7.390115516725526e-05\n"
     ]
    }
   ],
   "source": [
    "import scipy.stats as stats\n",
    "p_value = 1 - stats.norm.cdf(z) # cumulative distribution function\n",
    "print(p_value)"
   ]
  },
  {
   "cell_type": "markdown",
   "id": "6de1de5f-bf69-49d6-bb50-b81aa5b3806b",
   "metadata": {},
   "source": [
    "Since the p-value is less than $\\alpha$, we reject the null hypothesis. There is a significant difference, at a level of 0.05, between the average delivery time of the sample and the historical population average."
   ]
  },
  {
   "cell_type": "markdown",
   "id": "005271aa-ffa0-4d34-8d67-3df03d2bb55e",
   "metadata": {},
   "source": [
    "## One-Sample Z-Test: Two-Tail\n",
    "\n",
    "Suppose we aim to investigate whether a drug has an impact on IQ. In this scenario, we opt for a two-tail test because we're interested in determining whether the drug affects IQ, regardless of whether it has a positive or negative effect.\n",
    "\n",
    "Given a significance level of $\\alpha = 0.05$, our rejection regions are 0.025 on both the right and left tails.\n",
    "\n",
    "Assuming our population mean $\\mu = 100$ and population standard deviation $\\sigma = 15$, we conduct a study involving a sample of 100 subjects. Upon analysis, we discover that the mean IQ of the sample is 96."
   ]
  },
  {
   "cell_type": "code",
   "execution_count": 3,
   "id": "d3823b16",
   "metadata": {},
   "outputs": [
    {
     "name": "stdout",
     "output_type": "stream",
     "text": [
      "statistic:  2.6667\n"
     ]
    }
   ],
   "source": [
    "z = (100-96)/(15/(100**0.5))\n",
    "print(\"statistic: \", round(z, 4))"
   ]
  },
  {
   "cell_type": "code",
   "execution_count": 4,
   "id": "24e9f7e6",
   "metadata": {},
   "outputs": [
    {
     "name": "stdout",
     "output_type": "stream",
     "text": [
      "Critical: 1.96\n"
     ]
    }
   ],
   "source": [
    "import scipy.stats as stats\n",
    "critical = stats.norm.ppf(1-0.025) # cumulative distribution function\n",
    "print(\"Critical:\", round(critical, 4))"
   ]
  },
  {
   "cell_type": "markdown",
   "id": "d9863311-a166-4e95-8aed-e9069f79b69b",
   "metadata": {},
   "source": [
    "Since our test statistic is greater than the critical statistic, we conclude that our drug has a significant influence on IQ values at a criterion level of $\\alpha = 0.05$."
   ]
  },
  {
   "cell_type": "markdown",
   "id": "0d572e80-ee20-4009-90d3-535f3c1b84e3",
   "metadata": {},
   "source": [
    "## Two-Sample Z-Test\n",
    "\n",
    "A two-sample z-test is similar to a one-sample z-test, with the main differences being:\n",
    "\n",
    "- There are two groups/populations under consideration, and we draw one sample from each population.\n",
    "- Both population distributions are assumed to be normal.\n",
    "- Both population standard deviations are known.\n",
    "- The formula for calculating the test statistic is:\n",
    "\n",
    "$$z = \\frac{\\overline{x}_1 - \\overline{x}_2} {\\sqrt{\\frac{\\sigma_1^2}{n_1} + \\frac{\\sigma_2^2}{n_2}}}$$\n",
    "\n",
    "An organization manufactures LED bulbs in two production units, A and B. The quality control team believes that the quality of production at unit A is better than that of B. Quality is measured by how long a bulb works. The team takes samples from both units to test this. The mean life of LED bulbs at units A and B are 1001.3 and 810.47, respectively. The sample sizes are 40 and 44. The population variances are known: $\\sigma_A^2 = 48127$ and $\\sigma_B^2 = 59173$.\n",
    "\n",
    "Conduct the appropriate test, at a 5% significance level, to verify the claim of the quality control team.\n",
    "\n",
    "**Null hypothesis:** $H_0: \\mu_A ≤ \\mu_B$  \n",
    "**Alternate hypothesis:** $H_1: \\mu_A > \\mu_B$\n",
    "\n",
    "Let's fix the level of significance at $\\alpha = 0.05$."
   ]
  },
  {
   "cell_type": "code",
   "execution_count": 5,
   "id": "3373712a",
   "metadata": {},
   "outputs": [
    {
     "name": "stdout",
     "output_type": "stream",
     "text": [
      "3.781260568723408\n"
     ]
    }
   ],
   "source": [
    "z = (1001.34-810.47)/(48127/40+59173/44)**0.5\n",
    "print(z)"
   ]
  },
  {
   "cell_type": "code",
   "execution_count": 6,
   "id": "451853c0",
   "metadata": {},
   "outputs": [
    {
     "data": {
      "text/plain": [
       "7.801812433294586e-05"
      ]
     },
     "execution_count": 6,
     "metadata": {},
     "output_type": "execute_result"
    }
   ],
   "source": [
    "import scipy.stats as stats\n",
    "p_value = 1 - stats.norm.cdf(z)\n",
    "p_value"
   ]
  },
  {
   "cell_type": "markdown",
   "id": "91602877-326c-4234-b084-e921956a04f1",
   "metadata": {},
   "source": [
    "p-value (0.000078)<$\\alpha$(0.05), we reject the null hypothesis. The LED bulbs produced at unit A have a significantly longer life than those at unit B, at a 5% level."
   ]
  },
  {
   "cell_type": "markdown",
   "id": "6a69211a-90c3-4156-bc49-a1ae0479609f",
   "metadata": {},
   "source": [
    "## Hypothesis Tests with Proportions\n",
    "\n",
    "Proportion tests are utilized with nominal data and are effective for comparing percentages or proportions. For instance, a survey collecting responses from a department in an organization might claim that 85% of people in the organization are satisfied with its policies. Historically, the satisfaction rate has been 82%. Here, we compare a percentage or proportion taken from the sample with a percentage/proportion from the population. The following are some characteristics of the sampling distribution of proportions:\n",
    "\n",
    "- The sampling distribution of the proportions taken from the sample is approximately normal.\n",
    "- The mean of this sampling distribution ($\\overline{p}$) equals the population proportion ($p$).\n",
    "- Calculating the test statistic: The following equation gives the $z$-value:\n",
    "\n",
    "$$ z = \\frac{\\overline{p} - p}{\\sqrt{\\frac{p(1-p)}{n}}} $$\n",
    "\n",
    "Where $\\overline{p}$ is the sample proportion, $p$ is the population proportion, and $n$ is the sample size."
   ]
  },
  {
   "cell_type": "markdown",
   "id": "df341e54-8cbf-40ad-8317-5b8a59f2e79e",
   "metadata": {},
   "source": [
    "## One-Sample Proportion Z-Test\n",
    "\n",
    "It is known that 40% of the total customers are satisfied with the services provided by a mobile service center. The customer service department of this center decides to conduct a survey for assessing the current customer satisfaction rate. It surveys 100 of its customers and finds that only 30 out of the 100 customers are satisfied with its services. Conduct a hypothesis test at a 5% significance level to determine if the percentage of satisfied customers has reduced from the initial satisfaction level (40%).\n",
    "\n",
    "**Null Hypothesis:** $H_0: p = 0.4$  \n",
    "**Alternate Hypothesis:** $H_1: p < 0.4$\n",
    "\n",
    "The < sign indicates a lower-tail test.\n",
    "\n",
    "Let's fix the level of significance at $\\alpha = 0.05$."
   ]
  },
  {
   "cell_type": "code",
   "execution_count": 7,
   "id": "088856d4",
   "metadata": {},
   "outputs": [
    {
     "data": {
      "text/plain": [
       "-2.041241452319316"
      ]
     },
     "execution_count": 7,
     "metadata": {},
     "output_type": "execute_result"
    }
   ],
   "source": [
    "z=(0.3-0.4)/((0.4)*(1-0.4)/100)**0.5\n",
    "z"
   ]
  },
  {
   "cell_type": "code",
   "execution_count": 8,
   "id": "f369ef9c",
   "metadata": {},
   "outputs": [
    {
     "data": {
      "text/plain": [
       "0.02061341666858179"
      ]
     },
     "execution_count": 8,
     "metadata": {},
     "output_type": "execute_result"
    }
   ],
   "source": [
    "import scipy.stats as stats\n",
    "\n",
    "p=stats.norm.cdf(z)\n",
    "p"
   ]
  },
  {
   "cell_type": "markdown",
   "id": "7eb16578-2f61-4d3f-b7cc-88ee9bfd0435",
   "metadata": {},
   "source": [
    "p-value (0.02) < 0.05. We reject the null hypothesis. At a 5% significance level, the percentage of customers satisfied with the service center’s services has reduced."
   ]
  },
  {
   "cell_type": "markdown",
   "id": "f627ba1c-9a49-4b8d-8cd4-09a4c07be810",
   "metadata": {},
   "source": [
    "## Two-Sample Proportion Z-Test\n",
    "\n",
    "Here, we compare proportions taken from two independent samples belonging to two different populations. The following equation gives the formula for the critical test statistic:\n",
    "\n",
    "$$ z = \\frac {(\\overline{p}_1 - \\overline{p}_2)}{\\sqrt{\\frac{p_c(1-p_c)}{N_1} + \\frac{p_c(1-p_c)}{N_2}}}$$\n",
    "\n",
    "In the preceding formula, $\\overline{p}_1$ is the proportion from the first sample, and $\\overline{p}_2$ is the proportion from the second sample. $N_1$ is the sample size of the first sample, and $N_2$ is the sample size of the second sample. $p_c$ is the pooled variance.\n",
    "\n",
    "$$\\overline{p}_1 = \\frac{x_1}{N_1} ;  \\overline{p}_2 = \\frac {x_2}{N_2} ;  p_c = \\frac {x_1 + x_2}{N_1 + N_2}$$\n",
    "\n",
    "In the preceding formula, $x_1$ is the number of successes in the first sample, and $x_2$ is the number of successes in the second sample."
   ]
  },
  {
   "cell_type": "markdown",
   "id": "59ed178e-be77-4330-9d99-eb33778a0c59",
   "metadata": {},
   "source": [
    "## Investigation of Passenger Compliance with Child Safety Guidelines\n",
    "\n",
    "A ride-sharing company is investigating complaints by its drivers regarding passenger compliance with child safety guidelines, specifically concerning the use of child seats and seat belts. Surveys were independently conducted in two major cities, A and B, to gather data on passenger compliance. The company aims to determine if there is a difference in the proportion of passengers conforming to child safety guidelines between the two cities. The data for the two cities is summarized in the following table:\n",
    "\n",
    "|                 |  City A | City B |\n",
    "|-----------------|---------|--------|\n",
    "|  Total surveyed |  200    | 230    |\n",
    "| No. of complaints |  110    | 106    |\n",
    "\n",
    "The law enforcement authority seeks to evaluate if the proportion of compliant passengers differs significantly between City A and City B."
   ]
  },
  {
   "cell_type": "markdown",
   "id": "f3d2af18-91a7-407c-8d46-8d28ae426ce1",
   "metadata": {},
   "source": [
    "## Hypotheses for Two-Sample Proportion Test\n",
    "\n",
    "For the two-sample proportion test comparing compliance rates between City A and City B:\n",
    "\n",
    "- Null hypothesis: $H_0: p_A = p_B$\n",
    "- Alternative hypothesis: $H_1: p_A \\neq p_B$\n",
    "\n",
    "This constitutes a two-tail test because the region of rejection could be located on either side.\n",
    "\n",
    "The significance level $\\alpha$ is set at 0.05, resulting in an area of 0.025 on both sides."
   ]
  },
  {
   "cell_type": "code",
   "execution_count": 9,
   "id": "a5054442",
   "metadata": {},
   "outputs": [
    {
     "data": {
      "text/plain": [
       "1.8437643201697864"
      ]
     },
     "execution_count": 9,
     "metadata": {},
     "output_type": "execute_result"
    }
   ],
   "source": [
    "x1,n1,x2,n2=110,200,106,230\n",
    "p1=x1/n1\n",
    "p2=x2/n2\n",
    "pc=(x1+x2)/(n1+n2)\n",
    "z_statistic=(p1-p2)/(((pc*(1-pc)/n1)+(pc*(1-pc)/n2))**0.5)\n",
    "z_statistic"
   ]
  },
  {
   "cell_type": "code",
   "execution_count": 10,
   "id": "03472547",
   "metadata": {},
   "outputs": [
    {
     "data": {
      "text/plain": [
       "1.959963984540054"
      ]
     },
     "execution_count": 10,
     "metadata": {},
     "output_type": "execute_result"
    }
   ],
   "source": [
    "critical = stats.norm.ppf(1-0.025)\n",
    "critical"
   ]
  },
  {
   "cell_type": "code",
   "execution_count": 11,
   "id": "18ac0c29",
   "metadata": {},
   "outputs": [
    {
     "data": {
      "text/plain": [
       "1.9587731666628365"
      ]
     },
     "execution_count": 11,
     "metadata": {},
     "output_type": "execute_result"
    }
   ],
   "source": [
    "p_value =2*(1-stats.norm.cdf(z))\n",
    "p_value"
   ]
  },
  {
   "cell_type": "markdown",
   "id": "615b4141",
   "metadata": {},
   "source": [
    "## Conclusion of Two-Sample Proportion Test\r\n",
    "\r\n",
    "Based on the statistical analysis:\r\n",
    "\r\n",
    "- Since the test statistic is less than the critical value, or the p-value is greater than 0.05, we fail to reject the null hypothesis.\r\n",
    "- Therefore, there is no significant difference between the proportion of passengers in these cities complying with child safety norms, at a 5% significance level.\r\n"
   ]
  },
  {
   "cell_type": "code",
   "execution_count": null,
   "id": "f1ca0ba9",
   "metadata": {},
   "outputs": [],
   "source": []
  }
 ],
 "metadata": {
  "kernelspec": {
   "display_name": "Python 3 (ipykernel)",
   "language": "python",
   "name": "python3"
  },
  "language_info": {
   "codemirror_mode": {
    "name": "ipython",
    "version": 3
   },
   "file_extension": ".py",
   "mimetype": "text/x-python",
   "name": "python",
   "nbconvert_exporter": "python",
   "pygments_lexer": "ipython3",
   "version": "3.11.7"
  }
 },
 "nbformat": 4,
 "nbformat_minor": 5
}

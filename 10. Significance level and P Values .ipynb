{
 "cells": [
  {
   "cell_type": "markdown",
   "metadata": {},
   "source": [
    "### **Significance Level (Alpha)**\n",
    "\n",
    "The significance level defines how strong the sample evidence must be to conclude an effect exists in the population.\n",
    "The significance level, also known as alpha or $\\alpha$, is an evidentiary standard that researchers set before the study. It specifies how strongly the sample evidence must contradict the null hypothesis before you can reject the null for the entire population.  \n",
    "\n",
    "This standard is defined by the probability of rejecting a true null hypothesis. In other words, it is the probability that you say there is an effect when there is no effect. Lower significance levels indicate that you require more substantial evidence before you will reject the null. For instance, a significance level of 0.05 signifies a 5% risk of deciding\n",
    "that an effect exists when it does not exist."
   ]
  },
  {
   "cell_type": "markdown",
   "metadata": {},
   "source": [
    "### **P-values**\n",
    "\n",
    "P-values indicate the strength of the sample evidence against the null hypothesis. If it is less than the significance level, your results are statistically significant. P-values are the probability that you would obtain the effect observed in your sample, or larger, if the null hypothesis is correct. In simpler terms, p-values tell you how strongly your sample data contradict the null. Lower p-values represent stronger evidence against the null.\n",
    "If the p-value is less than or equal to the significance level, you reject the null hypothesis and your results are statistically significant. The data support the alternative hypothesis that the effect exists in the population. When the p-value is greater than the significance level, your sample data don’t provide enough evidence to conclude that the\n",
    "effect exists.\n",
    "\n",
    "Here’s the statistical terminology for these decisions.\n",
    "+ When the p-value is less than or equal to the significance level, you reject the null hypothesis.\n",
    "+ When the p-value is greater than the significance level, you fail to reject the null hypothesis."
   ]
  },
  {
   "cell_type": "code",
   "execution_count": null,
   "metadata": {},
   "outputs": [],
   "source": []
  }
 ],
 "metadata": {
  "kernelspec": {
   "display_name": "Python 3",
   "language": "python",
   "name": "python3"
  },
  "language_info": {
   "codemirror_mode": {
    "name": "ipython",
    "version": 3
   },
   "file_extension": ".py",
   "mimetype": "text/x-python",
   "name": "python",
   "nbconvert_exporter": "python",
   "pygments_lexer": "ipython3",
   "version": "3.8.3"
  }
 },
 "nbformat": 4,
 "nbformat_minor": 4
}

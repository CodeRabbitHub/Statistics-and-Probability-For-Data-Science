{
 "cells": [
  {
   "cell_type": "markdown",
   "metadata": {},
   "source": [
    "# Parametric Tests\n",
    "\n",
    "Parametric tests are statistical tools predicated on the assumption that the data adheres to a normal distribution. They facilitate inferences about population parameters based on sampled data.\n",
    "\n",
    "## One-Sample Test\n",
    "\n",
    "A one-sample test is employed when there's a single population of interest, and a solitary sample is extracted from it. It evaluates whether there's a notable discrepancy between the sample values and the population parameter.\n",
    "\n",
    "## Two-Sample Test\n",
    "\n",
    "The two-sample test enters the picture when samples are drawn from two distinct populations. It gauges whether the population parameters diverge significantly based on the sample statistics.\n",
    "\n",
    "## Critical Test Statistic\n",
    "\n",
    "The critical test statistic denotes the threshold value of the sample test statistic pivotal in discerning whether to embrace or repudiate the null hypothesis.\n",
    "\n",
    "## Region of Rejection\n",
    "\n",
    "The region of rejection delineates the spectrum of values wherein the null hypothesis is discarded. Conversely, the region of acceptance encompasses values where the null hypothesis holds sway.\n",
    "\n",
    "## Types of Tests\n",
    "\n",
    "Several types of tests are at our disposal:\n",
    "\n",
    "+ **Z-tests**: Apt for ample sample sizes (n ≥ 30) with a known population standard deviation.\n",
    "+ **T-tests**: Tailored for modest sample sizes (n < 30) with an unknown population standard deviation.\n",
    "+ **F-tests**: Tasked with comparing values across more than two variables.\n",
    "+ **Chi-square**: Devised for the comparison of categorical data.\n",
    "\n",
    "## One-Tail Test (Directional Test)\n",
    "\n",
    "A one-tail test enters the fray when probing for a change in the mean, armed with the knowledge of the change's direction.  \n",
    "\n",
    "Two iterations of the one-tail test exist:\n",
    "\n",
    "+ **Upper one-tail**: The region of rejection resides on the right tail. It's invoked when scrutinizing whether the mean score has surged.\n",
    "+ **Lower one-tail**: The region of rejection graces the left tail. It's enlisted when assessing if the mean score has plummeted.\n",
    "\n",
    "## Two-Tail Test (Non-Directional Test)\n",
    "\n",
    "The two-tail test is deployed when scrutinizing a change in the mean sans knowledge of the direction. The region of rejection spans both tails of the distribution.\n",
    "\n",
    "## The P-value\n",
    "\n",
    "The p-value is the linchpin in deciding whether to embrace or eschew the null hypothesis. It's computed based on the sample data and juxtaposed with a significance level, usually 0.05. \n",
    "+ If p < 0.05, it intimates that the sample data is improbable to stem from randomness and doesn't mirror the population adequately. In such instances, the null hypothesis is jettisoned. \n",
    "+ If p > 0.05, it implies a heightened likelihood that the sample inadequately represents the population, prompting the null hypothesis's retention\n",
    "\n",
    "\n",
    "\n",
    "  <center><img src=\"./data/hypothesis.png\"/></center>"
   ]
  },
  {
   "cell_type": "code",
   "execution_count": 1,
   "metadata": {},
   "outputs": [
    {
     "name": "stdout",
     "output_type": "stream",
     "text": [
      "Calculating p given z: p =  0.95\n",
      "Calculating z given p: z =  1.6448536269514722\n"
     ]
    }
   ],
   "source": [
    "from scipy.stats import norm\n",
    "\n",
    "z = 1.6448536269514722\n",
    "p = 0.95\n",
    "\n",
    "print(\"Calculating p given z: p = \", norm.cdf(z))\n",
    "print(\"Calculating z given p: z = \", norm.ppf(p))"
   ]
  },
  {
   "cell_type": "markdown",
   "metadata": {},
   "source": [
    "# Choosing a statistical test?\n",
    "\n",
    "Below is a simple diagram which shows how to choose a test depending on different data types.\n",
    "\n",
    "\n",
    "<center><img src=\"./data/a1.png\"/></center>\n"
   ]
  },
  {
   "cell_type": "code",
   "execution_count": null,
   "metadata": {},
   "outputs": [],
   "source": []
  }
 ],
 "metadata": {
  "kernelspec": {
   "display_name": "Python 3 (ipykernel)",
   "language": "python",
   "name": "python3"
  },
  "language_info": {
   "codemirror_mode": {
    "name": "ipython",
    "version": 3
   },
   "file_extension": ".py",
   "mimetype": "text/x-python",
   "name": "python",
   "nbconvert_exporter": "python",
   "pygments_lexer": "ipython3",
   "version": "3.11.7"
  }
 },
 "nbformat": 4,
 "nbformat_minor": 4
}

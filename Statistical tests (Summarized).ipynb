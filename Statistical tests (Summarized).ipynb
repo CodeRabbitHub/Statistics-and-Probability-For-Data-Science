{
 "cells": [
  {
   "cell_type": "markdown",
   "metadata": {
    "_uuid": "96f599ec12693ae56a55e0c1884b3f6ebc6bc825",
    "id": "HrWEQcATI3em",
    "toc": true
   },
   "source": [
    "<h1>Table of Contents<span class=\"tocSkip\"></span></h1>\n",
    "<div class=\"toc\"><ul class=\"toc-item\"><li><span><a href=\"#Introduction\" data-toc-modified-id=\"Introduction-1\"><span class=\"toc-item-num\">1&nbsp;&nbsp;</span>Introduction</a></span></li><li><span><a href=\"#Theory\" data-toc-modified-id=\"Theory-2\"><span class=\"toc-item-num\">2&nbsp;&nbsp;</span>Theory</a></span><ul class=\"toc-item\"><li><span><a href=\"#The-process\" data-toc-modified-id=\"The-process-2.1\"><span class=\"toc-item-num\">2.1&nbsp;&nbsp;</span>The process</a></span></li><li><span><a href=\"#Two-tailed-and-One-tailed\" data-toc-modified-id=\"Two-tailed-and-One-tailed-2.2\"><span class=\"toc-item-num\">2.2&nbsp;&nbsp;</span>Two-tailed and One-tailed</a></span></li><li><span><a href=\"#Types-of-tests\" data-toc-modified-id=\"Types-of-tests-2.3\"><span class=\"toc-item-num\">2.3&nbsp;&nbsp;</span>Types of tests</a></span></li><li><span><a href=\"#Normal-distribution\" data-toc-modified-id=\"Normal-distribution-2.4\"><span class=\"toc-item-num\">2.4&nbsp;&nbsp;</span>Normal distribution</a></span></li></ul></li><li><span><a href=\"#Practice\" data-toc-modified-id=\"Practice-3\"><span class=\"toc-item-num\">3&nbsp;&nbsp;</span>Practice</a></span><ul class=\"toc-item\"><li><span><a href=\"#One-sample-T-test-|-Two-tailed-|-Means\" data-toc-modified-id=\"One-sample-T-test-|-Two-tailed-|-Means-3.1\"><span class=\"toc-item-num\">3.1&nbsp;&nbsp;</span>One sample T-test | Two-tailed | Means</a></span></li><li><span><a href=\"#One-sample-T-test-|-One-tailed-|-Means\" data-toc-modified-id=\"One-sample-T-test-|-One-tailed-|-Means-3.2\"><span class=\"toc-item-num\">3.2&nbsp;&nbsp;</span>One sample T-test | One-tailed | Means</a></span></li><li><span><a href=\"#Two-sample-T-test-|-Two-tailed-|-Means\" data-toc-modified-id=\"Two-sample-T-test-|-Two-tailed-|-Means-3.3\"><span class=\"toc-item-num\">3.3&nbsp;&nbsp;</span>Two sample T-test | Two-tailed | Means</a></span></li><li><span><a href=\"#Two-sample-T-test-|-One-tailed-|-Means\" data-toc-modified-id=\"Two-sample-T-test-|-One-tailed-|-Means-3.4\"><span class=\"toc-item-num\">3.4&nbsp;&nbsp;</span>Two sample T-test | One-tailed | Means</a></span></li><li><span><a href=\"#Two-sample-Z-test-|-One-tailed-|-Means\" data-toc-modified-id=\"Two-sample-Z-test-|-One-tailed-|-Means-3.5\"><span class=\"toc-item-num\">3.5&nbsp;&nbsp;</span>Two sample Z-test | One-tailed | Means</a></span></li><li><span><a href=\"#Two-sample-Z-test-|-One-tailed-|-Proportions\" data-toc-modified-id=\"Two-sample-Z-test-|-One-tailed-|-Proportions-3.6\"><span class=\"toc-item-num\">3.6&nbsp;&nbsp;</span>Two sample Z-test | One-tailed | Proportions</a></span></li><li><span><a href=\"#One-sample-Z-test-|-One-tailed-|-Means\" data-toc-modified-id=\"One-sample-Z-test-|-One-tailed-|-Means-3.7\"><span class=\"toc-item-num\">3.7&nbsp;&nbsp;</span>One sample Z-test | One-tailed | Means</a></span></li><li><span><a href=\"#One-sample-Z-test-|-One-tailed-|-Proportions\" data-toc-modified-id=\"One-sample-Z-test-|-One-tailed-|-Proportions-3.8\"><span class=\"toc-item-num\">3.8&nbsp;&nbsp;</span>One sample Z-test | One-tailed | Proportions</a></span></li><li><span><a href=\"#F-test-(ANOVA)\" data-toc-modified-id=\"F-test-(ANOVA)-3.9\"><span class=\"toc-item-num\">3.9&nbsp;&nbsp;</span>F-test (ANOVA)</a></span></li><li><span><a href=\"#Chi-square-test\" data-toc-modified-id=\"Chi-square-test-3.10\"><span class=\"toc-item-num\">3.10&nbsp;&nbsp;</span>Chi-square test</a></span></li></ul></li><li><span><a href=\"#Conclusion\" data-toc-modified-id=\"Conclusion-4\"><span class=\"toc-item-num\">4&nbsp;&nbsp;</span>Conclusion</a></span></li></ul></div>"
   ]
  },
  {
   "cell_type": "markdown",
   "metadata": {
    "_uuid": "4a3d407a0392209906311825583538807072ed5d",
    "id": "WVkukB_uI3fa"
   },
   "source": [
    "Let's say we are planning to move to Ames, Iowa, with a $120 000 budget to buy a house. We have no idea about the real estate market in the city. However the City Hall owns a precious piece of information : the House Price Dataset. It contains about 1500 lines of data about houses in the city, with attributes like Sale Price, Living Area, Garage Type, etc. The bad news is we can not access the entire database, it is too expensive. The good news is the City Hall proposes some samples : free for up to 25 observations, with a small fee for up to 100 observations. So we'll make use of this great offer to know a bit more about the real estate market, and understand what we can get for our money. And guess what? This is will be a good way to go through statistical tests. Note that we won't go too much into the theory here. This notebooks main goal is to have an overview of which statistical tests to use depending on the situation faced, and how to use them."
   ]
  },
  {
   "cell_type": "code",
   "execution_count": 1,
   "metadata": {
    "_uuid": "685178bd8439921232c40ae2bb4218401deb360f",
    "id": "iNhM9iVfI3ff"
   },
   "outputs": [],
   "source": [
    "import pandas as pd\n",
    "pd.set_option('max_colwidth', 200)\n",
    "pd.set_option('display.float_format', lambda x: '%.3f' % x)\n",
    "from statsmodels.stats.weightstats import *\n",
    "import scipy.stats"
   ]
  },
  {
   "cell_type": "code",
   "execution_count": 2,
   "metadata": {
    "id": "skFhcwVYLFdH"
   },
   "outputs": [],
   "source": [
    "#this is the entire dataset, but we'll only be able to use to extract samples from it.\n",
    "FILE_PATH = 'data/house-prices-advanced-regression-techniques/train.csv'\n",
    "city_hall_dataset = pd.read_csv(FILE_PATH)"
   ]
  },
  {
   "cell_type": "markdown",
   "metadata": {
    "_uuid": "95f4ee7982692fb0a348652a2bea034fcfaae251",
    "id": "LxaQeafsI3fi"
   },
   "source": [
    "# Introduction"
   ]
  },
  {
   "cell_type": "markdown",
   "metadata": {
    "_uuid": "c1606d0ab5c78dcc772f9d1e91daad2fa1ed5933",
    "id": "4ZEVAOUxI3fj"
   },
   "source": [
    "# Theory"
   ]
  },
  {
   "cell_type": "markdown",
   "metadata": {
    "_uuid": "36671356d539ae67d27d451ae71f3c595e139948",
    "id": "7A4lcRIRI3fk"
   },
   "source": [
    "What we will be trying to do in this tutorial is make assumptions on the whole population of houses based only on the samples at our disposal.<br>\n",
    "This is what statistical tests do, but one must know a few principles before using them."
   ]
  },
  {
   "cell_type": "markdown",
   "metadata": {
    "_uuid": "698cfbf57cd980f9e0f558eb2e1206a601742dd3",
    "id": "fmT5a95OI3fl"
   },
   "source": [
    "## The process"
   ]
  },
  {
   "cell_type": "markdown",
   "metadata": {
    "_uuid": "03287c60f935631f22c13a14d86e233c2fcd47d7",
    "id": "PMc5uv87I3fm"
   },
   "source": [
    "The basic process of statistical tests is the following : \n",
    "- Stating a Null Hypothesis (most often : \"the two values are not different\")\n",
    "- Stating an Alternative Hypothesis (most often : \"the two values are different\")\n",
    "- Defining an alpha value, which is a confidence level (most often : 95%). The higher it is, the harder it will be to validate the Alternative Hypothesis, but the more confident we will be if we do validate it.\n",
    "- Depending on data at disposal, we choose the relevant test (Z-test, T-test, etc... More on that later)\n",
    "- The test computes a score, which corresponds to a p-value.\n",
    "- If p-value is below 1-alpha (0.05 if alpha is 95%), we can accept the Alternative Hypothesis (or \"reject the Null Hypothesis\"). If it is over, we'll have to stick with the Null Hypothesis (or \"fail to reject the Null Hypothesis\").\n",
    "\n",
    "\n",
    "There's a built-in function for most statistical tests out there.<br>\n",
    "Let's also build our own function to summarize all the information.<br>\n",
    "All tests we will conduct from now on are based on alpha = 95%."
   ]
  },
  {
   "cell_type": "code",
   "execution_count": 3,
   "metadata": {
    "_uuid": "781566a3f1a8b9465fad0818f57c86d9be026780",
    "id": "rMy2j0kGI3fo"
   },
   "outputs": [],
   "source": [
    "def results(p):\n",
    "    if(p['p_value']<0.05):p['hypothesis_accepted'] = 'alternative'\n",
    "    if(p['p_value']>=0.05):p['hypothesis_accepted'] = 'null'\n",
    "\n",
    "    df = pd.DataFrame(p, index=[''])\n",
    "    cols = ['value1', 'value2', 'score', 'p_value', 'hypothesis_accepted']\n",
    "    return df[cols]"
   ]
  },
  {
   "cell_type": "markdown",
   "metadata": {
    "_uuid": "3c1916b3ab847149daaffab1a7394fadbbfaee01",
    "id": "qNYYzNPbI3fp"
   },
   "source": [
    "## Two-tailed and One-tailed"
   ]
  },
  {
   "cell_type": "markdown",
   "metadata": {
    "_uuid": "72ab88dc706a91a822fd829611149a8bccd567ae",
    "id": "hs0yrjpeI3fq"
   },
   "source": [
    "Two-tails tests are used to show two values are just \"different\".<br>\n",
    "One-tail tests are used to show one value is either \"larger\" or \"lower\" than another one.<br><br>\n",
    "This has an influence on the p-value : in case of one-tail tests, p-value has to be divided by 2.<br>\n",
    "<br>\n",
    "Most of the functions we'll use (those from the statweights modules) do that by themselves if we input the right information in the parameters.<br>\n",
    "We'll have to do it on our own with functions from the scipy module."
   ]
  },
  {
   "cell_type": "markdown",
   "metadata": {
    "_uuid": "927f0ccf354bdc79be8f15126137812533168a3f",
    "id": "83YOCHsUI3fr"
   },
   "source": [
    "## Types of tests"
   ]
  },
  {
   "cell_type": "markdown",
   "metadata": {
    "_uuid": "eb131c0758f17dd039df56627c87536436cf7c73",
    "id": "fbXJNsiUI3fs"
   },
   "source": [
    "There are different types of tests, here are the ones we will cover : \n",
    "- T-tests. Used for small sample sizes (n<30), and when population's standard deviation is unknown.\n",
    "- Z-tests. Used for large sample sizes (n=>30), and when population's standard deviation is known.\n",
    "- F-tests. Used for comparing values of more than two variables.\n",
    "- Chi-square. Used for comparing categorical data."
   ]
  },
  {
   "cell_type": "markdown",
   "metadata": {
    "_uuid": "c21d8691d27399446d7d7e707f369da61708c5c1",
    "id": "5EdR4B5fI3fs"
   },
   "source": [
    "## Normal distribution"
   ]
  },
  {
   "cell_type": "markdown",
   "metadata": {
    "_uuid": "21bce516b7e3e7b14e45dd3b37c4f3a0d9e9fb72",
    "id": "xTG4xsVXI3ft"
   },
   "source": [
    "Also, most tests - parametric tests - require a population that is normally distributed.<br>\n",
    "It it not the case for SalePrice - which we'll use for most tests - but we can fix this by log-transforming the variable.<br>\n",
    "Note that to go back to our original scale and understand values vs. our \\$120 000, we'll to exponantiate values back."
   ]
  },
  {
   "cell_type": "code",
   "execution_count": 4,
   "metadata": {
    "_uuid": "5e7f1cf9faba52350ec923638e9e26b9356764d7",
    "colab": {
     "base_uri": "https://localhost:8080/"
    },
    "id": "XOOw7OlgI3fu",
    "outputId": "434155bc-55fd-454b-d9a2-c99dbbe5c315"
   },
   "outputs": [
    {
     "data": {
      "text/plain": [
       "11.695255355062795"
      ]
     },
     "execution_count": 4,
     "metadata": {},
     "output_type": "execute_result"
    }
   ],
   "source": [
    "import numpy as np\n",
    "city_hall_dataset['SalePrice'] = np.log1p(city_hall_dataset['SalePrice'])\n",
    "logged_budget = np.log1p(120000) #logged $120 000 is 11.695\n",
    "logged_budget"
   ]
  },
  {
   "cell_type": "markdown",
   "metadata": {
    "_uuid": "6ea5ef2e8f638517b5381aa54400a541d79caeca",
    "id": "4zUY8cgFI3fz"
   },
   "source": [
    "# Practice"
   ]
  },
  {
   "cell_type": "markdown",
   "metadata": {
    "_uuid": "6b12d43e42e70f1142a22cdb6561ab58992887e2",
    "id": "6nYyX_XYI3f0"
   },
   "source": [
    "So let's say we are ready to dive into the data, but not ready to pay the small fee for the large sample size.<br>\n",
    "We'll be starting with the free samples of 25 observations."
   ]
  },
  {
   "cell_type": "code",
   "execution_count": 5,
   "metadata": {
    "_uuid": "d49290ec36454bdc5276e6636f965ac0db9f048e",
    "id": "HcaLu-G6I3f0"
   },
   "outputs": [],
   "source": [
    "sample = city_hall_dataset.sample(n=25)\n",
    "p = {} #dictionnary we'll use to stock information and results"
   ]
  },
  {
   "cell_type": "markdown",
   "metadata": {
    "_uuid": "86dcbf3838f5a01829c1dd07ff295d7a323f9b38",
    "id": "xUCHHT1PI3f1"
   },
   "source": [
    "## One sample T-test | Two-tailed | Means"
   ]
  },
  {
   "cell_type": "markdown",
   "metadata": {
    "_uuid": "057bf391b91193515585af60d1b2e6ecf61d9457",
    "id": "j-ne4sQdI3f1"
   },
   "source": [
    "So first question we want to ask is : How are our $120 000 situated vs. the average Ames house SalePrice? <br>\n",
    "In other words, is  120 000 (11.7 logged) any different from the mean SalePrice of the population?<br>\n",
    "To know that from a 25 observations sample, we need to use a One Sample T-Test."
   ]
  },
  {
   "cell_type": "markdown",
   "metadata": {
    "_uuid": "9a5b43a56ec242192988e4638bdaf947c4b9feca",
    "id": "g5OClmfSI3f2"
   },
   "source": [
    "<b>Null Hypothesis</b> :  Mean SalePrice = 11.695 <br>\n",
    "<b>Alternative Hypothesis</b> :  Mean SalePrice ≠ 11.695 <br>"
   ]
  },
  {
   "cell_type": "code",
   "execution_count": 6,
   "metadata": {
    "_uuid": "b114d786b7657bb44b18cd10f3a75b59e8b76e4d",
    "colab": {
     "base_uri": "https://localhost:8080/",
     "height": 80
    },
    "id": "S2niNvkBI3f3",
    "outputId": "994270a3-6585-436d-9f14-99dfe11e5c6f"
   },
   "outputs": [
    {
     "data": {
      "text/html": [
       "<div>\n",
       "<style scoped>\n",
       "    .dataframe tbody tr th:only-of-type {\n",
       "        vertical-align: middle;\n",
       "    }\n",
       "\n",
       "    .dataframe tbody tr th {\n",
       "        vertical-align: top;\n",
       "    }\n",
       "\n",
       "    .dataframe thead th {\n",
       "        text-align: right;\n",
       "    }\n",
       "</style>\n",
       "<table border=\"1\" class=\"dataframe\">\n",
       "  <thead>\n",
       "    <tr style=\"text-align: right;\">\n",
       "      <th></th>\n",
       "      <th>value1</th>\n",
       "      <th>value2</th>\n",
       "      <th>score</th>\n",
       "      <th>p_value</th>\n",
       "      <th>hypothesis_accepted</th>\n",
       "    </tr>\n",
       "  </thead>\n",
       "  <tbody>\n",
       "    <tr>\n",
       "      <th></th>\n",
       "      <td>11.984</td>\n",
       "      <td>11.695</td>\n",
       "      <td>3.548</td>\n",
       "      <td>0.002</td>\n",
       "      <td>alternative</td>\n",
       "    </tr>\n",
       "  </tbody>\n",
       "</table>\n",
       "</div>"
      ],
      "text/plain": [
       "  value1  value2  score  p_value hypothesis_accepted\n",
       "  11.984  11.695  3.548    0.002         alternative"
      ]
     },
     "execution_count": 6,
     "metadata": {},
     "output_type": "execute_result"
    }
   ],
   "source": [
    "p['value1'], p['value2'] = sample['SalePrice'].mean(), logged_budget\n",
    "p['score'], p['p_value'] = stats.ttest_1samp(sample['SalePrice'], popmean=logged_budget)\n",
    "results(p)"
   ]
  },
  {
   "cell_type": "markdown",
   "metadata": {
    "_uuid": "cdbffabed49531b9a2a94290ecf3ad3df7ce1500",
    "id": "W5_dIYzhI3f4"
   },
   "source": [
    "So we know our initial budget is significantely different from the mean SalePrice.<br>\n",
    "From the table above, it unfortunately seems lower.<br>"
   ]
  },
  {
   "cell_type": "markdown",
   "metadata": {
    "_uuid": "9826a1893fc914f63b0c8fb013f54f21a8cb6660",
    "id": "R9S7Wyn3I3f5"
   },
   "source": [
    "## One sample T-test | One-tailed | Means"
   ]
  },
  {
   "cell_type": "markdown",
   "metadata": {
    "_uuid": "16f3f4267ad9b0656259a33796891ba99efa4e7e",
    "id": "dogNu0GwI3f5"
   },
   "source": [
    "Let's make sure our budget is lower by running a one-tailed test.<br>\n",
    "Question now is : is 120 000 (11.695 logged) lower than the mean SalePrice of the population?<br>"
   ]
  },
  {
   "cell_type": "markdown",
   "metadata": {
    "_uuid": "c4aa88ea6758d7beced1dd4fe235a4afc5aae480",
    "id": "otYidl0LI3f6"
   },
   "source": [
    "<b>Null Hypothesis</b> :  Mean SalePrice <= 11.695 <br>\n",
    "<b>Alternative Hypothesis</b> :  Mean SalePrice > 11.695 <br>"
   ]
  },
  {
   "cell_type": "code",
   "execution_count": 7,
   "metadata": {
    "_uuid": "f5a2b2f062c437304675fb7f97cc75be030f7cd8",
    "colab": {
     "base_uri": "https://localhost:8080/",
     "height": 80
    },
    "id": "KqfQhhk2I3f7",
    "outputId": "96d56b97-7dd3-4cc5-edf0-722874dd5e98"
   },
   "outputs": [
    {
     "data": {
      "text/html": [
       "<div>\n",
       "<style scoped>\n",
       "    .dataframe tbody tr th:only-of-type {\n",
       "        vertical-align: middle;\n",
       "    }\n",
       "\n",
       "    .dataframe tbody tr th {\n",
       "        vertical-align: top;\n",
       "    }\n",
       "\n",
       "    .dataframe thead th {\n",
       "        text-align: right;\n",
       "    }\n",
       "</style>\n",
       "<table border=\"1\" class=\"dataframe\">\n",
       "  <thead>\n",
       "    <tr style=\"text-align: right;\">\n",
       "      <th></th>\n",
       "      <th>value1</th>\n",
       "      <th>value2</th>\n",
       "      <th>score</th>\n",
       "      <th>p_value</th>\n",
       "      <th>hypothesis_accepted</th>\n",
       "    </tr>\n",
       "  </thead>\n",
       "  <tbody>\n",
       "    <tr>\n",
       "      <th></th>\n",
       "      <td>11.984</td>\n",
       "      <td>11.695</td>\n",
       "      <td>3.548</td>\n",
       "      <td>0.001</td>\n",
       "      <td>alternative</td>\n",
       "    </tr>\n",
       "  </tbody>\n",
       "</table>\n",
       "</div>"
      ],
      "text/plain": [
       "  value1  value2  score  p_value hypothesis_accepted\n",
       "  11.984  11.695  3.548    0.001         alternative"
      ]
     },
     "execution_count": 7,
     "metadata": {},
     "output_type": "execute_result"
    }
   ],
   "source": [
    "p['value1'], p['value2'] = sample['SalePrice'].mean(), logged_budget\n",
    "p['score'], p['p_value'] = stats.ttest_1samp(sample['SalePrice'], popmean=logged_budget)\n",
    "p['p_value'] = p['p_value']/2 #one-tailed test (with scipy function), we need to divide p-value by 2 ourselves\n",
    "results(p)"
   ]
  },
  {
   "cell_type": "markdown",
   "metadata": {
    "_uuid": "4ca6a6194d74b0cb91c7fff614b6ff85543c354f",
    "id": "9cKbKEuDI3gC"
   },
   "source": [
    "Unfortunately it is!<br>\n",
    "We have 95% chance of believing that our starting budget won't let us buy a house at the average Ames price."
   ]
  },
  {
   "cell_type": "markdown",
   "metadata": {
    "_uuid": "ba55013530a031bf8fce56db44c036affafbe18c",
    "id": "2NeUq916I3gD"
   },
   "source": [
    "## Two sample T-test | Two-tailed | Means"
   ]
  },
  {
   "cell_type": "markdown",
   "metadata": {
    "_uuid": "e0c4dd0f363ec00e2fa7dc1e49cccc303c5d7e1c",
    "id": "cQsNuRapI3gE"
   },
   "source": [
    "Now that our expectations are lowered, we realize something important :<br>\n",
    "The entire dataset probably contains some big houses fitted for entire families as well as small houses for fewer inhabitants.<br>\n",
    "Prices are probably really different in-between the two types.<br>\n",
    "And we are moving in alone, so we probably don't need that big of a house.<br><br>\n",
    "What if we could ask the City Hall to give us a sample for big houses, and a sample for smaller houses?<br>\n",
    "We first could see if there is a significant difference in prices.<br>\n",
    "And then see how our \\$120 000 are doing against the small houses average SalePrice.<br><br>\n",
    "We do ask the City Hall, and because they understand it is also for the sake of this tutorial, they accept.<br>\n",
    "They say they'll split the dataset in two, based on the surface area of the houses.<br>\n",
    "They will give us a sample from the top 50\\% houses in terms of surface, and another sample from the bottom 50\\%."
   ]
  },
  {
   "cell_type": "code",
   "execution_count": 8,
   "metadata": {
    "_uuid": "0ba8742a710640d9e15b7bb828d707b74c76fa9d",
    "id": "luaaidekI3gG"
   },
   "outputs": [],
   "source": [
    "smaller_houses = city_hall_dataset.sort_values('GrLivArea')[:730].sample(n=25)\n",
    "larger_houses = city_hall_dataset.sort_values('GrLivArea')[730:].sample(n=25)"
   ]
  },
  {
   "cell_type": "markdown",
   "metadata": {
    "_uuid": "f62d12ae118d7c88daf2fa31cdab454425ee480c",
    "id": "dDIdVvbjI3gH"
   },
   "source": [
    "Now we first want to know if the two samples, extracted from two different populations, have significant differences in their average SalePrice."
   ]
  },
  {
   "cell_type": "markdown",
   "metadata": {
    "_uuid": "e91a0db49dfd68637e52575a901d6688f2f52fc0",
    "id": "BiaE7H9WI3gI"
   },
   "source": [
    "<b>Null Hypothesis</b> : SalePrice of smaller houses = SalePrice of larger houses <br>\n",
    "<b>Alternative Hypothesis</b> :  SalePrice of smaller houses ≠ SalePrice of larger houses <br>"
   ]
  },
  {
   "cell_type": "code",
   "execution_count": 9,
   "metadata": {
    "_uuid": "063769aa739f591274cfb0c9ff3ca02cb3f47929",
    "colab": {
     "base_uri": "https://localhost:8080/",
     "height": 80
    },
    "id": "60IhVpAjI3gJ",
    "outputId": "fd3651ca-4b3c-44c5-d97d-8ba31b8bf057"
   },
   "outputs": [
    {
     "data": {
      "text/html": [
       "<div>\n",
       "<style scoped>\n",
       "    .dataframe tbody tr th:only-of-type {\n",
       "        vertical-align: middle;\n",
       "    }\n",
       "\n",
       "    .dataframe tbody tr th {\n",
       "        vertical-align: top;\n",
       "    }\n",
       "\n",
       "    .dataframe thead th {\n",
       "        text-align: right;\n",
       "    }\n",
       "</style>\n",
       "<table border=\"1\" class=\"dataframe\">\n",
       "  <thead>\n",
       "    <tr style=\"text-align: right;\">\n",
       "      <th></th>\n",
       "      <th>value1</th>\n",
       "      <th>value2</th>\n",
       "      <th>score</th>\n",
       "      <th>p_value</th>\n",
       "      <th>hypothesis_accepted</th>\n",
       "    </tr>\n",
       "  </thead>\n",
       "  <tbody>\n",
       "    <tr>\n",
       "      <th></th>\n",
       "      <td>11.883</td>\n",
       "      <td>12.198</td>\n",
       "      <td>-4.855</td>\n",
       "      <td>0.000</td>\n",
       "      <td>alternative</td>\n",
       "    </tr>\n",
       "  </tbody>\n",
       "</table>\n",
       "</div>"
      ],
      "text/plain": [
       "  value1  value2  score  p_value hypothesis_accepted\n",
       "  11.883  12.198 -4.855    0.000         alternative"
      ]
     },
     "execution_count": 9,
     "metadata": {},
     "output_type": "execute_result"
    }
   ],
   "source": [
    "p['value1'], p['value2'] = smaller_houses['SalePrice'].mean(), larger_houses['SalePrice'].mean()\n",
    "p['score'], p['p_value'], p['df'] = ttest_ind(smaller_houses['SalePrice'], larger_houses['SalePrice'])\n",
    "results(p)"
   ]
  },
  {
   "cell_type": "markdown",
   "metadata": {
    "_uuid": "ca2691aed68ebaf14f3d45e8500955b564891c94",
    "id": "h-LdfFQxI3gL"
   },
   "source": [
    "As expected, the two samples show some significant differences in SalePrice."
   ]
  },
  {
   "cell_type": "markdown",
   "metadata": {
    "_uuid": "ac0291a3dd5e3d592b6d41d475f2e9fafa2d2d7a",
    "id": "gDGMr5yJI3gM"
   },
   "source": [
    "## Two sample T-test | One-tailed | Means"
   ]
  },
  {
   "cell_type": "markdown",
   "metadata": {
    "_uuid": "c3e80a2b082da6f8ee1181e7c5ad286388136d3b",
    "id": "bNyuvn-QI3gM"
   },
   "source": [
    "Obviously, larger houses have a higher SalePrice.<br>\n",
    "Let's prove it this with one-tailed test."
   ]
  },
  {
   "cell_type": "markdown",
   "metadata": {
    "_uuid": "4047d017f6fbb8420868b5a3bf1f5c484511ec9e",
    "id": "k8KJb7LKI3gN"
   },
   "source": [
    "<b>Null Hypothesis</b> : SalePrice of smaller houses >= SalePrice of larger houses <br>\n",
    "<b>Alternative Hypothesis</b> :  SalePrice of smaller houses < SalePrice of larger houses <br>"
   ]
  },
  {
   "cell_type": "code",
   "execution_count": 10,
   "metadata": {
    "_uuid": "27b5247cac5eb55e0635a066fcac0d9c33785567",
    "colab": {
     "base_uri": "https://localhost:8080/",
     "height": 80
    },
    "id": "UvYpzz2eI3gO",
    "outputId": "6eb1b4bd-90bb-480b-bd32-023d5dfbd24e"
   },
   "outputs": [
    {
     "data": {
      "text/html": [
       "<div>\n",
       "<style scoped>\n",
       "    .dataframe tbody tr th:only-of-type {\n",
       "        vertical-align: middle;\n",
       "    }\n",
       "\n",
       "    .dataframe tbody tr th {\n",
       "        vertical-align: top;\n",
       "    }\n",
       "\n",
       "    .dataframe thead th {\n",
       "        text-align: right;\n",
       "    }\n",
       "</style>\n",
       "<table border=\"1\" class=\"dataframe\">\n",
       "  <thead>\n",
       "    <tr style=\"text-align: right;\">\n",
       "      <th></th>\n",
       "      <th>value1</th>\n",
       "      <th>value2</th>\n",
       "      <th>score</th>\n",
       "      <th>p_value</th>\n",
       "      <th>hypothesis_accepted</th>\n",
       "    </tr>\n",
       "  </thead>\n",
       "  <tbody>\n",
       "    <tr>\n",
       "      <th></th>\n",
       "      <td>11.883</td>\n",
       "      <td>12.198</td>\n",
       "      <td>-4.855</td>\n",
       "      <td>0.000</td>\n",
       "      <td>alternative</td>\n",
       "    </tr>\n",
       "  </tbody>\n",
       "</table>\n",
       "</div>"
      ],
      "text/plain": [
       "  value1  value2  score  p_value hypothesis_accepted\n",
       "  11.883  12.198 -4.855    0.000         alternative"
      ]
     },
     "execution_count": 10,
     "metadata": {},
     "output_type": "execute_result"
    }
   ],
   "source": [
    "p['value1'], p['value2'] = smaller_houses['SalePrice'].mean(), larger_houses['SalePrice'].mean()\n",
    "p['score'], p['p_value'], p['df'] = ttest_ind(smaller_houses['SalePrice'], larger_houses['SalePrice'], alternative='smaller')\n",
    "results(p)"
   ]
  },
  {
   "cell_type": "markdown",
   "metadata": {
    "_uuid": "12e9ac13b4eadb488545075d14613af3195be463",
    "id": "eeUoSgZ7I3gQ"
   },
   "source": [
    "Still as expected, SalePrice is significantly higher for larger houses."
   ]
  },
  {
   "cell_type": "markdown",
   "metadata": {
    "_uuid": "d269a6e87bfb36f6c2a58242ece5b1fb6a071992",
    "id": "563ptKoxI3gR"
   },
   "source": [
    "## Two sample Z-test | One-tailed | Means"
   ]
  },
  {
   "cell_type": "markdown",
   "metadata": {
    "_uuid": "fac51d383c6d11ba5ed9bc8d48009f44d4226641",
    "id": "A5e1a_rzI3gS"
   },
   "source": [
    "Now that the City Hall has already splitted the population in two, why not ask them for larger samples?<br>\n",
    "We'll pay a fee but that's all right, this is fake money."
   ]
  },
  {
   "cell_type": "code",
   "execution_count": 11,
   "metadata": {
    "_uuid": "bb09dbc679b48df0861cc3fbbdcce8f7f41c2adb",
    "id": "bXK-QdtII3gT"
   },
   "outputs": [],
   "source": [
    "smaller_houses = city_hall_dataset.sort_values('GrLivArea')[:730].sample(n=100, random_state=1)\n",
    "larger_houses = city_hall_dataset.sort_values('GrLivArea')[730:].sample(n=100, random_state=1)"
   ]
  },
  {
   "cell_type": "markdown",
   "metadata": {
    "_uuid": "9646ac3da76ce781a494505a010a7f4dfc3541a8",
    "id": "sf3NEC0yI3gU"
   },
   "source": [
    "<b>Null Hypothesis</b> : SalePrice of smaller houses >= SalePrice of larger houses <br>\n",
    "<b>Alternative Hypothesis</b> :  SalePrice of smaller houses < SalePrice of larger houses <br>"
   ]
  },
  {
   "cell_type": "code",
   "execution_count": 12,
   "metadata": {
    "_uuid": "0378fa5d6d7df2e9f17a953f889e104bec2e0790",
    "colab": {
     "base_uri": "https://localhost:8080/",
     "height": 80
    },
    "id": "K0ImQ7MsI3gV",
    "outputId": "bc5e303a-d6de-466a-d18f-54a0cbc91ed3"
   },
   "outputs": [
    {
     "data": {
      "text/html": [
       "<div>\n",
       "<style scoped>\n",
       "    .dataframe tbody tr th:only-of-type {\n",
       "        vertical-align: middle;\n",
       "    }\n",
       "\n",
       "    .dataframe tbody tr th {\n",
       "        vertical-align: top;\n",
       "    }\n",
       "\n",
       "    .dataframe thead th {\n",
       "        text-align: right;\n",
       "    }\n",
       "</style>\n",
       "<table border=\"1\" class=\"dataframe\">\n",
       "  <thead>\n",
       "    <tr style=\"text-align: right;\">\n",
       "      <th></th>\n",
       "      <th>value1</th>\n",
       "      <th>value2</th>\n",
       "      <th>score</th>\n",
       "      <th>p_value</th>\n",
       "      <th>hypothesis_accepted</th>\n",
       "    </tr>\n",
       "  </thead>\n",
       "  <tbody>\n",
       "    <tr>\n",
       "      <th></th>\n",
       "      <td>11.786</td>\n",
       "      <td>12.249</td>\n",
       "      <td>-10.772</td>\n",
       "      <td>0.000</td>\n",
       "      <td>alternative</td>\n",
       "    </tr>\n",
       "  </tbody>\n",
       "</table>\n",
       "</div>"
      ],
      "text/plain": [
       "  value1  value2   score  p_value hypothesis_accepted\n",
       "  11.786  12.249 -10.772    0.000         alternative"
      ]
     },
     "execution_count": 12,
     "metadata": {},
     "output_type": "execute_result"
    }
   ],
   "source": [
    "p['value1'], p['value2'] = smaller_houses['SalePrice'].mean(), larger_houses['SalePrice'].mean()\n",
    "p['score'], p['p_value'] = ztest(smaller_houses['SalePrice'], larger_houses['SalePrice'], alternative='smaller')\n",
    "results(p)"
   ]
  },
  {
   "cell_type": "markdown",
   "metadata": {
    "_uuid": "877f43f345c8b9b283f35f5fd5df218bf0e1a9ad",
    "id": "nR7ao1OxI3gY"
   },
   "source": [
    "Higher sample sizes show the same results : SalePrice is significantely higher for larger houses."
   ]
  },
  {
   "cell_type": "markdown",
   "metadata": {
    "_uuid": "cc97a4fb0630306449deeb931cce876a5c404b09",
    "id": "-0BEcuhAI3gZ"
   },
   "source": [
    "## Two sample Z-test | One-tailed | Proportions"
   ]
  },
  {
   "cell_type": "markdown",
   "metadata": {
    "_uuid": "1c5fd4e5578687f0cd6defbdcb0f47505c1dbca5",
    "id": "uzi9hsr9I3gZ"
   },
   "source": [
    "Instead of means, we can also run tests on proportions.<br>\n",
    "Is the proportion of houses over \\$120 000 higher in the larger houses populations than in smaller houses population?"
   ]
  },
  {
   "cell_type": "markdown",
   "metadata": {
    "_uuid": "08e590d9599111e0ed46441107fe9a568cbc85f8",
    "id": "lRi8Vz_II3ga"
   },
   "source": [
    "<b>Null Hypothesis</b> : Proportion of smaller houses with SalePrice over 11.695 >= Proportion of larger houses with SalePrice over 11.695 <br>\n",
    "<b>Alternative Hypothesis</b> :  Proportion of smaller houses with SalePrice over 11.695 < Proportion of larger houses with SalePrice over 11.695 <br>"
   ]
  },
  {
   "cell_type": "code",
   "execution_count": 13,
   "metadata": {
    "_uuid": "6908a85072828db67c52eea41d821caf0b94cc56",
    "colab": {
     "base_uri": "https://localhost:8080/",
     "height": 80
    },
    "id": "HAr4460WI3gb",
    "outputId": "e8750c30-e44e-41e4-e9f2-2cae12d284a0"
   },
   "outputs": [
    {
     "data": {
      "text/html": [
       "<div>\n",
       "<style scoped>\n",
       "    .dataframe tbody tr th:only-of-type {\n",
       "        vertical-align: middle;\n",
       "    }\n",
       "\n",
       "    .dataframe tbody tr th {\n",
       "        vertical-align: top;\n",
       "    }\n",
       "\n",
       "    .dataframe thead th {\n",
       "        text-align: right;\n",
       "    }\n",
       "</style>\n",
       "<table border=\"1\" class=\"dataframe\">\n",
       "  <thead>\n",
       "    <tr style=\"text-align: right;\">\n",
       "      <th></th>\n",
       "      <th>value1</th>\n",
       "      <th>value2</th>\n",
       "      <th>score</th>\n",
       "      <th>p_value</th>\n",
       "      <th>hypothesis_accepted</th>\n",
       "    </tr>\n",
       "  </thead>\n",
       "  <tbody>\n",
       "    <tr>\n",
       "      <th></th>\n",
       "      <td>0.670</td>\n",
       "      <td>0.950</td>\n",
       "      <td>-5.047</td>\n",
       "      <td>0.000</td>\n",
       "      <td>alternative</td>\n",
       "    </tr>\n",
       "  </tbody>\n",
       "</table>\n",
       "</div>"
      ],
      "text/plain": [
       "  value1  value2  score  p_value hypothesis_accepted\n",
       "   0.670   0.950 -5.047    0.000         alternative"
      ]
     },
     "execution_count": 13,
     "metadata": {},
     "output_type": "execute_result"
    }
   ],
   "source": [
    "from statsmodels.stats.proportion import *\n",
    "A1 = len(smaller_houses[smaller_houses.SalePrice>logged_budget])\n",
    "B1 = len(smaller_houses)\n",
    "A2 = len(larger_houses[larger_houses.SalePrice>logged_budget])\n",
    "B2 = len(larger_houses)\n",
    "p['value1'], p['value2'] = A1/B1, A2/B2\n",
    "p['score'], p['p_value'] = proportions_ztest([A1, A2], [B1, B2], alternative='smaller')\n",
    "results(p)"
   ]
  },
  {
   "cell_type": "markdown",
   "metadata": {
    "_uuid": "09942c4f972edef68fd0ade7bf6f1fccdf608357",
    "id": "fu7um-8kI3gc"
   },
   "source": [
    "Logically, the test shows that the larger houses population has a higher ratio of houses sold over \\\\$120 000 vs. the smaller houses population."
   ]
  },
  {
   "cell_type": "markdown",
   "metadata": {
    "_uuid": "1fb6a257bfc1e2aead70cc81c728b6991b96ee2a",
    "id": "7erhQfijI3gd"
   },
   "source": [
    "## One sample Z-test | One-tailed | Means"
   ]
  },
  {
   "cell_type": "markdown",
   "metadata": {
    "_uuid": "751e2b017d2e9d0982d16827f7c2074bde519c2f",
    "id": "h1Ry7yFxI3ge"
   },
   "source": [
    "So now let's see how our \\$120 000  (11.7 logged) are doing against smaller houses only, based on the 100 observations sample."
   ]
  },
  {
   "cell_type": "markdown",
   "metadata": {
    "_uuid": "3478bf655881918eff42936df3d5f1d0fcfc8717",
    "id": "xzH2utgfI3ge"
   },
   "source": [
    "<b>Null Hypothesis</b> :  Mean SalePrice of smaller houses => 11.695 <br>\n",
    "<b>Alternative Hypothesis</b> :  Mean SalePrice of smaller houses < 11.695 <br>"
   ]
  },
  {
   "cell_type": "code",
   "execution_count": 14,
   "metadata": {
    "_uuid": "29042a1ab9f5558a694ba2b537f204d648c9229f",
    "colab": {
     "base_uri": "https://localhost:8080/",
     "height": 80
    },
    "id": "FaLeLaj4I3gf",
    "outputId": "622aee32-78c1-47fe-879f-2ecdedc566ce"
   },
   "outputs": [
    {
     "data": {
      "text/html": [
       "<div>\n",
       "<style scoped>\n",
       "    .dataframe tbody tr th:only-of-type {\n",
       "        vertical-align: middle;\n",
       "    }\n",
       "\n",
       "    .dataframe tbody tr th {\n",
       "        vertical-align: top;\n",
       "    }\n",
       "\n",
       "    .dataframe thead th {\n",
       "        text-align: right;\n",
       "    }\n",
       "</style>\n",
       "<table border=\"1\" class=\"dataframe\">\n",
       "  <thead>\n",
       "    <tr style=\"text-align: right;\">\n",
       "      <th></th>\n",
       "      <th>value1</th>\n",
       "      <th>value2</th>\n",
       "      <th>score</th>\n",
       "      <th>p_value</th>\n",
       "      <th>hypothesis_accepted</th>\n",
       "    </tr>\n",
       "  </thead>\n",
       "  <tbody>\n",
       "    <tr>\n",
       "      <th></th>\n",
       "      <td>11.786</td>\n",
       "      <td>11.695</td>\n",
       "      <td>3.593</td>\n",
       "      <td>0.000</td>\n",
       "      <td>alternative</td>\n",
       "    </tr>\n",
       "  </tbody>\n",
       "</table>\n",
       "</div>"
      ],
      "text/plain": [
       "  value1  value2  score  p_value hypothesis_accepted\n",
       "  11.786  11.695  3.593    0.000         alternative"
      ]
     },
     "execution_count": 14,
     "metadata": {},
     "output_type": "execute_result"
    }
   ],
   "source": [
    "p['value1'], p['value2'] = smaller_houses['SalePrice'].mean(), logged_budget\n",
    "p['score'], p['p_value'] = ztest(smaller_houses['SalePrice'], value=logged_budget, alternative='larger')\n",
    "results(p)"
   ]
  },
  {
   "cell_type": "markdown",
   "metadata": {
    "_uuid": "40b18c3dbdf3f268901b4aa3b3cd2542b5614ed6",
    "id": "WUoHvGY9I3gh"
   },
   "source": [
    "That's quite depressing : our \\\\$120 000 do not even beat the average price of smaller houses."
   ]
  },
  {
   "cell_type": "markdown",
   "metadata": {
    "_uuid": "95f48ae385792cde702067b43d6865a228bada65",
    "id": "48EoE0JTI3gh"
   },
   "source": [
    "## One sample Z-test | One-tailed | Proportions"
   ]
  },
  {
   "cell_type": "markdown",
   "metadata": {
    "_uuid": "11e0cda689b265e2fb1f69a6440bb720ae030d01",
    "id": "6PAXNuOaI3gi"
   },
   "source": [
    "Our \\$120 000 do not seem too far from the average SalePrice of small houses though.<br>\n",
    "Let's see if at least 25\\% of houses have a SalePrice in our budget."
   ]
  },
  {
   "cell_type": "markdown",
   "metadata": {
    "_uuid": "1f856f2a6117ada10a5dc32962d7cf438fe93beb",
    "id": "GQgwSKUUI3gj"
   },
   "source": [
    "<b>Null Hypothesis</b> : Proportion of smaller houses with SalePrice under 11.695 <= 25% <br>\n",
    "<b>Alternative Hypothesis</b> :  Proportion of smaller houses with SalePrice under 11.695 > 25% <br>"
   ]
  },
  {
   "cell_type": "code",
   "execution_count": 15,
   "metadata": {
    "_uuid": "d9bcda8bd0df8421f071c5fe0d38f07abde33549",
    "colab": {
     "base_uri": "https://localhost:8080/",
     "height": 80
    },
    "id": "s1gH0FbmI3gj",
    "outputId": "f5c5da9c-98c6-4678-8627-711b9055b243"
   },
   "outputs": [
    {
     "data": {
      "text/html": [
       "<div>\n",
       "<style scoped>\n",
       "    .dataframe tbody tr th:only-of-type {\n",
       "        vertical-align: middle;\n",
       "    }\n",
       "\n",
       "    .dataframe tbody tr th {\n",
       "        vertical-align: top;\n",
       "    }\n",
       "\n",
       "    .dataframe thead th {\n",
       "        text-align: right;\n",
       "    }\n",
       "</style>\n",
       "<table border=\"1\" class=\"dataframe\">\n",
       "  <thead>\n",
       "    <tr style=\"text-align: right;\">\n",
       "      <th></th>\n",
       "      <th>value1</th>\n",
       "      <th>value2</th>\n",
       "      <th>score</th>\n",
       "      <th>p_value</th>\n",
       "      <th>hypothesis_accepted</th>\n",
       "    </tr>\n",
       "  </thead>\n",
       "  <tbody>\n",
       "    <tr>\n",
       "      <th></th>\n",
       "      <td>0.320</td>\n",
       "      <td>0.250</td>\n",
       "      <td>1.501</td>\n",
       "      <td>0.067</td>\n",
       "      <td>null</td>\n",
       "    </tr>\n",
       "  </tbody>\n",
       "</table>\n",
       "</div>"
      ],
      "text/plain": [
       "  value1  value2  score  p_value hypothesis_accepted\n",
       "   0.320   0.250  1.501    0.067                null"
      ]
     },
     "execution_count": 15,
     "metadata": {},
     "output_type": "execute_result"
    }
   ],
   "source": [
    "from statsmodels.stats.proportion import *\n",
    "A = len(smaller_houses[smaller_houses.SalePrice<logged_budget])\n",
    "B = len(smaller_houses)\n",
    "p['value1'], p['value2'] = A/B, 0.25\n",
    "p['score'], p['p_value'] = proportions_ztest(A, B, alternative='larger', value=0.25)\n",
    "results(p)"
   ]
  },
  {
   "cell_type": "markdown",
   "metadata": {
    "_uuid": "8d095cd73eb9af7b4c3161783537fcb1de5fdf45",
    "id": "YR7dt4s0I3gk"
   },
   "source": [
    "So at least, now we know we can buy a house among at least 25% of the smaller houses.<br>"
   ]
  },
  {
   "cell_type": "markdown",
   "metadata": {
    "_uuid": "31d1706ffc709d4c08d5c44becd79bb8abdd1f7a",
    "id": "_vrgtTttI3gl"
   },
   "source": [
    "## F-test (ANOVA)"
   ]
  },
  {
   "cell_type": "markdown",
   "metadata": {
    "_uuid": "e4755b430cf6a781cf06af48eca1ec2bc34826e6",
    "id": "JFGjPpT5I3gl"
   },
   "source": [
    "The House Price Dataset has a MSZoning variable, which identifies the general zoning classification of the house.<br>\n",
    "For instance, it lets you know if the house is situated in a residential or a commerical zone.<br><br>\n",
    "We'll therefore try to know if there is a significant difference in SalePrice based on the zoning.<br>\n",
    "And then know where we will be more likely to live with our budget.<br>\n",
    "Based on the 100 observations samples of smaller houses, let's first have an overview of mean SalePrice by zone."
   ]
  },
  {
   "cell_type": "code",
   "execution_count": 16,
   "metadata": {
    "_uuid": "5ad3bbf7148ee3ab852e1e86fe31a722a097fcf7",
    "colab": {
     "base_uri": "https://localhost:8080/",
     "height": 235
    },
    "id": "Tw-dZRxXI3gm",
    "outputId": "50c47d05-1ec7-4a14-9888-210d9b99a413"
   },
   "outputs": [
    {
     "data": {
      "text/html": [
       "<div>\n",
       "<style scoped>\n",
       "    .dataframe tbody tr th:only-of-type {\n",
       "        vertical-align: middle;\n",
       "    }\n",
       "\n",
       "    .dataframe tbody tr th {\n",
       "        vertical-align: top;\n",
       "    }\n",
       "\n",
       "    .dataframe thead th {\n",
       "        text-align: right;\n",
       "    }\n",
       "</style>\n",
       "<table border=\"1\" class=\"dataframe\">\n",
       "  <thead>\n",
       "    <tr style=\"text-align: right;\">\n",
       "      <th></th>\n",
       "      <th>SalePrice</th>\n",
       "    </tr>\n",
       "    <tr>\n",
       "      <th>MSZoning_FullName</th>\n",
       "      <th></th>\n",
       "    </tr>\n",
       "  </thead>\n",
       "  <tbody>\n",
       "    <tr>\n",
       "      <th>Commercial</th>\n",
       "      <td>11.590</td>\n",
       "    </tr>\n",
       "    <tr>\n",
       "      <th>Floating Village Residential</th>\n",
       "      <td>12.030</td>\n",
       "    </tr>\n",
       "    <tr>\n",
       "      <th>Residential High Density</th>\n",
       "      <td>11.705</td>\n",
       "    </tr>\n",
       "    <tr>\n",
       "      <th>Residential Low Density</th>\n",
       "      <td>11.828</td>\n",
       "    </tr>\n",
       "    <tr>\n",
       "      <th>Residential Medium Density</th>\n",
       "      <td>11.617</td>\n",
       "    </tr>\n",
       "  </tbody>\n",
       "</table>\n",
       "</div>"
      ],
      "text/plain": [
       "                              SalePrice\n",
       "MSZoning_FullName                      \n",
       "Commercial                       11.590\n",
       "Floating Village Residential     12.030\n",
       "Residential High Density         11.705\n",
       "Residential Low Density          11.828\n",
       "Residential Medium Density       11.617"
      ]
     },
     "execution_count": 16,
     "metadata": {},
     "output_type": "execute_result"
    }
   ],
   "source": [
    "replacement = {'FV': \"Floating Village Residential\", 'C (all)': \"Commercial\", 'RH': \"Residential High Density\",\n",
    "              'RL': \"Residential Low Density\", 'RM': \"Residential Medium Density\"}\n",
    "smaller_houses['MSZoning_FullName'] = smaller_houses['MSZoning'].replace(replacement)\n",
    "mean_price_by_zone = smaller_houses.groupby('MSZoning_FullName')['SalePrice'].mean().to_frame()\n",
    "mean_price_by_zone"
   ]
  },
  {
   "cell_type": "markdown",
   "metadata": {
    "_uuid": "9718fdf6ca87e8eb195849a32370fd1e2fdc50ca",
    "id": "EI0TRdT5I3gn"
   },
   "source": [
    "To know if there is a significant difference between these values, we run an ANOVA test. (because there a more than 2 values to compare)<br>\n",
    "The test won't not able to tell us what attributes are different from the others, but at least we'll know if there is a difference or not."
   ]
  },
  {
   "cell_type": "markdown",
   "metadata": {
    "_uuid": "de6cfc37bd2dd0834227c069156c45c904a464ab",
    "id": "xGCd7qABI3gn"
   },
   "source": [
    "<b>Null Hypothesis</b> : No difference between SalePrice means <br>\n",
    "<b>Alternative Hypothesis</b> : Difference between SalePrice means <br>"
   ]
  },
  {
   "cell_type": "code",
   "execution_count": 17,
   "metadata": {
    "_uuid": "336c3d9d49d2b2ceaf514e2fbd3a4356e1787ba8",
    "colab": {
     "base_uri": "https://localhost:8080/",
     "height": 80
    },
    "id": "DZiD5a4xI3go",
    "outputId": "a4a4807c-b568-483b-873b-899e62f8436a"
   },
   "outputs": [
    {
     "data": {
      "text/html": [
       "<div>\n",
       "<style scoped>\n",
       "    .dataframe tbody tr th:only-of-type {\n",
       "        vertical-align: middle;\n",
       "    }\n",
       "\n",
       "    .dataframe tbody tr th {\n",
       "        vertical-align: top;\n",
       "    }\n",
       "\n",
       "    .dataframe thead th {\n",
       "        text-align: right;\n",
       "    }\n",
       "</style>\n",
       "<table border=\"1\" class=\"dataframe\">\n",
       "  <thead>\n",
       "    <tr style=\"text-align: right;\">\n",
       "      <th></th>\n",
       "      <th>score</th>\n",
       "      <th>p_value</th>\n",
       "      <th>hypothesis_accepted</th>\n",
       "    </tr>\n",
       "  </thead>\n",
       "  <tbody>\n",
       "    <tr>\n",
       "      <th></th>\n",
       "      <td>4.146</td>\n",
       "      <td>0.004</td>\n",
       "      <td>alternative</td>\n",
       "    </tr>\n",
       "  </tbody>\n",
       "</table>\n",
       "</div>"
      ],
      "text/plain": [
       "  score  p_value hypothesis_accepted\n",
       "  4.146    0.004         alternative"
      ]
     },
     "execution_count": 17,
     "metadata": {},
     "output_type": "execute_result"
    }
   ],
   "source": [
    "sh = smaller_houses.copy()\n",
    "p['score'], p['p_value'] = stats.f_oneway(sh.loc[sh.MSZoning=='FV', 'SalePrice'], \n",
    "               sh.loc[sh.MSZoning=='C (all)', 'SalePrice'],\n",
    "               sh.loc[sh.MSZoning=='RH', 'SalePrice'],\n",
    "               sh.loc[sh.MSZoning=='RL', 'SalePrice'],\n",
    "               sh.loc[sh.MSZoning=='RM', 'SalePrice'],)\n",
    "results(p)[['score', 'p_value', 'hypothesis_accepted']]"
   ]
  },
  {
   "cell_type": "markdown",
   "metadata": {
    "_uuid": "a95d783ef0a7c8c2561d1e7e35fe076504bdaf75",
    "id": "JhKowYxmI3gp"
   },
   "source": [
    "There is a difference between SalePrices based on where the house is located.<br>\n",
    "Looking at the Average SalePrice by zone, Commerical Zones and Residential High Density zones seem to be the most affordable for our budget."
   ]
  },
  {
   "cell_type": "markdown",
   "metadata": {
    "_uuid": "b1764c17eba1681a1b3e11e1409595539036b087",
    "id": "0eOVOjqfI3gp"
   },
   "source": [
    "## Chi-square test"
   ]
  },
  {
   "cell_type": "markdown",
   "metadata": {
    "_uuid": "18bbaeabf46aba49d823ebe5689d5b73f78a857d",
    "id": "0Wt1bb7kI3gq"
   },
   "source": [
    "One last question we'll address : can we get a garage? If yes, what type of garage?<br>\n",
    "If not, then we won't bother saving up for a car, and we'll try to get a house next to Public Transportion.<br>\n",
    "The dataset contains a categorical variable, GarageType, that will help us answer the question.<br>\n",
    "<br>"
   ]
  },
  {
   "cell_type": "code",
   "execution_count": 18,
   "metadata": {
    "_uuid": "c143db864b4a24d0587b00099194f21457e22c29",
    "colab": {
     "base_uri": "https://localhost:8080/",
     "height": 204
    },
    "id": "i2PuMmXTI3gq",
    "outputId": "2811f9f3-d88a-41ec-d59b-b2538a4c40ba"
   },
   "outputs": [
    {
     "data": {
      "text/html": [
       "<div>\n",
       "<style scoped>\n",
       "    .dataframe tbody tr th:only-of-type {\n",
       "        vertical-align: middle;\n",
       "    }\n",
       "\n",
       "    .dataframe tbody tr th {\n",
       "        vertical-align: top;\n",
       "    }\n",
       "\n",
       "    .dataframe thead th {\n",
       "        text-align: right;\n",
       "    }\n",
       "</style>\n",
       "<table border=\"1\" class=\"dataframe\">\n",
       "  <thead>\n",
       "    <tr style=\"text-align: right;\">\n",
       "      <th></th>\n",
       "      <th>GarageType</th>\n",
       "    </tr>\n",
       "  </thead>\n",
       "  <tbody>\n",
       "    <tr>\n",
       "      <th>Attchd</th>\n",
       "      <td>46</td>\n",
       "    </tr>\n",
       "    <tr>\n",
       "      <th>Detchd</th>\n",
       "      <td>41</td>\n",
       "    </tr>\n",
       "    <tr>\n",
       "      <th>No Garage</th>\n",
       "      <td>10</td>\n",
       "    </tr>\n",
       "    <tr>\n",
       "      <th>CarPort</th>\n",
       "      <td>2</td>\n",
       "    </tr>\n",
       "    <tr>\n",
       "      <th>Basment</th>\n",
       "      <td>1</td>\n",
       "    </tr>\n",
       "  </tbody>\n",
       "</table>\n",
       "</div>"
      ],
      "text/plain": [
       "           GarageType\n",
       "Attchd             46\n",
       "Detchd             41\n",
       "No Garage          10\n",
       "CarPort             2\n",
       "Basment             1"
      ]
     },
     "execution_count": 18,
     "metadata": {},
     "output_type": "execute_result"
    }
   ],
   "source": [
    "smaller_houses['GarageType'].fillna('No Garage', inplace=True)\n",
    "smaller_houses['GarageType'].value_counts().to_frame()"
   ]
  },
  {
   "cell_type": "markdown",
   "metadata": {
    "_uuid": "48d6143222896b8c463ab8a88465a647796f188c",
    "id": "0zv1CZjgI3gr"
   },
   "source": [
    "We know we can get a house in at least the bottom 25% of smaller houses.<br>\n",
    "We would ideally like to know if distribution of Garage Types among these 25% is different than in the three other quarters<br>\n",
    "We are now friends with the City Hall, so we can ask them one last favor : <br>\n",
    "Split the smaller houses population in 4 based on surface, and give us a sample of each quarter.<br>\n",
    "Because we working here with categorical data, we'll run a Chi-Square test."
   ]
  },
  {
   "cell_type": "code",
   "execution_count": 19,
   "metadata": {
    "_uuid": "a0462a0bd18442f27a88c5b0e267122e76ab34b7",
    "colab": {
     "base_uri": "https://localhost:8080/",
     "height": 142
    },
    "id": "vBmXrldbI3gr",
    "outputId": "56ad970c-fe14-42da-bd74-c4ca45d8a955"
   },
   "outputs": [
    {
     "data": {
      "text/html": [
       "<div>\n",
       "<style scoped>\n",
       "    .dataframe tbody tr th:only-of-type {\n",
       "        vertical-align: middle;\n",
       "    }\n",
       "\n",
       "    .dataframe tbody tr th {\n",
       "        vertical-align: top;\n",
       "    }\n",
       "\n",
       "    .dataframe thead th {\n",
       "        text-align: right;\n",
       "    }\n",
       "</style>\n",
       "<table border=\"1\" class=\"dataframe\">\n",
       "  <thead>\n",
       "    <tr style=\"text-align: right;\">\n",
       "      <th></th>\n",
       "      <th>Sample1 (smallest houses)</th>\n",
       "      <th>Sample2</th>\n",
       "      <th>Sample3</th>\n",
       "      <th>Sample4 (largest houses)</th>\n",
       "    </tr>\n",
       "  </thead>\n",
       "  <tbody>\n",
       "    <tr>\n",
       "      <th>Detchd</th>\n",
       "      <td>53.000</td>\n",
       "      <td>37.000</td>\n",
       "      <td>38.000</td>\n",
       "      <td>27.000</td>\n",
       "    </tr>\n",
       "    <tr>\n",
       "      <th>Attchd</th>\n",
       "      <td>30.000</td>\n",
       "      <td>54.000</td>\n",
       "      <td>55.000</td>\n",
       "      <td>59.000</td>\n",
       "    </tr>\n",
       "    <tr>\n",
       "      <th>No Garage</th>\n",
       "      <td>16.000</td>\n",
       "      <td>4.000</td>\n",
       "      <td>6.000</td>\n",
       "      <td>6.000</td>\n",
       "    </tr>\n",
       "  </tbody>\n",
       "</table>\n",
       "</div>"
      ],
      "text/plain": [
       "           Sample1 (smallest houses)  Sample2  Sample3  \\\n",
       "Detchd                        53.000   37.000   38.000   \n",
       "Attchd                        30.000   54.000   55.000   \n",
       "No Garage                     16.000    4.000    6.000   \n",
       "\n",
       "           Sample4 (largest houses)  \n",
       "Detchd                       27.000  \n",
       "Attchd                       59.000  \n",
       "No Garage                     6.000  "
      ]
     },
     "execution_count": 19,
     "metadata": {},
     "output_type": "execute_result"
    }
   ],
   "source": [
    "city_hall_dataset['GarageType'].fillna('No Garage', inplace=True)\n",
    "sample1 = city_hall_dataset.sort_values('GrLivArea')[:183].sample(n=100)\n",
    "sample2 = city_hall_dataset.sort_values('GrLivArea')[183:366].sample(n=100)\n",
    "sample3 = city_hall_dataset.sort_values('GrLivArea')[366:549].sample(n=100)\n",
    "sample4 = city_hall_dataset.sort_values('GrLivArea')[549:730].sample(n=100)\n",
    "dff = pd.concat([\n",
    "    sample1['GarageType'].value_counts().to_frame(),\n",
    "    sample2['GarageType'].value_counts().to_frame(), \n",
    "    sample3['GarageType'].value_counts().to_frame(), \n",
    "    sample4['GarageType'].value_counts().to_frame()], \n",
    "    axis=1, sort=False)\n",
    "dff.columns = ['Sample1 (smallest houses)', 'Sample2', 'Sample3', 'Sample4 (largest houses)']\n",
    "dff = dff[:3] #chi-square tests do not work when table contains some 0, we take only the most frequent attributes\n",
    "dff "
   ]
  },
  {
   "cell_type": "markdown",
   "metadata": {
    "_uuid": "6858dda979f309254b4b04ec93d3d2a4fc4a22a9",
    "id": "C1nqnJXUI3gs"
   },
   "source": [
    "<b>Null Hypothesis</b> : No difference between GarageType distribution <br>\n",
    "<b>Alternative Hypothesis</b> : Difference between GarageType distribution <br>"
   ]
  },
  {
   "cell_type": "code",
   "execution_count": 20,
   "metadata": {
    "_uuid": "59e533a57eebfb818a880a00c5eb7b668ddfedf7",
    "colab": {
     "base_uri": "https://localhost:8080/",
     "height": 80
    },
    "id": "aRLUI6B6I3gt",
    "outputId": "188aca50-8077-4402-c7ef-629e6864b641"
   },
   "outputs": [
    {
     "data": {
      "text/html": [
       "<div>\n",
       "<style scoped>\n",
       "    .dataframe tbody tr th:only-of-type {\n",
       "        vertical-align: middle;\n",
       "    }\n",
       "\n",
       "    .dataframe tbody tr th {\n",
       "        vertical-align: top;\n",
       "    }\n",
       "\n",
       "    .dataframe thead th {\n",
       "        text-align: right;\n",
       "    }\n",
       "</style>\n",
       "<table border=\"1\" class=\"dataframe\">\n",
       "  <thead>\n",
       "    <tr style=\"text-align: right;\">\n",
       "      <th></th>\n",
       "      <th>score</th>\n",
       "      <th>p_value</th>\n",
       "      <th>hypothesis_accepted</th>\n",
       "    </tr>\n",
       "  </thead>\n",
       "  <tbody>\n",
       "    <tr>\n",
       "      <th></th>\n",
       "      <td>29.749</td>\n",
       "      <td>0.000</td>\n",
       "      <td>alternative</td>\n",
       "    </tr>\n",
       "  </tbody>\n",
       "</table>\n",
       "</div>"
      ],
      "text/plain": [
       "  score  p_value hypothesis_accepted\n",
       " 29.749    0.000         alternative"
      ]
     },
     "execution_count": 20,
     "metadata": {},
     "output_type": "execute_result"
    }
   ],
   "source": [
    "p['score'], p['p_value'], p['ddf'], p['contigency'] = stats.chi2_contingency(dff)\n",
    "p.pop('contigency')\n",
    "results(p)[['score', 'p_value', 'hypothesis_accepted']]"
   ]
  },
  {
   "cell_type": "markdown",
   "metadata": {
    "_uuid": "d8acefcc9a561092b50a4dc9e056ced0dd9706a2",
    "id": "F3TAg9RsI3gt"
   },
   "source": [
    "Clearly there's a difference in GarageType distribution according to size of houses.<br>\n",
    "The sample that concerns us, Sample1, has the highest proportion of \"No Garage\" and \"Detached Garage\".<br>\n",
    "We'll probably have to stick with Public Transportation."
   ]
  },
  {
   "cell_type": "markdown",
   "metadata": {
    "_uuid": "d9aa71cb9e37ec58ac0ec437edd8b054eaafbca3",
    "id": "F7OWGJmxI3gu"
   },
   "source": [
    "# Conclusion"
   ]
  },
  {
   "cell_type": "markdown",
   "metadata": {
    "_uuid": "4932d573a2a4d8fdd4d7f842c2d4218c60e4afcf",
    "id": "nvxdHBqTI3gu"
   },
   "source": [
    "We probably won't have a great house, but at least, we learned about statistical tests."
   ]
  }
 ],
 "metadata": {
  "colab": {
   "collapsed_sections": [
    "5EdR4B5fI3fs",
    "xUCHHT1PI3f1",
    "R9S7Wyn3I3f5",
    "2NeUq916I3gD",
    "gDGMr5yJI3gM",
    "563ptKoxI3gR",
    "-0BEcuhAI3gZ",
    "7erhQfijI3gd",
    "48EoE0JTI3gh",
    "_vrgtTttI3gl",
    "0eOVOjqfI3gp"
   ],
   "name": "Statistical-Tests-Explained.ipynb",
   "provenance": []
  },
  "kernelspec": {
   "display_name": "Python 3",
   "language": "python",
   "name": "python3"
  },
  "language_info": {
   "codemirror_mode": {
    "name": "ipython",
    "version": 3
   },
   "file_extension": ".py",
   "mimetype": "text/x-python",
   "name": "python",
   "nbconvert_exporter": "python",
   "pygments_lexer": "ipython3",
   "version": "3.8.8"
  },
  "toc": {
   "base_numbering": 1,
   "nav_menu": {},
   "number_sections": true,
   "sideBar": true,
   "skip_h1_title": false,
   "title_cell": "Table of Contents",
   "title_sidebar": "Contents",
   "toc_cell": true,
   "toc_position": {},
   "toc_section_display": true,
   "toc_window_display": false
  }
 },
 "nbformat": 4,
 "nbformat_minor": 1
}

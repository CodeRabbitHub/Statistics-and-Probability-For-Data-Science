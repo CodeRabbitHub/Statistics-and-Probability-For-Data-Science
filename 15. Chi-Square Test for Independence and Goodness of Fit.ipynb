{
 "cells": [
  {
   "cell_type": "markdown",
   "id": "512274d1-097e-4da4-b7a6-44af0d3230a5",
   "metadata": {},
   "source": [
    "# Chi-square test for Independence\n",
    "\n",
    "The chi-square test is a nonparametric test for testing the association between two variables. A non-parametric test is one that does not make any assumption about the distribution of the population from which the sample is drawn.\n",
    "\n",
    "The following are some of the characteristics of the chi-square test.\n",
    "+ The chi-square test of association is used to test if the frequency of occurrence of one categorical variable is significantly associated with that of another categorical variable.\n",
    "\n",
    "    The chi-square test statistic is given by: \n",
    "\n",
    "    $$\\chi^2 = \\sum\\frac {(f_o -f_e)^2}{f_e}$$\n",
    "\n",
    "    where, $f_o$ denotes the observed frequencies, $f_e$ denotes the expected frequencies, and $\\chi$ is the test statistic.  \n",
    "    Using the chi-square test of association, we can assess if the differences between the frequencies are statistically significant.\n",
    "\n",
    "+ A contingency table is a table with frequencies of the variable listed under separate columns. The formula for the degrees of freedom in the chi-square test is given by: *df=(r-1)(c-1)*, where *df* is the number of degrees of freedom, r is the number of rows in the contingency table, and c is the number of columns in the contingency table.\n",
    "\n",
    "\n",
    "\n",
    "+ The chi-square test compares the observed values of a set of variables with their expected values. It determines if the differences between the observed values and expected values are due to random chance (like a sampling error), or if these differences are statistically significant. If there are only small differences between the observed and expected values, it may be due to an error in sampling. If there are substantial differences between the two, it may indicate an association between the variables.\n",
    "\n",
    "<center><img src=\"./data/csd.png\"/></center>\n",
    "\n",
    "+ The shape of the chi-square distribution for different values of k (degrees of freedom) When the degrees of freedom are few, it looks like an F-distribution. It has only one tail (toward the right). As the degrees of freedom increase, it looks like a normal curve. Also, the increase in the degrees of freedom indicates that the difference between the observed values and expected values could be meaningful and not just due to a sampling error. "
   ]
  },
  {
   "cell_type": "markdown",
   "id": "e5d38703",
   "metadata": {},
   "source": [
    "**Example:**\n",
    "\n",
    "Suppose there is a city of 1,000,000 residents with four neighborhoods: A, B, C, and D. A random sample of 650 residents of the city is taken and their occupation is recorded as \"white collar\", \"blue collar\", or \"no collar\". The null hypothesis is that each person's neighborhood of residence is independent of the person's occupational classification.\n",
    "The data are tabulated as:\n",
    "\n",
    "|   OBSERVED   | A   | B   | C   | D   | Row Total |\n",
    "|:------------:|-----|-----|-----|-----|-----------|\n",
    "| White Collar | 90  | 60  | 104 | 95  | 349       |\n",
    "| Blue Collar  | 30  | 50  | 51  | 20  | 151       |\n",
    "| No Collar    | 30  | 40  | 45  | 35  | 150       |\n",
    "| Column Total | 150 | 150 | 200 | 150 | 650       |\n",
    "\n",
    "\n",
    "+ **Null hypothesis:** $H_0$: Occupation and Neighbourhood of Residence are not related.  \n",
    "\n",
    "+ **Alternative hypothesis**: $H_1$: Occupation and Neighbourhood of Residence are related.  \n",
    "\n",
    "+ **Number of variables:** Two categorical variables (Occupation and Neighbourhood)\n",
    "\n",
    "+ What we are testing: Testing for an association between Occupation and Neighbourhood.\n",
    "\n",
    "+ We conduct a chi-square test of association based on the preceding characteristics.\n",
    "\n",
    "+ Fix the level of significance: α=0.05\n",
    "\n",
    "Make an **expected** value table from the totals\n",
    "\n",
    "For each entry calcuate : $$\\frac{(row\\ total * column\\ total)}{overall\\ total}$$\n",
    "\n",
    "Example: For A neighbourhood 150 * (349/650) must be the expected White collar Job.\n",
    "\n",
    "|   EXPECTED   | A     | B     | C      | D     |\n",
    "|:------------:|-------|-------|--------|-------|\n",
    "| White Collar | 80.54 | 80.54 | 107.38 | 80.54 |\n",
    "| Blue Collar  | 34.85 | 34.85 | 46.46  | 34.85 |\n",
    "| No Collar    | 34.62 | 34.62 | 46.15  | 34.62 |\n",
    "\n",
    "Each of the value in the Expected Value table is 5 or higher. May proceed with Chi-Square test.\n",
    "\n",
    "Calculate: $$\\chi^2 = \\sum\\frac {(f_o -f_e)^2}{f_e}$$\n",
    "\n",
    "$$\\chi^2\\  statistic\\  \\approx\\  24.6$$\n",
    "\n",
    "Under the null hypothesis, this sum has approximately a chi-squared distribution whose number of degrees of freedom is\n",
    "\n",
    "*dof = (number of rows-1)(number of columns-1) = (3-1)(4-1) = 6*\n",
    "\n",
    "From chi square distribution table p value less than 0.0005"
   ]
  },
  {
   "cell_type": "code",
   "execution_count": 1,
   "id": "18ff36a2",
   "metadata": {},
   "outputs": [
    {
     "name": "stdout",
     "output_type": "stream",
     "text": [
      "Chi-Square Statistic:  24.5712028585826\n",
      "p-value:  0.0004098425861096696\n",
      "degrees of freedom:  6\n",
      "Expected Value: \n",
      " [[ 80.53846154  80.53846154 107.38461538  80.53846154]\n",
      " [ 34.84615385  34.84615385  46.46153846  34.84615385]\n",
      " [ 34.61538462  34.61538462  46.15384615  34.61538462]]\n"
     ]
    }
   ],
   "source": [
    "import scipy.stats as stats\n",
    "import numpy as np\n",
    "\n",
    "observations = np.array([[90,60,104,95],[30,50,51,20],[30,40,45,35]])\n",
    "chi2stat, pval, dof, expvalue = stats.chi2_contingency(observations)\n",
    "\n",
    "print(f'Chi-Square Statistic: ', chi2stat)\n",
    "print(f'p-value: ', pval)\n",
    "print(f'degrees of freedom: ', dof)\n",
    "print(f'Expected Value: \\n', expvalue)\n"
   ]
  },
  {
   "cell_type": "markdown",
   "id": "0ef31bfe",
   "metadata": {},
   "source": [
    "p-value turns to be 0.0004 < 0.05. Therefore we reject the null hypothesis.\n",
    "There is a significant association between the Occupation and Neighbourhood of Residence, at a 5%\n",
    "significance level."
   ]
  },
  {
   "cell_type": "markdown",
   "id": "c0dd9fe9",
   "metadata": {},
   "source": [
    "### **Chi-Square Goodness of Fit Test:** \n",
    "\n",
    "A Chi-Square goodness of fit test can be used in a wide variety of settings. Here are a few examples:\n",
    "\n",
    "+ We want to know if a die is fair, so we roll it 50 times and record the number of times it lands on each number.\n",
    "+ We want to know if an equal number of people come into a shop each day of the week, so we count the number of people who come in each day during a random week.\n",
    "\n",
    "It is performed in a similar way.\n",
    "\n",
    "A shop owner claims that an equal number of customers come into his shop each weekday. To test this hypothesis, an independent researcher records the number of customers that come into the shop on a given week and finds the following:\n",
    "\n",
    "|    Day    | Customers |\n",
    "|:---------:|-----------|\n",
    "| Monday    | 50        |\n",
    "| Tuesday   | 60        |\n",
    "| Wednesday | 40        |\n",
    "| Thursday  | 47        |\n",
    "| Friday    | 53        |\n",
    "\n",
    "$H_0$: An equal number of customers come into the shop each day.  \n",
    "$H_1$: An equal number of customers do not come into the shop each day.\n",
    "\n",
    "There were a total of 250 customers that came into the shop during the week. Thus, if we expected an equal amount to come in each day then the expected value $E$ for each day would be 50.\n",
    "\n",
    "$Monday: (50-50)^2 / 50 = 0$  \n",
    "$Tuesday: (60-50)^2 / 50 = 2$  \n",
    "$Wednesday: (40-50)^2 / 50 = 2$  \n",
    "$Thursday: (47-50)^2 / 50 = 0.18$  \n",
    "$Friday: (53-50)^2 / 50 = 0.18$  \n",
    "\n",
    "$\\chi^2 = \\sum \\frac{(Obs-Exp)^2}{Exp} = 0 + 2 + 2 + 0.18 + 0.18 = 4.36$\n",
    "\n",
    "the p-value associated with $\\chi^2$ = 4.36 and degrees of freedom n-1 = 5-1 = 4 is **0.359472.**\n",
    "\n",
    "Since this p-value is not less than 0.05, we fail to reject the null hypothesis. This means we do not have sufficient evidence to say that the true distribution of customers is different from the distribution that the shop owner claimed."
   ]
  },
  {
   "cell_type": "code",
   "execution_count": null,
   "id": "dee06726",
   "metadata": {},
   "outputs": [],
   "source": []
  }
 ],
 "metadata": {
  "kernelspec": {
   "display_name": "Python 3 (ipykernel)",
   "language": "python",
   "name": "python3"
  },
  "language_info": {
   "codemirror_mode": {
    "name": "ipython",
    "version": 3
   },
   "file_extension": ".py",
   "mimetype": "text/x-python",
   "name": "python",
   "nbconvert_exporter": "python",
   "pygments_lexer": "ipython3",
   "version": "3.11.7"
  }
 },
 "nbformat": 4,
 "nbformat_minor": 5
}

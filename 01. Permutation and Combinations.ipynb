{
 "cells": [
  {
   "cell_type": "markdown",
   "metadata": {
    "id": "nWAP42l0C3en"
   },
   "source": [
    "# Permutation and Combination"
   ]
  },
  {
   "cell_type": "markdown",
   "metadata": {
    "id": "wO-hsVKwC3er"
   },
   "source": [
    "The concepts of **Permutations** and **Combinations** pertain to different methods of arranging elements within a given set of objects. The primary distinction between them is the importance of order in the arrangement.\r\n",
    "\r\n",
    "A **permutation** considers the specific order in which elements are arranged. For example, the sequences \"AC,,\" \"BC,,\" and \"CAB\" are all distinct permutations of the same set of elements. \r\n",
    "\r\n",
    "In contrast, a **combination** treats the arrangement of elements as unordered. Therefore, combinations such as A,BC,\" B,AC,\" and \"CAB\" are all considered to be the same grouping of three characters.\r\n",
    "\r\n",
    "Let's explore some examples to better understand these conepts.\r\n"
   ]
  },
  {
   "cell_type": "code",
   "execution_count": 1,
   "metadata": {
    "id": "VQcNkxNOC3es"
   },
   "outputs": [],
   "source": [
    "import itertools\n",
    "\n",
    "character_set = {'A', 'B', 'C'} \n",
    "permutations_taking_two_elements = itertools.permutations(character_set, 2)"
   ]
  },
  {
   "cell_type": "code",
   "execution_count": 2,
   "metadata": {
    "colab": {
     "base_uri": "https://localhost:8080/"
    },
    "id": "fKTmATJwE4Rx",
    "outputId": "cccad988-a0d0-4900-8790-235d79bc48dd"
   },
   "outputs": [
    {
     "name": "stdout",
     "output_type": "stream",
     "text": [
      "('B', 'C')\n",
      "('B', 'A')\n",
      "('C', 'B')\n",
      "('C', 'A')\n",
      "('A', 'B')\n",
      "('A', 'C')\n"
     ]
    }
   ],
   "source": [
    "for i in permutations_taking_two_elements:\n",
    "    print(i)"
   ]
  },
  {
   "cell_type": "code",
   "execution_count": 3,
   "metadata": {
    "colab": {
     "base_uri": "https://localhost:8080/"
    },
    "id": "TO6cDX02FQnJ",
    "outputId": "6cf57180-1338-460b-c044-554fc22e5e9f"
   },
   "outputs": [
    {
     "name": "stdout",
     "output_type": "stream",
     "text": [
      "('B', 'C', 'A')\n",
      "('B', 'A', 'C')\n",
      "('C', 'B', 'A')\n",
      "('C', 'A', 'B')\n",
      "('A', 'B', 'C')\n",
      "('A', 'C', 'B')\n"
     ]
    }
   ],
   "source": [
    "\n",
    "permutations_taking_three_elements = itertools.permutations(character_set, 3)\n",
    "for i in permutations_taking_three_elements:\n",
    "    print(i)"
   ]
  },
  {
   "cell_type": "markdown",
   "metadata": {},
   "source": [
    "From the above example, we observe that there are a total of 6 possible arrangements from a set containing 3 alphabets, taking 3 at a time. To calculate this value mathematically, we use the formula:\n",
    "\n",
    "$$ ^nP_r = \\frac{n!}{(n-r)!} $$\n",
    "\n",
    "where:  \n",
    "- $ n $ is the number of elements in the set.  \n",
    "- $ r $ is the number of elements taken together.\n",
    "\n",
    "**Example:**\n",
    "\n",
    "**Permutation taking 2 elements together from a set of 3 elements:**\n",
    "\n",
    "$$ ^3P_2 = \\frac{3!}{(3-2)!} = \\frac{3!}{1!} = \\frac{6}{1} = 6 $$\n",
    "\n",
    "**Permutation taking 3 elements together from a set of 3 elements:**\n",
    "\n",
    "$$ ^3P_3 = \\frac{3!}{(3-3)!} = \\frac{3!}{0!} = \\frac{6}{1} = 6 $$\n",
    "\n",
    "Now, let's look at combinations"
   ]
  },
  {
   "cell_type": "markdown",
   "metadata": {},
   "source": [
    "The formula for calculating the number of combinations from $ n $ elements taken $ r $ at a time is given by:\n",
    "$$^n C_r = \\frac{n!}{(n-r)! r!}$$"
   ]
  },
  {
   "cell_type": "code",
   "execution_count": 8,
   "metadata": {
    "colab": {
     "base_uri": "https://localhost:8080/"
    },
    "id": "vjmrhsluC3ey",
    "outputId": "1202466c-0d9d-4418-e6b8-45b90dbadba3"
   },
   "outputs": [
    {
     "name": "stdout",
     "output_type": "stream",
     "text": [
      "('B', 'C')\n",
      "('B', 'A')\n",
      "('C', 'A')\n"
     ]
    }
   ],
   "source": [
    "combination_taking_two_elements = itertools.combinations(character_set, 2)\n",
    "for i in combination_taking_two_elements:\n",
    "    print(i)"
   ]
  },
  {
   "cell_type": "code",
   "execution_count": 9,
   "metadata": {
    "colab": {
     "base_uri": "https://localhost:8080/"
    },
    "id": "SYO9HIj8C3ew",
    "outputId": "3d3bf569-3411-41d0-a9a9-55d503168d2a"
   },
   "outputs": [
    {
     "name": "stdout",
     "output_type": "stream",
     "text": [
      "('B', 'C', 'A')\n"
     ]
    }
   ],
   "source": [
    "combination_taking_three_elements = itertools.combinations(character_set, 3)\n",
    "for i in combination_taking_three_elements: \n",
    "    print(i)"
   ]
  },
  {
   "cell_type": "markdown",
   "metadata": {
    "id": "eqjVrwFyC3ez"
   },
   "source": [
    "In addition to these, itertools provides two more functions:\r\n",
    "\r\n",
    "- **Combinations with Replacement**: This function generates all possible combinations of $ r $ elements from a given iterable, allowing elements to be selected multiple times. It's useful when repetitions are allowed in the selection process.\r\n",
    "\r\n",
    "- **Product**: This function computes the Cartesian product of input iterables. It generates all possible combinations where each element from one iterable is combined with every element from other iterables. It's beneficial for creating all possible combinations of multiple sets of elements."
   ]
  },
  {
   "cell_type": "code",
   "execution_count": 6,
   "metadata": {
    "colab": {
     "base_uri": "https://localhost:8080/"
    },
    "id": "1czZRTC_C3e0",
    "outputId": "83164b64-70d0-41c0-a244-cdefd295680f"
   },
   "outputs": [
    {
     "name": "stdout",
     "output_type": "stream",
     "text": [
      "('B', 'B')\n",
      "('B', 'C')\n",
      "('B', 'A')\n",
      "('C', 'C')\n",
      "('C', 'A')\n",
      "('A', 'A')\n"
     ]
    }
   ],
   "source": [
    "combination_taking_two_elements_with_replacement = itertools.combinations_with_replacement(character_set, 2)\n",
    "for i in combination_taking_two_elements_with_replacement:\n",
    "    print(i)"
   ]
  },
  {
   "cell_type": "code",
   "execution_count": 7,
   "metadata": {
    "colab": {
     "base_uri": "https://localhost:8080/"
    },
    "id": "QKeNbHWjC3e0",
    "outputId": "8363c139-daf4-4784-ff7f-2f72d3580287"
   },
   "outputs": [
    {
     "name": "stdout",
     "output_type": "stream",
     "text": [
      "('B', 'B')\n",
      "('B', 'C')\n",
      "('B', 'A')\n",
      "('C', 'B')\n",
      "('C', 'C')\n",
      "('C', 'A')\n",
      "('A', 'B')\n",
      "('A', 'C')\n",
      "('A', 'A')\n"
     ]
    }
   ],
   "source": [
    "product_taking_two_elements_with_replacement = itertools.product(character_set, repeat=2)\n",
    "for i in product_taking_two_elements_with_replacement:\n",
    "    print(i)"
   ]
  },
  {
   "cell_type": "code",
   "execution_count": null,
   "metadata": {
    "id": "U5K1Bqt2C3e1"
   },
   "outputs": [],
   "source": []
  }
 ],
 "metadata": {
  "colab": {
   "collapsed_sections": [],
   "name": "01. Permutation and Combinations.ipynb",
   "provenance": []
  },
  "kernelspec": {
   "display_name": "Python 3 (ipykernel)",
   "language": "python",
   "name": "python3"
  },
  "language_info": {
   "codemirror_mode": {
    "name": "ipython",
    "version": 3
   },
   "file_extension": ".py",
   "mimetype": "text/x-python",
   "name": "python",
   "nbconvert_exporter": "python",
   "pygments_lexer": "ipython3",
   "version": "3.11.7"
  }
 },
 "nbformat": 4,
 "nbformat_minor": 4
}

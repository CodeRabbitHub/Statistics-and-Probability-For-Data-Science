{
 "cells": [
  {
   "cell_type": "markdown",
   "metadata": {},
   "source": [
    "# Hypothesis Testing"
   ]
  },
  {
   "cell_type": "markdown",
   "metadata": {},
   "source": [
    "Before diving into Hypothesis testing there are certain pre-requisites that we need to familiarize ourselves with. Lets have a look at them.\n",
    "\n",
    "## **Population Parameters vs. Sample Statistics**\n",
    "\n",
    " **Parameter** is a value that describes a characteristic of an entire population, such as the population mean. Because we cannot  measure an entire population, we usually don't know the real value of a parameter. In fact, parameter values are almost always unknowable. While we don't know the value, it definitely exists.\n",
    "\n",
    "For example, the average height of humans exists but we dont know exactly what it is!  \n",
    "\n",
    "The population mean and standard deviation are two common parameters. In statistics, Greek symbols usually represent population parameters, such as $\\mu$ (mu) for the mean and $\\sigma$ (sigma) for the standard deviation.  \n",
    "\n",
    "\n",
    "**Statistic** is a characteristic of a sample. If you collect a sample and calculate the mean and standard deviation, these are sample statistics. In statistics we use latin letters to represent sample parameters.\n",
    "\n",
    "**Inferential statistics** allow you to use sample statistics to make conclusions about a population. In other words In inferential statistics, we use sample statistics to estimate population parameters However, to draw valid conclusions, we must use representative sampling techniques. These techniques help ensure that samples produce unbiased estimates. Biased estimates are systematically too high or too low. You want unbiased estimates because they are correct on average. We use random sampling and other representative sampling methodologies to obtain unbiased estimates."
   ]
  },
  {
   "cell_type": "markdown",
   "metadata": {},
   "source": [
    "## Parametric versus Nonparametric Analysis"
   ]
  },
  {
   "cell_type": "markdown",
   "metadata": {},
   "source": [
    "Parametric statistics is a branch of statistics that assumes sample data come from populations that are adequately modeled by probability distributions with a set of parameters. Parametric analyses are the most common statistical methods.  \n",
    "\n",
    "Conversely, nonparametric tests don’t assume that your data follow a particular distribution."
   ]
  },
  {
   "cell_type": "markdown",
   "metadata": {},
   "source": [
    "## **Significance Level (Alpha)**\n",
    "\n",
    "The significance level defines how strong the sample evidence must be to conclude an effect exists in the population.\n",
    "The significance level, also known as alpha or $\\alpha$, is an evidentiary standard that we need to set before the study. It specifies how strongly the sample evidence must contradict the null hypothesis before you can reject the null for the entire population.  \n",
    "\n",
    "This standard is defined by the probability of rejecting a true null hypothesis. In other words, it is the probability that you say there is an effect when there is no effect. Lower significance levels indicate that you require more substantial evidence before you will reject the null. For instance, a significance level of 0.05 signifies a 5% risk of deciding\n",
    "that an effect exists when it does not exist."
   ]
  },
  {
   "cell_type": "markdown",
   "metadata": {},
   "source": [
    "## **P-values**\n",
    "\n",
    "P-values indicate the strength of the sample evidence against the null hypothesis. If it is less than the significance level, our results are statistically significant. P-values are the probability that we would obtain the effect observed in our sample, or larger, if the null hypothesis is correct. In simpler terms, p-values tells us how strongly our sample data contradict the null. Lower p-values represent stronger evidence against the null.\n",
    "\n",
    "If the p-value is less than or equal to the significance level, we reject the null hypothesis and our results are statistically significant. The data support the alternative hypothesis that the effect exists in the population.   \n",
    "When the p-value is greater than the significance level, our sample data don't provide enough evidence to conclude that the\n",
    "effect exists.\n",
    "\n",
    "Here's the statistical terminology for these decisions.\n",
    "+ When the p-value is less than or equal to the significance level, you reject the null hypothesis.\n",
    "+ When the p-value is greater than the significance level, you fail to reject the null hypothesis."
   ]
  },
  {
   "cell_type": "markdown",
   "metadata": {},
   "source": [
    "## Hypothesis Testing\n",
    "\n",
    "Hypothesis testing is a statistical analysis that uses sample data to assess two mutually exclusive theories about the properties of a population. Statisticians call these theories the **null hypothesis** and the **alternative hypothesis**. \n",
    "\n",
    "A hypothesis test assesses our sample statistic and factors in an estimate of the sampling error to determine which hypothesis the data support. When we can reject the null hypothesis, the results are statistically significant, and the data support the theory that an effect exists at the population level.\n",
    "\n",
    "We either reject the null hypothesis or fail to reject the null hypothesis. Note that rejecting the null hypothesis does not imply that the alternative hypothesis is true. The result of a hypothesis test is only suggestive or indicative of something regarding the population, and it does not conclusively prove or disprove any hypothesis.\n",
    "\n",
    "**Null hypothesis:** The null hypothesis states there is no effect (i.e., the effect size equals zero).\n",
    "$H_0$ often signifies the null.\n",
    "\n",
    "**Alternate hypothesis:** The alternative hypothesis is the other theory about the properties of the population in hypothesis testing. Typically, the alternative hypothesis states that a population parameter does not equal the null hypothesis value. In other words, there is a non-zero effect. If our sample contains sufficient evidence, we can reject the null and favor\n",
    "the alternative hypothesis. $H_1$ or $H_A$ usually identifies the alternative.\n",
    "\n",
    "### **Steps involved in hypothesis testing**\n",
    " \n",
    "1. State the null and alternate hypothesis.\n",
    "2. Fix the level of significance and obtain the critical value of the test statistic\n",
    "3. Select the appropriate test:\n",
    "    Choose the test based on the following parameters:\n",
    "      + Number of samples\n",
    "      + Whether the population is normally distributed\n",
    "      + The statistic being tested\n",
    "      + The sample size\n",
    "      + Whether the population standard deviation is known or not\n",
    "      \n",
    "4. Obtain the relevant test statistic (**z-statistic / t-statistic / chi-square statistic / f-statistic**) or the p-value\n",
    "5. Compare the critical test statistic with the calculated test static or compare the p-value with 0.05  \n",
    "   Reject the null hypothesis based on either the test statistic or the p-value:\n",
    "   Using the test statistic:\n",
    "      - calculated test static>critical test statistic (upper-tail test)\n",
    "      - calculated test static<critical test statistic (lower-tail test)  \n",
    "      \n",
    "  Using the p-value (p)\n",
    "   - if p<0.05 reject the null hypothesis\n",
    "   \n",
    "6. Draw an inference based on the preceding comparison"
   ]
  },
  {
   "cell_type": "markdown",
   "metadata": {},
   "source": [
    "## **Confidence interval**\n",
    "\n",
    "A **confidence interval (CI)** is a type of estimate computed from the statistics of the observed data. This gives a range of values for an unknown parameter (for example, a population mean). The interval has an associated confidence level that gives the probability with which an estimated interval will contain the true value of the parameter. The confidence level is chosen by the investigator. For a given estimation in a given sample, using a higher confidence level generates a wider (i.e., less precise) confidence interval.\n",
    "\n",
    "The confidence level is designated before examining the data. Most commonly, a 95% confidence level is used. However, other confidence levels, such as 90% or 99%, are sometimes used."
   ]
  },
  {
   "cell_type": "markdown",
   "metadata": {},
   "source": [
    "## **Sampling error**  \n",
    "\n",
    "A sampling error is the difference between a population parameter and a sample statistic. In your study, the sampling error is the difference between the mean of your sample and the true mean of the population.Sampling errors happen even when you use a randomly selected sample. This is because random samples are not identical to the population in terms of numerical measures like means and standard deviations.Because the aim of scientific research is to generalize findings from the sample to the population, we want the sampling error to be low. We can reduce sampling error by increasing the sample size."
   ]
  },
  {
   "cell_type": "code",
   "execution_count": null,
   "metadata": {},
   "outputs": [],
   "source": []
  }
 ],
 "metadata": {
  "kernelspec": {
   "display_name": "Python 3",
   "language": "python",
   "name": "python3"
  },
  "language_info": {
   "codemirror_mode": {
    "name": "ipython",
    "version": 3
   },
   "file_extension": ".py",
   "mimetype": "text/x-python",
   "name": "python",
   "nbconvert_exporter": "python",
   "pygments_lexer": "ipython3",
   "version": "3.8.8"
  }
 },
 "nbformat": 4,
 "nbformat_minor": 4
}

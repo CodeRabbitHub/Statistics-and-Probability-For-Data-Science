{
 "cells": [
  {
   "cell_type": "markdown",
   "metadata": {
    "id": "nWAP42l0C3en"
   },
   "source": [
    "# Permutation and Combination"
   ]
  },
  {
   "cell_type": "markdown",
   "metadata": {
    "id": "wO-hsVKwC3er"
   },
   "source": [
    "The concepts of Permutations and Combinations refer to various ways of arranging elements within a given set of objects. However, the distinction between them lies in the consideration of order. \n",
    "\n",
    "A **permutation** takes into account the specific order in which elements are arranged, meaning that the sequence \"ABC\" is different from \"BAC\" and \"CAB.\" On the other hand, a **combination** regards the arrangement of elements as unordered, with combinations such as \"ABC,\" \"BAC,\" and \"CAB\" all being considered a single group of three characters.\n",
    "\n",
    "Lets look at some example to understand this concept. "
   ]
  },
  {
   "cell_type": "code",
   "execution_count": 1,
   "metadata": {
    "id": "VQcNkxNOC3es"
   },
   "outputs": [],
   "source": [
    "import itertools\n",
    "\n",
    "character_set = {'A', 'B', 'C'} \n",
    "permutations_taking_two_elements = itertools.permutations(character_set, 2)"
   ]
  },
  {
   "cell_type": "code",
   "execution_count": 2,
   "metadata": {
    "colab": {
     "base_uri": "https://localhost:8080/"
    },
    "id": "fKTmATJwE4Rx",
    "outputId": "cccad988-a0d0-4900-8790-235d79bc48dd"
   },
   "outputs": [
    {
     "name": "stdout",
     "output_type": "stream",
     "text": [
      "('A', 'B')\n",
      "('A', 'C')\n",
      "('B', 'A')\n",
      "('B', 'C')\n",
      "('C', 'A')\n",
      "('C', 'B')\n"
     ]
    }
   ],
   "source": [
    "for i in permutations_taking_two_elements:\n",
    "    print(i)"
   ]
  },
  {
   "cell_type": "code",
   "execution_count": 3,
   "metadata": {
    "colab": {
     "base_uri": "https://localhost:8080/"
    },
    "id": "TO6cDX02FQnJ",
    "outputId": "6cf57180-1338-460b-c044-554fc22e5e9f"
   },
   "outputs": [
    {
     "name": "stdout",
     "output_type": "stream",
     "text": [
      "('A', 'B', 'C')\n",
      "('A', 'C', 'B')\n",
      "('B', 'A', 'C')\n",
      "('B', 'C', 'A')\n",
      "('C', 'A', 'B')\n",
      "('C', 'B', 'A')\n"
     ]
    }
   ],
   "source": [
    "permutations_taking_three_elements = itertools.permutations(character_set, 3)\n",
    "for i in permutations_taking_three_elements:\n",
    "    print(i)"
   ]
  },
  {
   "cell_type": "markdown",
   "metadata": {
    "id": "VsIIowVhC3ev"
   },
   "source": [
    "From the above example we can see that we have a total of 6 arrangements possible from a set containing 3 alphabets taking 3 at a time. If we have to calculate this value mathematically we would use the formula:\n",
    "\n",
    "$$^n P_r = \\frac{n!}{n-r!}$$\n",
    "\n",
    "where,  \n",
    "n is number of elements in a set.  \n",
    "r is number of elements taken together.  \n",
    "\n",
    "Permutation taking 2 elements together from a set of 3 elements\n",
    "$^3 P_2 = \\frac{3!}{3-2!} = \\frac {3!}{1!} = \\frac{6}{1} = 6$  \n",
    "\n",
    "Permutation taking 3 elements together from a set of 3 elements\n",
    " $^3 P_3 = \\frac{3!}{3-3!} = \\frac {3!}{0!} = \\frac{6}{1} = 6$  \n",
    "\n",
    "\n",
    "Now lets look at combinations."
   ]
  },
  {
   "cell_type": "code",
   "execution_count": 4,
   "metadata": {
    "colab": {
     "base_uri": "https://localhost:8080/"
    },
    "id": "vjmrhsluC3ey",
    "outputId": "1202466c-0d9d-4418-e6b8-45b90dbadba3"
   },
   "outputs": [
    {
     "name": "stdout",
     "output_type": "stream",
     "text": [
      "('A', 'B')\n",
      "('A', 'C')\n",
      "('B', 'C')\n"
     ]
    }
   ],
   "source": [
    "combination_taking_two_elements = itertools.combinations(character_set, 2)\n",
    "\n",
    "for i in combination_taking_two_elements:\n",
    "    print(i)"
   ]
  },
  {
   "cell_type": "code",
   "execution_count": 5,
   "metadata": {
    "colab": {
     "base_uri": "https://localhost:8080/"
    },
    "id": "SYO9HIj8C3ew",
    "outputId": "3d3bf569-3411-41d0-a9a9-55d503168d2a"
   },
   "outputs": [
    {
     "name": "stdout",
     "output_type": "stream",
     "text": [
      "('A', 'B', 'C')\n"
     ]
    }
   ],
   "source": [
    "combination_taking_three_elements = itertools.combinations(character_set, 3)\n",
    "for i in combination_taking_three_elements: \n",
    "    print(i)"
   ]
  },
  {
   "cell_type": "markdown",
   "metadata": {
    "id": "QZDdQOOlC3ey"
   },
   "source": [
    "The formula for calculating number of combinations from n elements taken r at a time is given by is:\n",
    "$$^n C_r = \\frac{n!}{(n-r)! r!}$$"
   ]
  },
  {
   "cell_type": "markdown",
   "metadata": {
    "id": "eqjVrwFyC3ez"
   },
   "source": [
    "We have two more functions called *Combinations with Replacement*, *Product*"
   ]
  },
  {
   "cell_type": "code",
   "execution_count": 6,
   "metadata": {
    "colab": {
     "base_uri": "https://localhost:8080/"
    },
    "id": "1czZRTC_C3e0",
    "outputId": "83164b64-70d0-41c0-a244-cdefd295680f"
   },
   "outputs": [
    {
     "name": "stdout",
     "output_type": "stream",
     "text": [
      "('A', 'A')\n",
      "('A', 'B')\n",
      "('A', 'C')\n",
      "('B', 'B')\n",
      "('B', 'C')\n",
      "('C', 'C')\n"
     ]
    }
   ],
   "source": [
    "combination_taking_two_elements_with_replacement = itertools.combinations_with_replacement(character_set, 2)\n",
    "for i in combination_taking_two_elements_with_replacement:\n",
    "    print(i)"
   ]
  },
  {
   "cell_type": "code",
   "execution_count": 7,
   "metadata": {
    "colab": {
     "base_uri": "https://localhost:8080/"
    },
    "id": "QKeNbHWjC3e0",
    "outputId": "8363c139-daf4-4784-ff7f-2f72d3580287"
   },
   "outputs": [
    {
     "name": "stdout",
     "output_type": "stream",
     "text": [
      "('A', 'A')\n",
      "('A', 'B')\n",
      "('A', 'C')\n",
      "('B', 'A')\n",
      "('B', 'B')\n",
      "('B', 'C')\n",
      "('C', 'A')\n",
      "('C', 'B')\n",
      "('C', 'C')\n"
     ]
    }
   ],
   "source": [
    "product_taking_two_elements_with_replacement = itertools.product(character_set, repeat=2)\n",
    "for i in product_taking_two_elements_with_replacement:\n",
    "    print(i)"
   ]
  },
  {
   "cell_type": "code",
   "execution_count": 7,
   "metadata": {
    "id": "U5K1Bqt2C3e1"
   },
   "outputs": [],
   "source": []
  }
 ],
 "metadata": {
  "colab": {
   "collapsed_sections": [],
   "name": "01. Permutation and Combinations.ipynb",
   "provenance": []
  },
  "kernelspec": {
   "display_name": "Python 3 (ipykernel)",
   "language": "python",
   "name": "python3"
  },
  "language_info": {
   "codemirror_mode": {
    "name": "ipython",
    "version": 3
   },
   "file_extension": ".py",
   "mimetype": "text/x-python",
   "name": "python",
   "nbconvert_exporter": "python",
   "pygments_lexer": "ipython3",
   "version": "3.9.15"
  }
 },
 "nbformat": 4,
 "nbformat_minor": 1
}

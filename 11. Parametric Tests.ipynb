{
 "cells": [
  {
   "cell_type": "markdown",
   "metadata": {},
   "source": [
    "# Parametric Tests"
   ]
  },
  {
   "cell_type": "markdown",
   "metadata": {},
   "source": [
    "### **One-sample test**\n",
    "This is a test used when there is only one population under consideration, and a single sample is taken to see if there is a difference between the values calculated from the sample and population parameter.\n",
    "\n",
    "### Two-sample test:  \n",
    "This is a test used when samples are taken from two different populations. It helps to assess whether the population parameters are different based on the sample parameters.\n",
    "\n",
    "### The critical test statistic\n",
    "The limiting value of the sample test statistic to decide whether or not to reject the null hypothesis\n",
    "\n",
    "### Region of rejection\n",
    "The range of values where the null hypothesis is rejected. The region of acceptance is the area corresponding to the limits where the null hypothesis holds.\n",
    "\n",
    "### One-tail test  \n",
    "The region of rejection is located on the right tail (upper one-tail) or the left tail (lower-tail) but not on both tails.\n",
    "\n",
    "+ Null: The effect is less than or equal to zero.\n",
    "+ Alternative: The effect is greater than zero.\n",
    "\n",
    "We perform a *one-tail test (upper)* using a sample from the population because we are testing if the mean score has increased. The region of rejection will be located on the right tail.\n",
    "\n",
    "We conduct a *one-tail test (lower)* using a sample from the population because we are testing if the mean score has reduced. The region of rejection is located on the left tail.\n",
    "\n",
    "\n",
    "### Two-tail test\n",
    "The region of rejection is located on both tails of the distribution. we will conduct a two-tail test whene we\n",
    "are just testing for a change in the mean, and we do not know if this change is positive or negative.\n",
    "\n",
    "+ Null: The effect equals zero.\n",
    "+ Alternative: The effect does not equal zero.\n",
    "\n",
    "\n",
    "The p-value is often used in hypothesis tests to decide whether or not to reject a null hypothesis. The p-value is commonly compared with a significance level of 0.05.\n",
    "\n",
    "+ If p < 0.05, it would mean that the probability that the sample data was random and not representative of the population is very low. We reject the null hypothesis in this case.\n",
    "+ If p > 0.05, there is a greater chance that this sample is not representative of the population. We fail to reject the null hypothesis in this case.\n",
    "\n",
    "![](https://blogs.helsinki.fi/quantitative-communication/files/2014/03/hypothesis.png)"
   ]
  },
  {
   "cell_type": "markdown",
   "metadata": {},
   "source": [
    "### **Steps involved in hypothesis testing**\n",
    " \n",
    "1. State the null and alternate hypothesis.\n",
    "2. Fix the level of significance and obtain the critical value of the test statistic\n",
    "3. Select the appropriate test:\n",
    "    Choose the test based on the following parameters:\n",
    "        + Number of samples\n",
    "        + Whether the population is normally distributed\n",
    "        + The statistic being tested\n",
    "        + The sample size\n",
    "        + Whether the population standard deviation is known or not\n",
    "4. Obtain the relevant test statistic (**z-statistic / t-statistic / chi-square statistic / f-statistic**) or the p-value\n",
    "5. Compare the critical test statistic with the calculated test static or compare the p-value with 0.05\n",
    "    Reject the null hypothesis based on either the test statistic or the p-value:\n",
    "        Using the test statistic:\n",
    "            + calculated test static>critical test statistic (upper-tail test)\n",
    "            + calculated test static<critical test statistic (lower-tail test)\n",
    "        Using the p-value (p)\n",
    "            + if p<0.05 reject the null hypothesis\n",
    "            + if p>0.05 we fail to reject the null hypotheis\n",
    "6. Draw an inference based on the preceding comparison"
   ]
  },
  {
   "cell_type": "markdown",
   "metadata": {},
   "source": [
    "### One-sample z-test\n",
    "\n",
    "This test is used when we want to verify if the population mean differs from its historical or hypothesized value.  \n",
    "Criteria for a one-sample z-test:\n",
    "+ The population from which the sample is drawn is normally distributed\n",
    "+ The sample size is greater than 30\n",
    "+ A single sample is drawn\n",
    "+ We are testing for the population mean\n",
    "+ The population standard deviation is known\n",
    "Formula for calculating test statistic:\n",
    "\n",
    "$$ z = \\frac {(\\overline x - \\mu)}{}\n",
    "\n",
    "where x is the sample mean, μ is the population mean, σ is the population standard\n",
    "deviation, and n is the sample size"
   ]
  },
  {
   "cell_type": "code",
   "execution_count": null,
   "metadata": {},
   "outputs": [],
   "source": []
  }
 ],
 "metadata": {
  "kernelspec": {
   "display_name": "Python 3",
   "language": "python",
   "name": "python3"
  },
  "language_info": {
   "codemirror_mode": {
    "name": "ipython",
    "version": 3
   },
   "file_extension": ".py",
   "mimetype": "text/x-python",
   "name": "python",
   "nbconvert_exporter": "python",
   "pygments_lexer": "ipython3",
   "version": "3.8.3"
  }
 },
 "nbformat": 4,
 "nbformat_minor": 4
}

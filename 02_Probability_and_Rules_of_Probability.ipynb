{
  "nbformat": 4,
  "nbformat_minor": 0,
  "metadata": {
    "kernelspec": {
      "display_name": "Python 3",
      "language": "python",
      "name": "python3"
    },
    "language_info": {
      "codemirror_mode": {
        "name": "ipython",
        "version": 3
      },
      "file_extension": ".py",
      "mimetype": "text/x-python",
      "name": "python",
      "nbconvert_exporter": "python",
      "pygments_lexer": "ipython3",
      "version": "3.8.8"
    },
    "colab": {
      "name": "02. Probability and Rules of Probability.ipynb",
      "provenance": []
    }
  },
  "cells": [
    {
      "cell_type": "markdown",
      "metadata": {
        "id": "75tuxa_BKLEX"
      },
      "source": [
        "# **Probability and Rules of Probability**\n",
        "___"
      ]
    },
    {
      "cell_type": "markdown",
      "metadata": {
        "id": "8xI_XGaIKLEc"
      },
      "source": [
        "Before defining probability, You'd like you to familiarize yourself with some basic terms and definitions associated with it. \n",
        "\n",
        "+ **Random experiment:** An experiment is called random if we get different results or outcomes each time we perform the the same experiment under same conditions or in same manner. In short where the outcome is completely random.\n",
        "\n",
        "  Example:  Rolling of a die. Tossing an unbiased coin.\n",
        "\n",
        "+ **Outcome:** The result of a single experiment is known as outcome of that experiment.\n",
        "\n",
        "+ **Sample space:** Its an xxhaustive list containing all the possible outcomes of an experiment.\n",
        "\n",
        "  Example: tossing a coin the outcomes can be {Heads, Tails},  and for rolling a die it's {1, 2, 3, 4, 5, 6}\n",
        "\n",
        "+ **Event:** An event can comprise of a single outcome or a combination of outcomes. An event is a subset of the sample space.  \n",
        " Example: Getting at least 2 Heads in a row when a coin is tossed a total of 4 times. Getting Heads on a coin and 6 on a die, when the coin is tossed and a die is rolled simultaniously.\n",
        "\n",
        "\n",
        "### **Probability:**  \n",
        "\n",
        "Probability is a measure of the likelihood of an event to occur.  \n",
        "\n",
        "**Note:** Events cannot be predicted with total certanity. We can predict only the chance of an event to occur i.e. how likely they are to happen, using it.  \n",
        "The probability of any event always lies between 0 and 1. \"Zero\" denotes that the event is not possible, while value of \"One\" indicates that the event is certain to occur.\n",
        "\n",
        "$$P(A) = \\frac {n(A)}{n(S)}$$\n",
        "\n",
        "where,  \n",
        "P(A) is probability of event A to happen.  \n",
        "n(A) is number of outcomes of event A to happen.  \n",
        "n(S) is number of all possible outcomes.  \n",
        "\n",
        "\n",
        "**Example:** The probability of getting a number less than or equal to 2 when a die is rolled is   $2/6 = 1/3$"
      ]
    },
    {
      "cell_type": "markdown",
      "metadata": {
        "id": "KlP8GfFZKLEd"
      },
      "source": [
        "## **Rules of Probabaility**\n",
        "\n",
        "+ The probability of an event can range anywhere from 0 to 1  \n",
        "$0 \\leq P(A) \\leq 1.$\n",
        "\n",
        "\n",
        "+ Sum of all the probabilites should add upto 1  \n",
        "$P(A) + P(\\overline{A}) = 1$\n",
        "\n",
        "\n",
        "+ Complementary Rule - Probabilty of A to not happen  \n",
        "$P(\\overline{A})=1-P(A)$  \n",
        "\n",
        "\n",
        "+ Addition Rule (A and B are not necessarily disjoint) - Probability of A to happen or B to happen  \n",
        "$P(A\\cup B)=P(A)+P(B)-P(A\\cap B)$ \n",
        "\n",
        "\n",
        "+ Addition Rule (A and B are disjoint) - Probability of A to happen or B to happen  \n",
        "$P(A\\cup B)=P(A)+P(B)$ \n",
        "\n",
        "\n",
        "+ Multiplication Rule - Chain Rule   \n",
        "+ $P(A\\cap B)=P(A)*P(B|A)=P(B)*P(A|B)$ \n",
        "\n",
        "\n",
        "+ If A and B are independent events then   \n",
        "$P(A\\cap B)=P(A)*P(B)$ \n",
        "\n",
        "\n",
        "+ $P(A\\setminus B)=P(A)-P(A\\cap B)$ \n",
        "\n",
        "\n",
        "+ $If A\\subset B \\  then\\ P(A)\\leq P(B)$  \n",
        "\n",
        "\n",
        "+ $P(\\emptyset)=0 $ \n"
      ]
    },
    {
      "cell_type": "markdown",
      "metadata": {
        "id": "swoNtX39KLEd"
      },
      "source": [
        "## **Conditional probability**  \n",
        "\n",
        "The conditional probability of  **A** given **B** is the probability that **A** occurs given that **B** has occurred.\n",
        "\n",
        "$$P(A|B)=\\frac{P(A\\cap B)}{P(B)}\\,.$$\n",
        "\n",
        "Lets look at an example to understand this.\n",
        "\n",
        "Say If a fair die is rolled and let A be the event that the outcome is an odd number, i.e., A={1,3,5}. Also let B be the event that the outcome is less than or equal to 3, i.e., B={1,2,3}. Then what is the probability of A given B, P(A|B)?\n",
        "\n",
        "$P(B) = 3/6 \\ ,\\     P(A \\cap B) = 2/6$ \n",
        "\n",
        "\n",
        "$P(A|B) = 2/3$\n",
        "\n",
        "\n",
        "## **Law of Large Numbers**\n",
        "\n",
        "The law of large numbers states that as a sample size becomes larger, the sample mean gets closer to the expected value.\n",
        "\n",
        "The most basic example of this involves flipping a coin. Each time we flip a coin, the probability that it lands on heads is 1/2. Thus, the expected proportion of heads that will appear over an infinite number of flips is 1/2 or 0.5. \n",
        "\n",
        "However, if we flip a coin 10 times we might find that it only lands on heads 3 times. Since 10 flips is a small sample size, there’s no guarantee that the proportion of heads will be close to 0.5.\n",
        "\n",
        "If we continue flipping the coin another 10 times, we might find that it lands on heads a total of 9 times out of 20. If we flip it 10 more times, we might find that it lands on heads 22 times out of 30. \n",
        "\n",
        "As we flip the coin more and more, the proportion of times that it lands on heads will converge to the expected proportion of 0.5.\n",
        "\n",
        "![](lln.png)"
      ]
    },
    {
      "cell_type": "code",
      "metadata": {
        "id": "3h0VgeSGKLEe"
      },
      "source": [
        ""
      ],
      "execution_count": null,
      "outputs": []
    }
  ]
}
{
 "cells": [
  {
   "cell_type": "markdown",
   "id": "6782f79a",
   "metadata": {},
   "source": [
    "# z - test\n",
    "___\n",
    "\n",
    "## One-sample z-test\n",
    "\n",
    "This test is used when we want to verify if the population mean differs from its historical or hypothesized value.  \n",
    "Criteria for a one-sample z-test:\n",
    "+ The population from which the sample is drawn is normally distributed\n",
    "+ The sample size is greater than 30\n",
    "+ A single sample is drawn\n",
    "+ We are testing for the population mean\n",
    "+ The population standard deviation is known\n",
    "Formula for calculating test statistic:\n",
    "\n",
    "$$ z = \\frac {(\\overline x - \\mu)}{\\frac{\\sigma}{\\sqrt n}}$$\n",
    "\n",
    "where x is the sample mean, $\\mu$ is the population mean, $\\sigma$ is the population standard\n",
    "deviation, and $n$ is the sample size.  \n",
    "\n",
    "## One-Sample z-test One-tail\n",
    "\n",
    "A pizza shop has an average delivery time of 45 minutes with a standard deviation on 5 minutes. Due to seom complaints from customer they decided to analyze the last 40 orders. The average delivery time of last 40 orders was found to be 48 minutes. Is the new mean significantly greater than the pop. avg?   \n",
    "  \n",
    "Null hypothesis $H_0$: $\\mu$ = 45  \n",
    "Alternate hypothesis $H_1$: $\\mu$>45\n",
    "\n",
    "lets fix level of significance $\\alpha$=0.05\n",
    "\n",
    "Our area of rejection 0.05 is on right tail"
   ]
  },
  {
   "cell_type": "code",
   "execution_count": 1,
   "id": "f793d2d7",
   "metadata": {},
   "outputs": [
    {
     "name": "stdout",
     "output_type": "stream",
     "text": [
      "3.7947331922020555\n"
     ]
    }
   ],
   "source": [
    "z = (48-45)/(5/(40)**0.5)\n",
    "print(z)"
   ]
  },
  {
   "cell_type": "code",
   "execution_count": 2,
   "id": "d4c5f52e",
   "metadata": {},
   "outputs": [
    {
     "name": "stdout",
     "output_type": "stream",
     "text": [
      "7.390115516725526e-05\n"
     ]
    }
   ],
   "source": [
    "import scipy.stats as stats\n",
    "p_value = 1 - stats.norm.cdf(z) # cumulative distribution function\n",
    "print(p_value)"
   ]
  },
  {
   "cell_type": "markdown",
   "id": "0ab10cd5",
   "metadata": {},
   "source": [
    "since p-value < $\\alpha$, we reject the null hypothesis. There is significant difference, at a level of 0.05, between the\n",
    "average delivery time of the sample and the historical population average."
   ]
  },
  {
   "cell_type": "markdown",
   "id": "93b568f0",
   "metadata": {},
   "source": [
    "## One-sample z-test Two-tail\n",
    "\n",
    "Suppose we want to check if a drug has influence on IQ or not. In this case we have to perform a two tail test because we don't need to know wether it effects positively or negatively in specific. we just want to know, does it effect IQ or not.\n",
    "\n",
    "Now for two tail test if we fix a level of significance as $\\alpha$ = 0.05\n",
    "\n",
    "Our area of rejection is 0.025 on both right and left tail.\n",
    "\n",
    "Our population mean $\\mu$ = 100 and $\\sigma$ = 15, we measure from a sample of 100 subjects and find mean IQ to be 96.\n"
   ]
  },
  {
   "cell_type": "code",
   "execution_count": 3,
   "id": "d3823b16",
   "metadata": {},
   "outputs": [
    {
     "name": "stdout",
     "output_type": "stream",
     "text": [
      "statistic:  2.6667\n"
     ]
    }
   ],
   "source": [
    "z = (100-96)/(15/(100**0.5))\n",
    "print(\"statistic: \", round(z, 4))"
   ]
  },
  {
   "cell_type": "code",
   "execution_count": 4,
   "id": "24e9f7e6",
   "metadata": {},
   "outputs": [
    {
     "name": "stdout",
     "output_type": "stream",
     "text": [
      "Critical: 1.96\n"
     ]
    }
   ],
   "source": [
    "import scipy.stats as stats\n",
    "critical = stats.norm.ppf(1-0.025) # cumulative distribution function\n",
    "print(\"Critical:\", round(critical, 4))"
   ]
  },
  {
   "cell_type": "markdown",
   "id": "4cac806a",
   "metadata": {},
   "source": [
    "Since our test statistic$>$critical statistic in this case We conclude that our drug has a significant influence on IQ values at a criterion level of a=.05We conclude that our drug has a significant influence on IQ values at a criterion level of $\\alpha$=.05"
   ]
  },
  {
   "cell_type": "markdown",
   "id": "c8fd1388",
   "metadata": {},
   "source": [
    "## Two-sample z-test  \n",
    "\n",
    "A two-sample z-test is similar to a one-sample z-test, the only differences being as follows:\n",
    "+ There are two groups/populations under consideration and we draw one sample from each population\n",
    "+ Both the population distributions are normal\n",
    "+ Both population standard deviations are known\n",
    "+ The formula for calculating test statistic: :\n",
    "$$z = \\frac{\\overline x_1 - \\overline x_2} {\\sqrt{\\frac{\\sigma_1^2}{n_1}+\\frac{\\sigma_2^2}{n_2}}}$$\n",
    "\n",
    "An organization manufactures LED bulbs in two production units, A and B. The quality control team believes that the quality of production at unit A is better than that of B. Quality is measured by how long a bulb works. The team takes samples from both units to test this. The mean life of LED bulbs at units A and B are 1001.3 and 810.47, respectively. The sample sizes are 40 and 44. The population variances are\n",
    "known: $\\sigma_A^2$ = 48127  $\\sigma_B^2$ = 59173.  \n",
    "\n",
    "Conduct the appropriate test, at 5% significance level, to verify the claim of the quality\n",
    "control team.  \n",
    "\n",
    "Null hypothesis: $H_0: \\mu_A ≤ \\mu_B$  \n",
    "Alternate hypothesis: $H_1 : \\mu_A > \\mu_B$\n",
    "\n",
    "lets fix level of significance $\\alpha$=0.05"
   ]
  },
  {
   "cell_type": "code",
   "execution_count": 5,
   "id": "3373712a",
   "metadata": {},
   "outputs": [
    {
     "name": "stdout",
     "output_type": "stream",
     "text": [
      "3.781260568723408\n"
     ]
    }
   ],
   "source": [
    "z = (1001.34-810.47)/(48127/40+59173/44)**0.5\n",
    "print(z)"
   ]
  },
  {
   "cell_type": "code",
   "execution_count": 6,
   "id": "451853c0",
   "metadata": {},
   "outputs": [
    {
     "data": {
      "text/plain": [
       "7.801812433294586e-05"
      ]
     },
     "execution_count": 6,
     "metadata": {},
     "output_type": "execute_result"
    }
   ],
   "source": [
    "import scipy.stats as stats\n",
    "p_value = 1 - stats.norm.cdf(z)\n",
    "p_value"
   ]
  },
  {
   "cell_type": "markdown",
   "id": "6736c716",
   "metadata": {},
   "source": [
    "calculated p-value (0.000078)<$\\alpha$(0.05), we reject the null hypothesis. The LED bulbs produced at unit A have a significantly longer life than those at unit B, at a 5% level."
   ]
  },
  {
   "cell_type": "markdown",
   "id": "46e49fdd",
   "metadata": {},
   "source": [
    "## Hypothesis tests with proportions\n",
    "\n",
    "Proportion tests are used with nominal data and are useful for comparing percentages or proportions. For example, a survey collecting responses from a department in an organization might claim that 85% of people in the organization are satisfied with its policies. Historically the satisfaction rate has been 82%. Here, we are comparing a percentage or a proportion taken from the sample with a percentage/proportion from the population. The following are some of the characteristics of the sampling distribution of proportions:\n",
    "\n",
    "+ The sampling distribution of the proportions taken from the sample is approximately normal\n",
    "+ The mean of this sampling distribution (p) = Population proportion (p)\n",
    "+ Calculating the test statistic: The following equation gives the z-value\n",
    "$$ z = \\frac{\\overline p - p}{\\sqrt{\\frac{p(1-p)}{n}}} $$\n",
    "\n",
    "Where $\\overline p$ is the sample proportion, $p$ is the population proportion, and $n$ is the sample size."
   ]
  },
  {
   "cell_type": "markdown",
   "id": "181ac802",
   "metadata": {},
   "source": [
    "## One-sample proportion z-test\n",
    "\n",
    "It is known that 40% of the total customers are satisfied with the services provided by a mobile service center. The customer service department of this center decides to conduct a survey for assessing the current customer satisfaction rate. It surveys 100 of its customers and finds that only 30 out of the 100 customers are satisfied with its services. Conduct a hypothesis test at a 5% significance level to determine if the percentage of satisfied customers has reduced from the initial satisfaction level (40%).\n",
    "\n",
    "$H_0: p = 0·4$  \n",
    "$H_1: p < 0·4$\n",
    "\n",
    "The < sign indicates lower-tail test.\n",
    "\n",
    "Fix level of significance $\\alpha$ = 0.5"
   ]
  },
  {
   "cell_type": "code",
   "execution_count": 7,
   "id": "088856d4",
   "metadata": {},
   "outputs": [
    {
     "data": {
      "text/plain": [
       "-2.041241452319316"
      ]
     },
     "execution_count": 7,
     "metadata": {},
     "output_type": "execute_result"
    }
   ],
   "source": [
    "z=(0.3-0.4)/((0.4)*(1-0.4)/100)**0.5\n",
    "z"
   ]
  },
  {
   "cell_type": "code",
   "execution_count": 8,
   "id": "f369ef9c",
   "metadata": {},
   "outputs": [
    {
     "data": {
      "text/plain": [
       "0.02061341666858179"
      ]
     },
     "execution_count": 8,
     "metadata": {},
     "output_type": "execute_result"
    }
   ],
   "source": [
    "import scipy.stats as stats\n",
    "\n",
    "p=stats.norm.cdf(z)\n",
    "p"
   ]
  },
  {
   "cell_type": "markdown",
   "id": "9a743e8f",
   "metadata": {},
   "source": [
    "p-value (0.02)<0.05.  We reject the null hypothesis. At a 5% significance level, the percentage of customers satisfied with the service center’s services has reduced"
   ]
  },
  {
   "cell_type": "markdown",
   "id": "88bdfc5a",
   "metadata": {},
   "source": [
    "## **Two-sample proportion z-test**\n",
    "\n",
    "Here, we compare proportions taken from two independent samples belonging to two different populations. The following equation gives the formula for the critical test statistic:\n",
    "\n",
    "$$ z = \\frac {(\\overline p_1 - \\overline p_2)}{\\sqrt{\\frac{p_c(1-p_c)}{N_1} + \\frac{p_c(1-p_c)}{N_2}}}$$\n",
    "\n",
    "In the preceding formula, $p_1$ is the proportion from the first sample, and $p_2$ is the\n",
    "proportion from the second sample. $N_1$is the sample size of the first sample, and $N_2$ is the\n",
    "sample size of the second sample. $p_c$ is the pooled variance.\n",
    "\n",
    "$$\\overline p_1 = \\frac{x_1}{N_1} ;  \\overline p_2 = \\frac {x_2}{N_2} ;  p_c = \\frac {x_1 + x_2}{N_1 + N_2}$$  \n",
    "In the preceding formula, $x_1$ is the number of successes in the first sample, and $x_2$ is the\n",
    "number of successes in the second sample."
   ]
  },
  {
   "cell_type": "markdown",
   "id": "766864f0",
   "metadata": {},
   "source": [
    "A ride-sharing company is investigating complaints by its drivers that some of the passengers (traveling with children) do not conform with child safety guidelines (for example, not bringing a child seat or not using the seat belt). The company undertakes surveys in two major cities. The surveys are collected independently, with one sample being taken from each city. From the data collected, it seems that the passengers in City B are more noncompliant than those in City A. The law enforcement authority wants to know if the proportion of passengers conforming with child safety guidelines is different for the two cities. The data for the two cities is given in the following table:\n",
    "\n",
    "|                 |  City A | City B |\n",
    "|-----------------|---------|--------|\n",
    "|  Total surveyed |  200    | 230    |\n",
    "|No. of complaint |  110    | 106    |"
   ]
  },
  {
   "cell_type": "markdown",
   "id": "89b576e6",
   "metadata": {},
   "source": [
    "Null hypothesis: $H_0: p_A = p_B$  \n",
    "Alternate hypothesis: $H_1 : p_A ! = p_B$\n",
    "\n",
    "This would be a two-tail test, because the region of rejection could be located on either side.\n",
    "\n",
    "area = 0.025 on both sides. level of significance $\\alpha$ = 0.05"
   ]
  },
  {
   "cell_type": "code",
   "execution_count": 9,
   "id": "a5054442",
   "metadata": {},
   "outputs": [
    {
     "data": {
      "text/plain": [
       "1.8437643201697864"
      ]
     },
     "execution_count": 9,
     "metadata": {},
     "output_type": "execute_result"
    }
   ],
   "source": [
    "x1,n1,x2,n2=110,200,106,230\n",
    "p1=x1/n1\n",
    "p2=x2/n2\n",
    "pc=(x1+x2)/(n1+n2)\n",
    "z_statistic=(p1-p2)/(((pc*(1-pc)/n1)+(pc*(1-pc)/n2))**0.5)\n",
    "z_statistic"
   ]
  },
  {
   "cell_type": "code",
   "execution_count": 10,
   "id": "03472547",
   "metadata": {},
   "outputs": [
    {
     "data": {
      "text/plain": [
       "1.959963984540054"
      ]
     },
     "execution_count": 10,
     "metadata": {},
     "output_type": "execute_result"
    }
   ],
   "source": [
    "critical = stats.norm.ppf(1-0.025)\n",
    "critical"
   ]
  },
  {
   "cell_type": "code",
   "execution_count": 11,
   "id": "18ac0c29",
   "metadata": {},
   "outputs": [
    {
     "data": {
      "text/plain": [
       "1.9587731666628365"
      ]
     },
     "execution_count": 11,
     "metadata": {},
     "output_type": "execute_result"
    }
   ],
   "source": [
    "p_value =2*(1-stats.norm.cdf(z))\n",
    "p_value"
   ]
  },
  {
   "cell_type": "markdown",
   "id": "615b4141",
   "metadata": {},
   "source": [
    "Since statistic < critical or p > 0.05, we fail to reject the null hypothesis.\n",
    "There is no significant difference between the proportion of passengers in these cities complying with child safety norms, at a 5% significance level."
   ]
  },
  {
   "cell_type": "code",
   "execution_count": null,
   "id": "f1ca0ba9",
   "metadata": {},
   "outputs": [],
   "source": []
  }
 ],
 "metadata": {
  "kernelspec": {
   "display_name": "Python 3",
   "language": "python",
   "name": "python3"
  },
  "language_info": {
   "codemirror_mode": {
    "name": "ipython",
    "version": 3
   },
   "file_extension": ".py",
   "mimetype": "text/x-python",
   "name": "python",
   "nbconvert_exporter": "python",
   "pygments_lexer": "ipython3",
   "version": "3.8.8"
  }
 },
 "nbformat": 4,
 "nbformat_minor": 5
}

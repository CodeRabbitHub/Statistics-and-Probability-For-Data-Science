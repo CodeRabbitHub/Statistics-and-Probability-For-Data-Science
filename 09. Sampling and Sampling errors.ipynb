{
 "cells": [
  {
   "cell_type": "markdown",
   "metadata": {},
   "source": [
    "## Sampling\n",
    "\n",
    "Sampling is a technique used to gather information about a population by collecting data from a representative subset of the population, rather than measuring every individual in the population. It is a practical solution when it is not feasible to collect data from every subject in the population. The sample data is then used to estimate the population parameters, but it is crucial that the sample accurately reflects the characteristics of the population.\n",
    "\n",
    "### Probability Sampling\n",
    "In probability sampling, every member of the population has an equal chance of being selected, making it possible to create a sample that accurately represents the population. The following are some commonly used probability sampling techniques:\n",
    "\n",
    "1. **Simple random sampling**: Subjects are chosen randomly without any bias or preference. Every subject has an equal likelihood of being selected.\n",
    "\n",
    "2. **Stratified random sampling**: The population is divided into non-overlapping groups and subjects are randomly selected from each group. For example, if surveying students to assess their preferences, the population can be divided into male and female groups and subjects selected randomly from each group. This method ensures that all categories or groups are represented in the sample.\n",
    "\n",
    "3. **Systematic random sampling**: Subjects are chosen at regular intervals. For example, to select a sample of 100 people from a population of 500, divide 500 by 100 (which equals 5), and then take every 5th person for the sample. This method is easy to perform but may not be representative of the entire population.\n",
    "\n",
    "4. **Cluster sampling**: The population is divided into non-overlapping clusters and a few clusters are selected randomly. Either all members of the selected clusters are included (one-stage) or a subset of members is randomly chosen (two-stage). This method is cheaper and more convenient to carry out.  \n",
    "\n",
    "Advantages of Probability Sampling\n",
    "+ Reduced Sample Bias\n",
    "+ Diverse Population\n",
    "+ Creates an Accurate Sample\n",
    "\n",
    "### Non-Probability Sampling\n",
    "In non-probability sampling, all elements of the population do not have an equal chance of being selected, increasing the risk of ending up with a non-representative sample. Some commonly used non-probability sampling techniques include:\n",
    "\n",
    "1. **Convenience sampling**: Subjects that are easily accessible or available are selected. For example, a researcher can select subjects from their workplace or university. This method is easy to implement but may not be representative of the population.\n",
    "\n",
    "2. **Judgmental or purposive sampling**: Subjects are selected based on the purpose of the sampling. For example, if a survey is being carried out to assess the effectiveness of intermittent fasting, the population can be limited to those aged 25-50.\n",
    "\n",
    "3. **Quota sampling**: Quotas are taken into account so that the significant characteristics of the population are reflected in the sample. For example, if a population consists of 60% English-speaking people, 20% French-speaking people, and 20% Spanish-speaking people, the sample should have the same percentages.\n",
    "\n",
    "4. **Snowball sampling**: The researcher identifies someone they know who meets the criteria of the study and the sample group grows through word-of-mouth referrals. This method is used for populations that lack visibility, such as a survey of people suffering from an under-reported illness.\n",
    "\n",
    "Note that non-probability sampling is less reliable and may not produce generalizable results compared to probability sampling."
   ]
  },
  {
   "cell_type": "markdown",
   "metadata": {},
   "source": [
    "## Types of errors in sampling\n",
    "\n",
    "When making inferences about a population based on a sample, it's possible to encounter various types of errors. These errors can be grouped into the following categories:\n",
    "\n",
    "+ **Sampling Error**: The difference between the sample estimate for the population and the actual population estimate\n",
    "+ **Coverage Error**: Occurs when the population is not adequately represented and some groups are excluded\n",
    "+ **Nonresponse Error**: Occurs when we fail to include nonresponsive subjects who meet the criteria of the study, but are excluded because they do not answer the survey questions.\n",
    "+ **Measurement Error**: Occurs when the correct parameters are not measured due to flaws in the measurement method or tool used."
   ]
  },
  {
   "cell_type": "code",
   "execution_count": null,
   "metadata": {},
   "outputs": [],
   "source": []
  }
 ],
 "metadata": {
  "kernelspec": {
   "display_name": "Python 3 (ipykernel)",
   "language": "python",
   "name": "python3"
  },
  "language_info": {
   "codemirror_mode": {
    "name": "ipython",
    "version": 3
   },
   "file_extension": ".py",
   "mimetype": "text/x-python",
   "name": "python",
   "nbconvert_exporter": "python",
   "pygments_lexer": "ipython3",
   "version": "3.9.15"
  }
 },
 "nbformat": 4,
 "nbformat_minor": 4
}

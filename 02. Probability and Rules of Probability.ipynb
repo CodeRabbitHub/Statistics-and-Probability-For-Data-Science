{
 "cells": [
  {
   "cell_type": "markdown",
   "metadata": {},
   "source": [
    "# **Probability and Rules of Probability**\n",
    "___"
   ]
  },
  {
   "cell_type": "markdown",
   "metadata": {},
   "source": [
    "Given below are a few important concepts related to probability.  \n",
    "\n",
    "**Random experiment:** An experiment is random if although it is repeated in the same manner every time, can result in different outcomes.  \n",
    "*Example:* Rolling of a dice.\n",
    "\n",
    "**Outcome:** The result of a single experiment.\n",
    "\n",
    "**Sample space:** Exhaustive list containing all possible outcomes of an experiment.\n",
    "\n",
    "**Event:** An event can comprise a single outcome or a combination of outcomes. An event is a subset of the sample space.\n",
    "\n",
    "**Probability:** A quantitative measure of the likelihood of the event. The probability of any event always lies between 0 and 1.  \n",
    "**0** denotes that the event is not possible, while **1** indicates that the event is certain to occur.\n",
    "\n",
    "$$P(A) = \\frac {n(A)}{n(S)}$$\n",
    "\n",
    "where,  \n",
    "P(A) is probability of event A to happen.  \n",
    "n(A) is number of outcomes of event A to happen.  \n",
    "n(S) is number of all possible outcomes.  \n",
    "\n",
    "\n",
    "**Example:** The probability of getting a number less than or equal to to is  $2/6 = 1/3$"
   ]
  },
  {
   "cell_type": "markdown",
   "metadata": {},
   "source": [
    "## Rules of Probabaility\n",
    "\n",
    "+ $P(\\overline{A})=1-P(A)$  \n",
    "+ $P(\\emptyset)=0 $ \n",
    "+ $If A\\subset B \\    then\\     P(A)\\leq P(B)$  \n",
    "+ $P(A\\setminus B)=P(A)-P(A\\cap B)$ \n",
    "+ $P(A\\cup B)=P(A)+P(B)-P(A\\cap B)$ \n",
    "\n",
    "+ $P(A\\cap B)=P(A)*P(B/A)$  \n",
    "\n",
    "If A and B are independent events then \n",
    "\n",
    "+ $P(A\\cap B)=P(A)*P(B)$ "
   ]
  },
  {
   "cell_type": "markdown",
   "metadata": {},
   "source": [
    "## **Conditional probability**  \n",
    "\n",
    "The conditional probability of  **A** given **B** is the probability that **A** occurs given that **B** has occurred.\n",
    "\n",
    "$$P(A|B)=\\frac{P(A\\cap B)}{P(B)}\\,.$$"
   ]
  },
  {
   "cell_type": "markdown",
   "metadata": {},
   "source": [
    "### Example:\n",
    "\n",
    "In a card game, suppose a player needs to draw two cards of the same suit in order to win. Of the 52 cards, there are 13 cards in each suit. Suppose first the player draws a heart. Now the player wishes to draw a second heart. Since one heart has already been chosen, there are now 12 hearts remaining in a deck of 51 cards. So the conditional probability  \n",
    "\n",
    "$P(Draw second heart|First card a heart) = 12/51.$  \n",
    "\n",
    "\n",
    "Suppose an individual applying to a college determines that he has an 80% chance of being accepted, and he knows that dormitory housing will only be provided for 60% of all of the accepted students. The chance of the student being accepted and receiving dormitory housing is defined by  \n",
    "\n",
    "$P(Accepted and Dormitory Housing) = P(Dormitory Housing|Accepted)P(Accepted) = (0.60)*(0.80) = 0.48.$"
   ]
  },
  {
   "cell_type": "code",
   "execution_count": null,
   "metadata": {},
   "outputs": [],
   "source": []
  }
 ],
 "metadata": {
  "kernelspec": {
   "display_name": "Python 3",
   "language": "python",
   "name": "python3"
  },
  "language_info": {
   "codemirror_mode": {
    "name": "ipython",
    "version": 3
   },
   "file_extension": ".py",
   "mimetype": "text/x-python",
   "name": "python",
   "nbconvert_exporter": "python",
   "pygments_lexer": "ipython3",
   "version": "3.8.8"
  }
 },
 "nbformat": 4,
 "nbformat_minor": 4
}

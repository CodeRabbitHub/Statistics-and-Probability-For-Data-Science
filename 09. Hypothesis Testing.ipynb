{
 "cells": [
  {
   "cell_type": "markdown",
   "metadata": {},
   "source": [
    "# Hypothesis Testing"
   ]
  },
  {
   "cell_type": "markdown",
   "metadata": {},
   "source": [
    "### **Population Parameters vs. Sample Statistics**\n",
    "\n",
    "A **parameter** is a value that describes a characteristic of an entire population, such as the population mean. Because we cannot  measure an entire population, we usually don't know the real value of a parameter. In fact, parameter values are almost always unknowable. While we don't know the value, it definitely exists.\n",
    "\n",
    "For example, the average height of humans exists but we dont know exactly what it is!  \n",
    "\n",
    "The population mean and standard deviation are two common parameters. In statistics, Greek symbols usually represent population parameters, such as $\\mu$ (mu) for the mean and $\\sigma$ (sigma) for the standard deviation.  \n",
    "\n",
    "\n",
    "A **statistic** is a characteristic of a sample. If you collect a sample and calculate the mean and standard deviation, these are sample statistics.  \n",
    "\n",
    "Inferential statistics allow you to use sample statistics to make conclusions about a population. In other words In inferential statistics, we use sample statistics to estimate population parameters However, to draw valid conclusions, we must use representative sampling techniques. These techniques help ensure that samples produce unbiased estimates. Biased estimates are systematically too high or too low. You want unbiased estimates because they are correct on average. We use random sampling and other representative sampling methodologies to obtain unbiased estimates."
   ]
  },
  {
   "cell_type": "markdown",
   "metadata": {},
   "source": [
    "### Parametric versus Nonparametric Analyses"
   ]
  },
  {
   "cell_type": "markdown",
   "metadata": {},
   "source": [
    "Parametric statistics is a branch of statistics that assumes sample data come from populations that are adequately modeled by probability distributions with a set of parameters. Parametric analyses are the most common statistical methods.  \n",
    "\n",
    "Conversely, nonparametric tests don’t assume that your data follow a particular distribution."
   ]
  },
  {
   "cell_type": "markdown",
   "metadata": {},
   "source": [
    "### Hypothesis Testing\n",
    "\n",
    "Hypothesis testing is a statistical analysis that uses sample data to assess two mutually exclusive theories about the properties of a population. Statisticians call these theories the **null hypothesis** and the **alternative hypothesis**. \n",
    "\n",
    "A hypothesis test assesses your sample statistic and factors in an estimate of the sampling error to determine which hypothesis the data support. When you can reject the null hypothesis, the results are statistically significant, and the data support the theory that an effect exists at the population level.\n",
    "\n",
    "We either reject the null hypothesis or fail to reject the null hypothesis. Note that rejecting the null hypothesis does not imply that the alternative hypothesis is true. The result of a hypothesis test is only suggestive or indicative of something regarding the population, and it does not conclusively prove or disprove any hypothesis."
   ]
  },
  {
   "cell_type": "markdown",
   "metadata": {},
   "source": [
    "**Null hypothesis:** The null hypothesis states there is no effect (i.e., the effect size equals zero).\n",
    "$H_0$ often signifies the null."
   ]
  },
  {
   "cell_type": "markdown",
   "metadata": {},
   "source": [
    "**Alternate hypothesis:** The alternative hypothesis is the other theory about the properties of the population in hypothesis testing. Typically, the alternative hypothesis states that a population parameter does not equal the null hypothesis value. In other words, there is a non-zero effect. If your sample contains sufficient evidence, you can reject the null and favor\n",
    "the alternative hypothesis. $H_1$ or $H_A$ usually identifies the alternative."
   ]
  },
  {
   "cell_type": "markdown",
   "metadata": {},
   "source": [
    "### **Confidence interval**\n",
    "\n",
    "A **confidence interval (CI)** is a type of estimate computed from the statistics of the observed data. This gives a range of values for an unknown parameter (for example, a population mean). The interval has an associated confidence level that gives the probability with which an estimated interval will contain the true value of the parameter. The confidence level is chosen by the investigator. For a given estimation in a given sample, using a higher confidence level generates a wider (i.e., less precise) confidence interval.\n",
    "\n",
    "The confidence level is designated before examining the data. Most commonly, a 95% confidence level is used. However, other confidence levels, such as 90% or 99%, are sometimes used."
   ]
  },
  {
   "cell_type": "code",
   "execution_count": null,
   "metadata": {},
   "outputs": [],
   "source": []
  }
 ],
 "metadata": {
  "kernelspec": {
   "display_name": "Python 3",
   "language": "python",
   "name": "python3"
  },
  "language_info": {
   "codemirror_mode": {
    "name": "ipython",
    "version": 3
   },
   "file_extension": ".py",
   "mimetype": "text/x-python",
   "name": "python",
   "nbconvert_exporter": "python",
   "pygments_lexer": "ipython3",
   "version": "3.8.3"
  }
 },
 "nbformat": 4,
 "nbformat_minor": 4
}

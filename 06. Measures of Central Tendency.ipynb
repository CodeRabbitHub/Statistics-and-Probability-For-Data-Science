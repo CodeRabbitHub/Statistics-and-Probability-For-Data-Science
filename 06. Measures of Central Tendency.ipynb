{
 "cells": [
  {
   "cell_type": "markdown",
   "metadata": {},
   "source": [
    "# Introduction to Measures of Central Tendency\n",
    "\n",
    "## Overview\n",
    "\n",
    "Measures of central tendency are statistical metrics that describe the central point of a dataset. They provide a summary that represents a typical value within the dataset. Key measures of central tendency include the mean, median, mode, percentile, and quartile.\n",
    "\n",
    "### Mean\n",
    "\n",
    "The mean is the arithmetic average of a dataset, calculated by summing all values and dividing by the number of values.\n",
    "\n",
    "**Properties of the Mean:**\n",
    "\n",
    "- The sum of deviations of the items from their arithmetic mean is always zero, i.e., $\\sum (x - \\overline{x}) = 0$.\n",
    "- The sum of the squared deviations from the arithmetic mean (A.M.) is minimized compared to deviations from any other value.\n",
    "- Replacing each item in the series with the mean results in a sum equal to the sum of the original items.\n",
    "- The mean is affected by every value in the dataset.\n",
    "- It is a calculated value and not dependent on the position within the series.\n",
    "- It is sensitive to extreme values (outliers).\n",
    "- The mean cannot typically be identified by inspection.\n",
    "- In some cases, the mean may not represent an actual value within the dataset (e.g., an average of 10.7 patients admitted per day).\n",
    "- The arithmetic mean is not suitable for extremely asymmetrical distributions.\n",
    "\n",
    "### Median\n",
    "\n",
    "The median is the middle value in an ordered dataset, representing the 50th percentile.\n",
    "\n",
    "**Properties of the Median:**\n",
    "\n",
    "- The median is not influenced by all data values.\n",
    "- It is determined by its position in the dataset and not by individual values.\n",
    "- The distance from the median to all other values is minimized compared to any other point.\n",
    "- Every dataset has a single median.\n",
    "- The median cannot be algebraically manipulated or combined.\n",
    "- It remains stable in grouped data procedures.\n",
    "- It is not applicable to qualitative data.\n",
    "- The data must be ordered for median calculation.\n",
    "- The median is suitable for ratio, interval, and ordinal scales.\n",
    "- Outliers and skewed data have less impact on the median.\n",
    "- The median is a better measure than the mean in skewed distributions.\n",
    "\n",
    "### Mode\n",
    "\n",
    "The mode is the most frequently occurring value in a dataset with discrete values.\n",
    "\n",
    "**Properties of the Mode:**\n",
    "\n",
    "- The mode is useful when the most typical case is desired.\n",
    "- It can be used with nominal or categorical data, such as religious preference, gender, or political affiliation.\n",
    "- The mode may not be unique; a dataset can have more than one mode or none at all.\n",
    "\n",
    "### Percentile\n",
    "\n",
    "A percentile indicates the percentage of values in a dataset that fall below a particular value. The median is the 50th percentile.\n",
    "\n",
    "### Quartile\n",
    "\n",
    "A quartile divides an ordered dataset into four equal parts. \n",
    "\n",
    "- $Q_1$ (first quartile) corresponds to the 25th percentile.\n",
    "- $Q_2$ corresponds to the median.\n",
    "- $Q_3$ corresponds to the 75th percentile.\n"
   ]
  },
  {
   "cell_type": "code",
   "execution_count": null,
   "metadata": {},
   "outputs": [],
   "source": []
  }
 ],
 "metadata": {
  "kernelspec": {
   "display_name": "Python 3 (ipykernel)",
   "language": "python",
   "name": "python3"
  },
  "language_info": {
   "codemirror_mode": {
    "name": "ipython",
    "version": 3
   },
   "file_extension": ".py",
   "mimetype": "text/x-python",
   "name": "python",
   "nbconvert_exporter": "python",
   "pygments_lexer": "ipython3",
   "version": "3.11.7"
  }
 },
 "nbformat": 4,
 "nbformat_minor": 4
}

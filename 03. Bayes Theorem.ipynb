{
 "cells": [
  {
   "cell_type": "markdown",
   "metadata": {
    "id": "UuH9nzMnSFda"
   },
   "source": [
    "# Bayes theorem"
   ]
  },
  {
   "cell_type": "markdown",
   "metadata": {},
   "source": [
    "## **Bayes Theorem**\n",
    "\n",
    "Bayes' theorem is a mathematical principle used to calculate the conditional probability of an event given some evidence related to that event. It establishes a relationship between the probability of an event and prior knowledge of conditions associated with it. As evidence accumulates, the probability of the event can be determined more accurately.\n",
    "\n",
    "$$ P(A|B) = \\frac{P(B|A)P(A)}{P(B)} $$\n",
    "\n",
    "- $P(A|B)$, also known as the posterior probability, represents the probability of the hypothesis being true given the available data.\n",
    "  \n",
    "- $P(B|A)$ is the probability of obtaining the evidence given the hypothesis.\n",
    "  \n",
    "- $P(A)$ is the prior probability, representing the probability of the hypothesis being true before any data is considered.\n",
    "  \n",
    "- $P(B)$ is the general probability of occurrence of the evidence, without any hypothesis, also known as the normalizing constant.\n",
    "\n",
    "**Example: Fire and Smoke**\n",
    "\n",
    "Suppose we want to find the probability of a fire given that there is smoke:\n",
    "\n",
    "$$P(Fire|Smoke) =\\frac {P(Smoke|Fire) * P(Fire)}{P(Smoke)}$$\n",
    "\n",
    "Here,\n",
    "- $P(Fire)$ is the Prior\n",
    "- $P(Smoke|Fire)$ is the Likelihood\n",
    "- $P(Smoke)$ is the evidence"
   ]
  },
  {
   "cell_type": "markdown",
   "metadata": {},
   "source": [
    "**Example:**\n",
    "\n",
    "Let's consider a scenario where an individual tests positive for an illness. This particular illness affects approximately 1.2% of the population at any given time. The diagnostic test for this illness has an accuracy of 85% for individuals who actually have the illness and 97% for those who do not.\n",
    "\n",
    "Now, let's define the events involved:\n",
    "\n",
    "- $A$: The individual has the illness, also known as the hypothesis.\n",
    "- $\\overline{A}$: The individual does not have the illness.\n",
    "- $B$: The individual tests positive for the illness, also referred to as the evidence.\n",
    "- $P(A|B)$: The probability that the individual has the illness given a positive test result, known as the posterior probability, which is what we aim to calculate.\n",
    "- $P(B|A)$: The probability that the individual tests positive given that they have the illness, which is 0.85 according to the test's accuracy.\n",
    "- $P(A)$: The prior probability or the likelihood of the individual having the illness without any evidence, which is 0.012 based on the prevalence of the illness in the population.\n",
    "- $P(B)$: The probability that the individual tests positive for the illness. This can be computed in two ways:\n",
    "\n",
    "    - True Positive (individual has the illness and tests positive): $P(B|A)*P(A)=0.85*0.012=0.0102.$\n",
    "    - False Positive (individual does not have the illness but tests positive due to test inaccuracy): $P(B|\\overline{A})*P(\\overline{A})=(1-0.97)*(1-0.012)=0.02964.$\n",
    "    \n",
    "    Here, $P(B|\\overline{A})$ represents the probability of a positive test result for an individual who does not have the illness, indicating the test's inaccuracy for those without the illness.\n",
    "    \n",
    "    Additionally, $P(\\overline{A})$ denotes the probability that the individual does not have the illness, which is derived from the complement of the illness prevalence.\n",
    "    \n",
    "    Hence, $P(B)$, the denominator in Bayes' theorem, is the sum of these two probabilities:\n",
    "    \n",
    "    $P(B)= (P(B|A)*P(A)) + (P(B|\\overline{A})*P(\\overline{A}))=0.0102+0.2964=0.03984$.\n",
    "    \n",
    "    We can now compute the final answer using Bayes' theorem formula:\n",
    "    \n",
    "    $P(A|B)=P(B|A)*P(A)/P(B) =0.85*0.012 / 0.03984 = 0.256$.\n",
    "    \n",
    "    Thus, even with a positive medical test, the individual only has a 25.6% chance of actually suffering from the illness.\n"
   ]
  },
  {
   "cell_type": "code",
   "execution_count": null,
   "metadata": {},
   "outputs": [],
   "source": []
  }
 ],
 "metadata": {
  "colab": {
   "collapsed_sections": [],
   "name": "03. Bayes Theorem.ipynb",
   "provenance": []
  },
  "kernelspec": {
   "display_name": "Python 3 (ipykernel)",
   "language": "python",
   "name": "python3"
  },
  "language_info": {
   "codemirror_mode": {
    "name": "ipython",
    "version": 3
   },
   "file_extension": ".py",
   "mimetype": "text/x-python",
   "name": "python",
   "nbconvert_exporter": "python",
   "pygments_lexer": "ipython3",
   "version": "3.11.7"
  }
 },
 "nbformat": 4,
 "nbformat_minor": 4
}

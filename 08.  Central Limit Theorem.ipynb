{
 "cells": [
  {
   "cell_type": "markdown",
   "metadata": {},
   "source": [
    "# Central Limit Theorem"
   ]
  },
  {
   "cell_type": "markdown",
   "metadata": {},
   "source": [
    "## The Central Limit Theorem\n",
    "\n",
    "The central limit theorem states that the distribution of *sample means* from a population will approximate a normal distribution, regardless of the shape of the population distribution, as long as the sample size is sufficiently large (usually n > 30). If the population is already normal, the theorem holds true for even smaller sample sizes.\n",
    "\n",
    "## Estimating the Population Mean\n",
    "\n",
    "The sample mean is used as an estimate for the population mean, but it is important to note that the standard deviation of the sampling distribution ($\\sigma_{\\overline{x}}$) is not equal to the population standard deviation ($\\sigma$).\n",
    "\n",
    "## The Standard Error\n",
    "\n",
    "The standard deviation of the sampling distribution ($\\sigma_{\\overline{x}}$) is referred to as the **standard error** and is related to the population standard deviation as follows:\n",
    "\n",
    "$$\\sigma_{\\overline{x}} = \\frac{\\sigma}{\\sqrt{n}}$$\n",
    "\n",
    "where $\\sigma$ is the population standard deviation and $n$ is the sample size.\n",
    "\n",
    "As the sample size increases, the standard error approaches 0 and the sample mean ($\\overline{x}$) approaches the population mean ($\\mu$)."
   ]
  },
  {
   "cell_type": "markdown",
   "metadata": {},
   "source": [
    "## Estimates and Confidence Intervals\n",
    "\n",
    "### Point Estimate\n",
    "\n",
    "A point estimate is a single statistic calculated from a sample that is used to estimate an unknown population parameter. For example, the sample mean can be used as a point estimate for the population mean.\n",
    "\n",
    "### Interval Estimate\n",
    "\n",
    "An interval estimate is a range of values that is believed to contain the true population parameter. It represents the error in estimating the population parameter.\n",
    "\n",
    "### Confidence Interval\n",
    "\n",
    "A confidence interval is a range of values within which the population mean is believed to lie. The confidence interval for the population mean can be calculated as follows:\n",
    "\n",
    "#### When Population Standard Deviation is Known\n",
    "\n",
    "For a random sample of size n with mean x, taken from a population with standard deviation $\\sigma$ and mean $\\mu$, the confidence interval for the population mean is:\n",
    "\n",
    "$$\\overline{x}-\\frac{z\\sigma}{\\sqrt{n}}\\leq \\mu \\leq \\overline{x}+\\frac{z\\sigma}{\\sqrt{n}}$$\n",
    "\n",
    "#### When Population Standard Deviation is Unknown\n",
    "\n",
    "When the population standard deviation is unknown, the sample standard deviation (s) can be used in place of $\\sigma$ to calculate the confidence interval:\n",
    "\n",
    "$$\\overline{x}-\\frac{zs}{\\sqrt{n}}\\leq \\mu \\leq \\overline{x}+\\frac{zs}{\\sqrt{n}}$$\n",
    "\n",
    "### Example\n",
    "\n",
    "Suppose we have grades of 10 students taken from a population, and we want to find the 95% confidence interval for the population mean."
   ]
  },
  {
   "cell_type": "code",
   "execution_count": 1,
   "metadata": {},
   "outputs": [
    {
     "data": {
      "text/plain": [
       "(3.1110006165952773, 3.668999383404722)"
      ]
     },
     "execution_count": 1,
     "metadata": {},
     "output_type": "execute_result"
    }
   ],
   "source": [
    "import numpy as np\n",
    "import scipy.stats as stats\n",
    "from scipy.stats import t\n",
    "\n",
    "grades =  np.array([3.1,2.9,3.2,3.4,3.7,3.9,3.9,2.8,3.4,3.6])\n",
    "\n",
    "stats.t.interval(0.95, len(grades)-1, loc=np.mean(grades), scale=stats.sem(grades))"
   ]
  },
  {
   "cell_type": "markdown",
   "metadata": {},
   "source": [
    "The arguments inside t.interval function are 95% confidence interval, degrees of freedom (n-1), sample mean and the standard  error calculated by stats.sem function."
   ]
  },
  {
   "cell_type": "code",
   "execution_count": null,
   "metadata": {},
   "outputs": [],
   "source": []
  }
 ],
 "metadata": {
  "kernelspec": {
   "display_name": "Python 3 (ipykernel)",
   "language": "python",
   "name": "python3"
  },
  "language_info": {
   "codemirror_mode": {
    "name": "ipython",
    "version": 3
   },
   "file_extension": ".py",
   "mimetype": "text/x-python",
   "name": "python",
   "nbconvert_exporter": "python",
   "pygments_lexer": "ipython3",
   "version": "3.9.15"
  }
 },
 "nbformat": 4,
 "nbformat_minor": 4
}

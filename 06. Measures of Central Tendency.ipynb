{
 "cells": [
  {
   "cell_type": "markdown",
   "metadata": {},
   "source": [
    "# Measures of central tendency\n",
    "\n",
    "The central tendency is a measure of the central value among a set of values in a dataset.\n",
    "The following are some of the measures of central tendency:  \n",
    "\n",
    "**Mean:** This is the average of values in a dataset.  \n",
    "\n",
    "+ The sum of deviations of the items from their arithmetic mean is always zero, i.e. ∑(x – X) = 0.\n",
    "+ The sum of the squared deviations of the items from Arithmetic Mean (A.M) is minimum, which is less than the sum of the squared deviations of the items from any other values.\n",
    "+ If each item in the arithmetic series is substituted by the mean, then the sum of these replacements will be equal to the sum of the specific items.\n",
    "+ The arithmetic mean is simple to understand and easy to calculate.\n",
    "+ It is influenced by the value of every item in the series.\n",
    "+ A.M is rigidly defined.\n",
    "+ It is a measured value and not based on the position in the series.\n",
    "+ It is changed by extreme items such as very small and very large items.\n",
    "+ It can rarely be identified by inspection.\n",
    "+ In some cases, A.M. does not represent the original item. For example, average patients admitted to a hospital are 10.7 per day.\n",
    "+ The arithmetic mean is not suitable in extremely asymmetrical distributions.\n",
    "\n",
    "\n",
    "**Median:** This is the middle number when the values in the dataset are arranged size-wise. \n",
    "+ Median is not dependent on all the data values in a dataset.\n",
    "+ The median value is fixed by its position and is not reflected by the individual value.\n",
    "+ The distance between the median and the rest of the values is less than the distance from any other point.\n",
    "+ Every array has a single median.\n",
    "+ Median cannot be manipulated algebraically. It cannot be weighed and combined.\n",
    "+ In a grouping procedure, the median is stable.\n",
    "+ Median is not applicable to qualitative data.\n",
    "+ The values must be grouped and ordered for computation.\n",
    "+ Median can be determined for ratio, interval and ordinal scale.\n",
    "+ Outliers and skewed data have less impact on the median.\n",
    "+ If the distribution is skewed, the median is a better measure when compared to mean.\n",
    "\n",
    "**Mode:** The most frequently occurring value in a dataset with discrete values.  \n",
    "\n",
    "+ The mode is used when the most typical case is desired.\n",
    "+ The mode is the easiest average to compute.\n",
    "+ The mode can be used when the data are nominal or categorical, such as religious preference, gender, or political affiliation.\n",
    "+ The mode is not always unique. A data set can have more than one mode, or the mode may not exist for a data set.\n",
    "\n",
    "**Percentile:** A percentile is a measure of the percentage of values below a particular value. The median corresponds to the 50th percentile.   \n",
    "\n",
    "**Quartile:** A quartile is a value that divides the values in an ordered dataset into four equal groups. $Q_1$ (or the first quartile) corresponds to the 25th percentile, $Q_2$ corresponds to the median, and $Q_3$ corresponds to the 75th percentile."
   ]
  },
  {
   "cell_type": "code",
   "execution_count": null,
   "metadata": {},
   "outputs": [],
   "source": []
  }
 ],
 "metadata": {
  "kernelspec": {
   "display_name": "Python 3",
   "language": "python",
   "name": "python3"
  },
  "language_info": {
   "codemirror_mode": {
    "name": "ipython",
    "version": 3
   },
   "file_extension": ".py",
   "mimetype": "text/x-python",
   "name": "python",
   "nbconvert_exporter": "python",
   "pygments_lexer": "ipython3",
   "version": "3.8.8"
  }
 },
 "nbformat": 4,
 "nbformat_minor": 4
}

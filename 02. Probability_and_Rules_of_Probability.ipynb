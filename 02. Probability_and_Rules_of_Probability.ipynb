{
 "cells": [
  {
   "cell_type": "markdown",
   "metadata": {
    "id": "75tuxa_BKLEX"
   },
   "source": [
    "# **Probability and Rules of Probability**\n",
    "___"
   ]
  },
  {
   "cell_type": "markdown",
   "metadata": {
    "id": "8xI_XGaIKLEc"
   },
   "source": [
    "Before delving into the topic of probability, it is important to become familiar with some fundamental terms and definitions related to it.\n",
    "\n",
    "+ **Random Experiment**: An experiment is considered random if the results or outcomes obtained from performing the experiment repeatedly under the same conditions or in the same manner differ each time. In other words, when the outcome is completely unpredictable.  \n",
    "Examples: Rolling a die, Tossing an unbiased coin.\n",
    "\n",
    "+ **Outcome**: The result obtained from a single trial of an experiment is referred to as an outcome.\n",
    "\n",
    "+ **Sample Space**: This is a comprehensive list of all the possible outcomes of an experiment.  \n",
    "Examples: For tossing a coin, the sample space would be {Heads, Tails}, and for rolling a die, it would be {1, 2, 3, 4, 5, 6}.\n",
    "\n",
    "+ **Event**: An event is a subset of the sample space and can consist of a single outcome or a combination of outcomes.  \n",
    "Example: When a coin is tossed 4 times, getting at least 2 heads in a row is an event. Another example could be getting heads on a coin and 6 on a die when both are tossed and rolled simultaneously.\n",
    "\n",
    "\n",
    "### **Probability:**  \n",
    "\n",
    "Probability is a measure of the likelihood of an event to occur.  \n",
    "\n",
    "**Note:** Events cannot be predicted with total certanity. We can predict only the chance of an event to occur i.e. how likely they are to happen, using it.  \n",
    "The probability of any event always lies between 0 and 1. \"Zero\" denotes that the event is not possible, while value of \"One\" indicates that the event is certain to occur.\n",
    "\n",
    "$$P(A) = \\frac {n(A)}{n(S)}$$\n",
    "\n",
    "where,  \n",
    "P(A) is probability of event A to happen.  \n",
    "n(A) is number of outcomes of event A to happen.  \n",
    "n(S) is number of all possible outcomes.  \n",
    "\n",
    "\n",
    "**Example:** The probability of getting a number less than or equal to 2 when a die is rolled is   $2/6 = 1/3$"
   ]
  },
  {
   "cell_type": "markdown",
   "metadata": {
    "id": "KlP8GfFZKLEd"
   },
   "source": [
    "## **Rules of Probabaility**\n",
    "\n",
    "+ The probability of an event can range anywhere from 0 to 1  \n",
    "$0 \\leq P(A) \\leq 1.$\n",
    "\n",
    "\n",
    "+ Sum of all the probabilites should add upto 1  \n",
    "$P(A) + P(\\overline{A}) = 1$\n",
    "\n",
    "\n",
    "+ Complementary Rule - Probabilty of A to not happen  \n",
    "$P(\\overline{A})=1-P(A)$  \n",
    "\n",
    "\n",
    "+ Addition Rule (A and B are not necessarily disjoint) - Probability of A to happen or B to happen  \n",
    "$P(A\\cup B)=P(A)+P(B)-P(A\\cap B)$ \n",
    "\n",
    "\n",
    "+ Addition Rule (A and B are disjoint) - Probability of A to happen or B to happen  \n",
    "$P(A\\cup B)=P(A)+P(B)$ \n",
    "\n",
    "\n",
    "+ Multiplication Rule - Chain Rule   \n",
    "+ $P(A\\cap B)=P(A)*P(B|A)=P(B)*P(A|B)$ \n",
    "\n",
    "\n",
    "+ If A and B are independent events then   \n",
    "$P(A\\cap B)=P(A)*P(B)$ \n",
    "\n",
    "\n",
    "+ $P(A\\setminus B)=P(A)-P(A\\cap B)$ \n",
    "\n",
    "\n",
    "+ $If A\\subset B \\  then\\ P(A)\\leq P(B)$  \n",
    "\n",
    "\n",
    "+ $P(\\emptyset)=0 $ \n"
   ]
  },
  {
   "cell_type": "markdown",
   "metadata": {
    "id": "swoNtX39KLEd"
   },
   "source": [
    "## **Conditional probability**  \n",
    "\n",
    "The conditional probability of  **A** given **B** is the probability that **A** occurs given that **B** has occurred.\n",
    "\n",
    "$$P(A|B)=\\frac{P(A\\cap B)}{P(B)}\\,.$$\n",
    "\n",
    "Lets look at an example to understand this.\n",
    "\n",
    "Say If a fair die is rolled and let A be the event that the outcome is an odd number, i.e., A={1,3,5}. Also let B be the event that the outcome is less than or equal to 3, i.e., B={1,2,3}. Then what is the probability of A given B, P(A|B)?\n",
    "\n",
    "$P(B) = 3/6 \\ ,\\     P(A \\cap B) = 2/6$ \n",
    "\n",
    "\n",
    "$P(A|B) = 2/3$\n",
    "\n",
    "\n",
    "## **Law of Large Numbers**\n",
    "\n",
    "The law of large numbers states that as the size of a sample grows larger, the average or mean of the sample values will approach the expected value.\n",
    "\n",
    "This can be demonstrated through the simplest example of flipping a coin. The probability of the coin landing heads is 1/2, so the expected outcome over an infinite number of flips is 1/2 or 0.5.\n",
    "\n",
    "However, if we only flip the coin 10 times, we might observe that it lands heads only 3 times, which is not close to the expected value of 0.5. This is because the sample size of 10 flips is too small to accurately reflect the expected value.\n",
    "\n",
    "As we continue to flip the coin more, the proportion of heads will approach 0.5. For example, after flipping the coin 20 times, we might find that it landed heads 9 times, and after 30 flips, we might find that it landed heads 22 times. As the sample size grows, the proportion of heads converges to the expected value of 0.5.\n",
    "\n",
    "![](./data/lln.png)"
   ]
  },
  {
   "cell_type": "code",
   "execution_count": null,
   "metadata": {
    "id": "3h0VgeSGKLEe"
   },
   "outputs": [],
   "source": []
  }
 ],
 "metadata": {
  "colab": {
   "name": "02. Probability and Rules of Probability.ipynb",
   "provenance": []
  },
  "kernelspec": {
   "display_name": "Python 3 (ipykernel)",
   "language": "python",
   "name": "python3"
  },
  "language_info": {
   "codemirror_mode": {
    "name": "ipython",
    "version": 3
   },
   "file_extension": ".py",
   "mimetype": "text/x-python",
   "name": "python",
   "nbconvert_exporter": "python",
   "pygments_lexer": "ipython3",
   "version": "3.9.15"
  }
 },
 "nbformat": 4,
 "nbformat_minor": 1
}

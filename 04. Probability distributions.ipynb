{
 "cells": [
  {
   "cell_type": "markdown",
   "metadata": {},
   "source": [
    "# Probability distributions"
   ]
  },
  {
   "cell_type": "markdown",
   "metadata": {},
   "source": [
    "**Probability distributions**\n",
    "To understand probability distributions, let us first look at the concept of random variables, which are used to model probability distributions.  \n",
    "\n",
    "**Random variable:** A variable whose values equal the numeric values associated with the outcomes of a random experiment.  \n",
    "\n",
    "Random variables are of two types:\n",
    "1. **Discrete random variables** can take a finite, countable number of values. For example, a dice roll can take values like 1, 2, 3, 4, 5 and 6. The *probability mass function,* or *PMF*, associated with a discrete random variable is a function that provides the probability that this variable is exactly equal to a certain discrete value.\n",
    "\n",
    "2. **Continuous random variables** can take infinitely many values. Examples include temperature, height, and weight. For a continuous variable, we cannot find the absolute probability. Hence, we use the *probability density function, or PDF,* for continuous variables (the equivalent of PMF for discrete variables). The PDF is the probability that the value of a continuous random variable falls within a range of values. The cumulative distribution function (CDF) gives the probability of a random variable being less than or equal to a given value. It is the integral of the PDF and gives the area under the curve defined by the PDF up to a certain point.\n"
   ]
  },
  {
   "cell_type": "markdown",
   "metadata": {},
   "source": [
    "The common types of probability distributions for discrete random variables: Binomial, Uniform and Poisson.\n",
    "\n",
    "**Bernoulli Distribution**  \n",
    " \n",
    "The Bernoulli distribution is one of the easiest distributions to understand and can be used as a starting point to derive more complex distributions. This distribution has only two possible outcomes and a single trial.\n",
    "\n",
    "A simple example can be a single toss of a biased/unbiased coin. In this example, the probability that the outcome might be heads can be considered equal to $p$ and $(1 - p)$ for tails (the probabilities of mutually exclusive events that encompass all possible outcomes needs to sum up to one).\n",
    "\n",
    "The following are the characteristics of a binomial distribution:\n",
    "\n",
    "1. There are n identical trials  \n",
    "2. Each trial results in either one of only two possible outcomes  \n",
    "3. The outcomes of one trial do not affect the outcomes of other trials\n",
    "4. The probability of success (p) and failure (q) is the same for each trial\n",
    "5. The random variable represents the number of successes in these n trials and can at most be equal to n\n",
    "6. The mean and variance of the binomial distribution are as follows:\n",
    "\n",
    "Mean = $n*p$ (number of trials*probability of success)  \n",
    "Variance = $n*p*q$ (number of trials * probability of success * probability of failure)  \n",
    "The PMF, or the probability of r successes in n attempts of an experiment, is given by the following equation:\n",
    "\n",
    "\n",
    "$$P(X=r) = ^n C_r p^r q^{n-r}$$\n",
    "Where,   \n",
    "p is the probability of success   \n",
    "q is the probability of failure  \n",
    "n is the number of trials  "
   ]
  },
  {
   "cell_type": "markdown",
   "metadata": {},
   "source": [
    "**Example:**\n",
    "\n",
    "By some estimates, twenty-percent (20%) of countrys population have no health insurance. Randomly sample n=15 people. Let X denote the number in the sample with no health insurance. \n",
    "1. What is the probability that exactly 3 of the 15 sampled have no health insurance?\n",
    "2. What is the probability that at most one of those sampled has no health insurance?\n",
    "\n",
    "First part of the solution:\n",
    "\n",
    "$$P(X=3) = ^{15}C_3(0.2)^3(0.8)^{12} = 0.25$$\n",
    "\n",
    "That is, there is a 25% chance, in sampling 15 random people, that we would find exactly 3 that had no health insurance."
   ]
  },
  {
   "cell_type": "code",
   "execution_count": 1,
   "metadata": {},
   "outputs": [
    {
     "data": {
      "text/plain": [
       "0.2501388953190411"
      ]
     },
     "execution_count": 1,
     "metadata": {},
     "output_type": "execute_result"
    }
   ],
   "source": [
    "import scipy.stats as stats\n",
    "n,r,p=15,3,0.2\n",
    "stats.binom.pmf(r,n,p)"
   ]
  },
  {
   "cell_type": "markdown",
   "metadata": {},
   "source": [
    "Second part of the solution:\n",
    "    \n",
    "\"At most one\" means either 0 or 1 of those sampled have no health insurance. That is, we need to find:\n",
    "\n",
    "$$P(X\\leq1) = P(X=0)+P(X=1)$$\n",
    "\n",
    "Using the probability mass function for a binomial random variable with n=15 and p=0.2, we have\n",
    "\n",
    "$$^{15}C_0 (0.2)^{0}(0.8)^{15} + ^{15}C_1 (0.2)^{1}(0.8)^{14} = 0.0352 + 0.1319 = 0.167$$\n",
    "\n",
    "That is, we have a 16.7% chance, in sampling 15 random people, that we would find at most one that had no health insurance."
   ]
  },
  {
   "cell_type": "code",
   "execution_count": 2,
   "metadata": {},
   "outputs": [
    {
     "data": {
      "text/plain": [
       "0.16712576742195218"
      ]
     },
     "execution_count": 2,
     "metadata": {},
     "output_type": "execute_result"
    }
   ],
   "source": [
    "import scipy.stats as stats\n",
    "n,r,p=15,1,0.2\n",
    "stats.binom.cdf(r,n,p)"
   ]
  },
  {
   "cell_type": "markdown",
   "metadata": {},
   "source": [
    "**Effect of n and p on Shape**\n",
    "\n",
    "1. For small *p* and small *n*, the binomial distribution is what we call skewed right.  \n",
    "2. For large *p* and small *n*, the binomial distribution is what we call skewed left.  \n",
    "3. For *p*=0.5 and large and small *n* , the binomial distribution is what we call symmetric.  \n",
    "4. For small *p* and large *n*, the binomial distribution approaches symmetry.  "
   ]
  },
  {
   "cell_type": "code",
   "execution_count": 3,
   "metadata": {},
   "outputs": [
    {
     "data": {
      "image/png": "[encoded data removed]",
      "text/plain": [
       "<Figure size 432x288 with 1 Axes>"
      ]
     },
     "metadata": {
      "needs_background": "light"
     },
     "output_type": "display_data"
    }
   ],
   "source": [
    "from numpy import random\n",
    "import matplotlib.pyplot as plt \n",
    "import seaborn as sns \n",
    "\n",
    "plt.figure(figsize=(6,4))\n",
    "\n",
    "sample1 = random.binomial(n = 15, p = 0.2, size = 250)\n",
    "sample2 = random.binomial(n = 15, p = 0.8, size = 250)\n",
    "sample3 = random.binomial(n = 15, p = 0.5, size = 250)\n",
    "sample4 = random.binomial(n = 40, p = 0.2, size = 250)\n",
    "\n",
    "sns.distplot(sample1, hist=False, kde = True, label=\"sample1\")\n",
    "sns.distplot(sample2, hist=False, kde = True, label=\"sample2\")\n",
    "sns.distplot(sample3, hist=False, kde = True, label=\"sample3\")\n",
    "sns.distplot(sample4, hist=False, kde = True, label=\"sample4\")\n",
    "\n",
    "plt.show()"
   ]
  },
  {
   "cell_type": "markdown",
   "metadata": {},
   "source": [
    "**Poisson distribution**\n",
    "\n",
    "A Poisson distribution is a distribution that models the number of events that occur over a given interval (usually of time, but can also be an interval of distance, area, or volume). The average rate of occurrence of events needs to be known.\n",
    "\n",
    "The PMF for a Poisson distribution is given by the following equation:\n",
    "$$P(x=r)=\\frac{\\lambda^r e^{-\\lambda}}{r!}$$  \n",
    "\n",
    "where $P(x=r)$ is the probability of the event occurring $r$ number of times, $r$ is the number of occurrences of the event, and $\\lambda^r$ represents the average/expected number of occurrences of that event.  \n",
    "\n",
    "The Poisson distribution can be used to calculate the number of occurrences that occur over a given period, for instance:  \n",
    "+ number of arrivals at a restaurant per hour\n",
    "+ number of work-related accidents occurring at a factory over a year\n",
    "+ number of customer complaints at a call center in a week  \n",
    "\n",
    "Properties of a Poisson distribution:\n",
    "1. Mean=variance=$\\lambda$. In a Poisson distribution, the mean and variance have the same numeric values.  \n",
    "2. The events are independent, random, and cannot occur at the same time.  \n",
    "3. When $n$ is $>20$ and $p$ is $<0.1$, a Poisson distribution can approximate the binomial distribution. Here, we substitute $\\lambda = np$.  \n",
    "4. When the value of n is large, $p$ is around $0.5$, and $np > 0.5$, a normal distribution can be used to approximate a binomial distribution.  "
   ]
  },
  {
   "cell_type": "markdown",
   "metadata": {},
   "source": [
    "**Example:**\n",
    "\n",
    "In a subway station, the average number of ticket-vending machines out of operation is two. Assuming that the number of machines out of operation follows a Poisson distribution, calculate the probability that a given point in time:\n",
    "1. Exactly three machines are out of operation\n",
    "2. More than two machines are out of operation"
   ]
  },
  {
   "cell_type": "code",
   "execution_count": 4,
   "metadata": {},
   "outputs": [
    {
     "data": {
      "text/plain": [
       "0.18044704431548356"
      ]
     },
     "execution_count": 4,
     "metadata": {},
     "output_type": "execute_result"
    }
   ],
   "source": [
    "import scipy.stats as stats\n",
    "l, r = 2, 3\n",
    "stats.poisson.pmf(r,l) # probability mass function"
   ]
  },
  {
   "cell_type": "code",
   "execution_count": 5,
   "metadata": {},
   "outputs": [
    {
     "data": {
      "text/plain": [
       "0.3233235838169366"
      ]
     },
     "execution_count": 5,
     "metadata": {},
     "output_type": "execute_result"
    }
   ],
   "source": [
    "l, r = 2, 2\n",
    "1-stats.poisson.cdf(r,l) # cumlative distribution function"
   ]
  },
  {
   "cell_type": "markdown",
   "metadata": {},
   "source": [
    "**Continuous probability distributions**\n",
    "\n",
    "There are several continuous probability distributions, including the normal distribution, Student’s T distribution, the chi-square, and ANOVA distribution."
   ]
  },
  {
   "cell_type": "markdown",
   "metadata": {},
   "source": [
    "**Normal distribution**  \n",
    "A normal distribution is a symmetrical bell-shaped curve, defined by its mean ($\\mu$) and standard deviation ($\\sigma$)"
   ]
  },
  {
   "cell_type": "code",
   "execution_count": 6,
   "metadata": {},
   "outputs": [
    {
     "data": {
      "image/png": "[encoded data removed]",
      "text/plain": [
       "<Figure size 432x432 with 1 Axes>"
      ]
     },
     "metadata": {
      "needs_background": "light"
     },
     "output_type": "display_data"
    }
   ],
   "source": [
    "s1 = random.normal(0, 0.2, 100)\n",
    "s2 = random.normal(0, 1.0, 100)\n",
    "s3 = random.normal(0, 5.0, 100)\n",
    "s4 = random.normal(-2, 0.5, 100)\n",
    "\n",
    "plt.figure(figsize=(6,6))\n",
    "\n",
    "sns.distplot(s1, hist=False, kde = True, label=\"Mean=0, var=0.2\")\n",
    "sns.distplot(s2, hist=False, kde = True, label=\"Mean=0, var=1.0\")\n",
    "sns.distplot(s3, hist=False, kde = True, label=\"Mean=0, var=5.0\")\n",
    "sns.distplot(s4, hist=False, kde = True, label=\"Mean=-2, var=0.5\")\n",
    "             \n",
    "plt.show()"
   ]
  },
  {
   "cell_type": "markdown",
   "metadata": {},
   "source": [
    "Characteristics of a normal distribution: \n",
    "1. The central value ($\\mu$) is also the mode and the median for a normal distribution\n",
    "2. Checking for normality: In a normal distribution, the difference between the 75th percentile value ($Q_3$) and the 50th percentile value (median or $Q_2$) equals the difference between the median ($Q_2$) and the 25th percentile. In other words,  \n",
    "\n",
    "$$Q_3 - Q_2 = Q_2 = Q_1$$\n",
    "\n",
    "\n",
    "If the distribution is skewed, this equation does not hold.  \n",
    "In a right-skewed distribution, $(Q_3 − Q_2)> (Q_2 - Q_1)$  \n",
    "In a left-skewed distribution, $(Q_2 - Q_1) > (Q_3 - Q_2)$  "
   ]
  },
  {
   "cell_type": "markdown",
   "metadata": {},
   "source": [
    "**Standard normal distribution**  \n",
    "\n",
    "\n",
    "To standardize units and compare distributions with different means and variances, we use a standard normal distribution.\n",
    "\n",
    "Properties of a standard normal distribution:\n",
    "+ The standard normal distribution is a normal distribution with a mean value of 0 and a standard deviation as 1.\n",
    "+ Any normal distribution can be converted into standard normal distribution using the following formula:\n",
    "$$z = \\frac {x-\\mu}{\\sigma}$$\n",
    "where $\\mu$ and $\\sigma$ are the mean and variance of the\n",
    "original normal distribution.\n",
    "+ In a standard normal distribution,\n",
    "+ 68.2% of the values lie within 1 standard deviation of the mean\n",
    "+ 95.4% of the values lie between 2 standard deviations of the mean\n",
    "+ 99.8% lie within 3 standard deviations of the mean\n",
    "+ The area under the standard normal distribution between any two points represents the proportion of values that lies between these two points. For instance, the area under the curve on either side of the mean is 0.5. Put in another way, 50% of the values lie on either side of the mean.\n",
    "\n",
    "![](https://www.sixsigmadaily.com/wp-content/uploads/sites/4/2012/08/Bell-Curve-Standard-Deviation.jpg)"
   ]
  },
  {
   "cell_type": "code",
   "execution_count": null,
   "metadata": {},
   "outputs": [],
   "source": []
  }
 ],
 "metadata": {
  "kernelspec": {
   "display_name": "Python 3",
   "language": "python",
   "name": "python3"
  },
  "language_info": {
   "codemirror_mode": {
    "name": "ipython",
    "version": 3
   },
   "file_extension": ".py",
   "mimetype": "text/x-python",
   "name": "python",
   "nbconvert_exporter": "python",
   "pygments_lexer": "ipython3",
   "version": "3.8.3"
  }
 },
 "nbformat": 4,
 "nbformat_minor": 4
}

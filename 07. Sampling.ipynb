{
 "cells": [
  {
   "cell_type": "markdown",
   "metadata": {},
   "source": [
    "# **Sampling**\n"
   ]
  },
  {
   "cell_type": "markdown",
   "metadata": {},
   "source": [
    "**Sampling** is a method that allows us to get information about the population based on the statistics without actually need to measure each and every individual in the population. In other words, when we try to find out something about a population, it is not practical to collect data from every subject in the population. It is more feasible to take a sample and make an estimate of the population parameters based on the sample data. The sample’s characteristics should align with that of the population. "
   ]
  },
  {
   "cell_type": "markdown",
   "metadata": {},
   "source": [
    "### **Probability Sampling**   \n",
    "In probability sampling, every element of the population has an equal chance of being selected. Probability sampling gives us the best chance to create a sample that is truly representative of the population.  \n",
    "\n",
    "+ **Simple random sampling:** Subjects are chosen randomly, without any preference. Every subject in the population has an equal likelihood of being selected.\n",
    "+ **Stratified random sampling:** The population is divided into mutually exclusive (non-overlapping) groups, and then subjects are randomly selected from each group. Example: If you are surveying to assess preference for subjects in a school, you may divide students into male and female groups and randomly select subjects from each group. The advantage of this method is that it represents all categories or groups in the population.\n",
    "+ **Systematic random sampling:** Subjects are chosen at regular intervals. Example: To take a sample of 100 people from a population of 500, first divide 500 by 100, which equals 5. Now, take every 5th person for our sample. It is easier to perform but may not be representative of all the subjects in the population.\n",
    "+ **Cluster sampling:** Here, the population is divided into non-overlapping clusters covering the entire population between them. From these clusters, a few are randomly selected. Either all the members of the chosen clusters are selected (one-stage), or a subset of members from the selected clusters is randomly chosen (two-stage). The advantage of this method is that it is cheaper and more convenient to carry out.\n",
    "\n",
    "**Uses**: Reduced Sample Bias, Diverse Population, Creates an Accurate Sample.\n",
    "\n",
    "### **Non-Probability Sampling**  \n",
    "In non-probability sampling, all elements do not have an equal chance of being selected. Consequently, there is a significant risk of ending up with a non-representative sample which does not produce generalizable results\n",
    "\n",
    "+ **Convenience sampling:** Subjects that are easily accessible or available are chosen in this method. For example, a researcher can select subjects for their study from their workplace or the university where they work. This method is easy to implement but may not be representative of the population.\n",
    "+ **Judgmental or purposive sampling:** Subjects are chosen based on the purpose of the sampling. For example, if a survey is being carried out to assess the effectiveness of intermittent fasting, it needs to consider the age group of the population that can undergo this fast, and the survey may only include people aged 25-50.\n",
    "+ **Quota sampling:** Quotas are taken in such a way that the significant characteristics of the population are taken into account while samples are chosen. If a population has 60% English speaking people, 20% French, and 20% Spanish, the sample you choose should have the same percentages.\n",
    "+ **Snowball sampling:** In this method, the researcher identifies someone they know who meets the criteria of the study. This person then introduces to others the person may know, and the sample group thus grows through word-of-mouth. This technique may be used for populations that lack visibility, for example, a survey of people suffering from an under-reported illness."
   ]
  },
  {
   "cell_type": "markdown",
   "metadata": {},
   "source": [
    "### **Types of errors in sampling**\n",
    "\n",
    "If we take a sample and make inferences about the entire population based on this sample, errors inevitably arise. These errors can broadly be classified as follows:  \n",
    "\n",
    "+ **Sampling error:** Difference between the sample estimate for the population and the actual population estimate\n",
    "+ **Coverage error:** Occurs when the population is not adequately represented, and some groups are excluded\n",
    "+ **Nonresponse errors:** Occurs when we fail to include nonresponsive subjects that satisfy the criteria of the study, but are excluded since they do not answer the survey questions\n",
    "+ **Measurement error:** Not measuring the correct parameters due to flaws in the method or tool used for measurement."
   ]
  }
 ],
 "metadata": {
  "kernelspec": {
   "display_name": "Python 3",
   "language": "python",
   "name": "python3"
  },
  "language_info": {
   "codemirror_mode": {
    "name": "ipython",
    "version": 3
   },
   "file_extension": ".py",
   "mimetype": "text/x-python",
   "name": "python",
   "nbconvert_exporter": "python",
   "pygments_lexer": "ipython3",
   "version": "3.8.3"
  }
 },
 "nbformat": 4,
 "nbformat_minor": 4
}

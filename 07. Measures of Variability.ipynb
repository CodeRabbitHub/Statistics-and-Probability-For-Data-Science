{
 "cells": [
  {
   "cell_type": "markdown",
   "metadata": {},
   "source": [
    "# Measures of Variability"
   ]
  },
  {
   "cell_type": "markdown",
   "metadata": {},
   "source": [
    "Measures of dispersion provide a quantitative assessment of the spread within a distribution. They indicate whether the values are clustered around a central point or dispersed across a range. The following are the most commonly used measures of dispersion:\n",
    "\n",
    "**Range:** The range represents the difference between the highest and lowest values in a dataset.\n",
    "\n",
    "**Interquartile Range (IQR):** The IQR measures the difference between the third quartile ($Q_3$) and the first quartile ($Q_1$). It is less affected by extreme values, focusing on the middle portion of the dataset. This makes the IQR particularly useful for skewed distributions with outliers. The IQR is calculated as:  \n",
    "$$IQR = Q_3 - Q_1$$\n",
    "\n",
    "**Variance:** Variance quantifies the extent to which the values in a dataset deviate from the mean. It provides an indication of whether the mean is a representative measure of central tendency. A small variance suggests that the mean is a good representation of the dataset. The formula for variance is:\n",
    "\n",
    "$$\\sigma^2 = \\frac{\\sum (x-\\mu)^2}{N}$$\n",
    "    \n",
    "Where $\\mu$ is the mean, and $N$ is the number of values in the dataset.\n",
    "\n",
    "**Sample Variance** is given by:\n",
    "\n",
    "$$S^2 = \\frac{\\sum (x-\\overline x)^2}{n-1}$$\n",
    "\n",
    "Where $\\overline x$ is the sample mean, and $n$ is the number of values in the sample.\n",
    "\n",
    "**Standard deviation:** This measure is calculated by taking the square root of the variance. Since the variance is not in the same units as the original data (it involves squaring the differences), taking the square root brings the standard deviation back to the same units as the data. For example, in a dataset measuring average rainfall in centimeters, the variance would be in $cm^2$, which isn't interpretable. However, the standard deviation, expressed in $cm$, provides a meaningful indication of the average deviation of rainfall in centimeters.\n",
    "\n",
    "**Skewness:** This measures the degree of asymmetry of a distribution\n",
    "\n",
    "<center><img src=\"./data/mean-median-mode.png\"/></center>\n",
    "\n",
    "**Positive Skewness:** A positively skewed distribution is characterized by numerous outliers in the upper region, or right tail. It is termed \"skewed right\" due to its relatively elongated upper (right) tail.\n",
    "\n",
    "**Negative Skewness:** Conversely, a negatively skewed distribution exhibits a disproportionate number of outliers within its lower (left) tail. Such a distribution is referred to as \"skewed left\" owing to its extended lower tail.\n",
    "\n",
    "**Kurtosis:** Kurtosis serves as a measure indicating the curvature, peakiness, or flatness of a given distribution of data.\n",
    "\n",
    "<center><img src=\"./data/kurtosis.png\"/></center>"
   ]
  },
  {
   "cell_type": "code",
   "execution_count": 1,
   "metadata": {},
   "outputs": [],
   "source": [
    "import pandas as pd\n",
    "data = pd.Series([19,23,19,18,25,16,17,19,15,23,21,23,21,11,6])"
   ]
  },
  {
   "cell_type": "code",
   "execution_count": 2,
   "metadata": {},
   "outputs": [
    {
     "data": {
      "text/plain": [
       "count    15.000000\n",
       "mean     18.400000\n",
       "std       4.997142\n",
       "min       6.000000\n",
       "25%      16.500000\n",
       "50%      19.000000\n",
       "75%      22.000000\n",
       "max      25.000000\n",
       "dtype: float64"
      ]
     },
     "execution_count": 2,
     "metadata": {},
     "output_type": "execute_result"
    }
   ],
   "source": [
    "data.describe()"
   ]
  },
  {
   "cell_type": "code",
   "execution_count": 3,
   "metadata": {},
   "outputs": [
    {
     "data": {
      "text/plain": [
       "0    19\n",
       "1    23\n",
       "dtype: int64"
      ]
     },
     "execution_count": 3,
     "metadata": {},
     "output_type": "execute_result"
    }
   ],
   "source": [
    "data.mode()"
   ]
  },
  {
   "cell_type": "markdown",
   "metadata": {},
   "source": [
    "The values 19 and 23 are the most frequently occurring values"
   ]
  },
  {
   "cell_type": "code",
   "execution_count": 4,
   "metadata": {},
   "outputs": [
    {
     "data": {
      "text/plain": [
       "19.0"
      ]
     },
     "execution_count": 4,
     "metadata": {},
     "output_type": "execute_result"
    }
   ],
   "source": [
    "data.median()"
   ]
  },
  {
   "cell_type": "code",
   "execution_count": 5,
   "metadata": {},
   "outputs": [
    {
     "data": {
      "text/plain": [
       "19"
      ]
     },
     "execution_count": 5,
     "metadata": {},
     "output_type": "execute_result"
    }
   ],
   "source": [
    "range_data = max(data)-min(data)\n",
    "range_data"
   ]
  },
  {
   "cell_type": "code",
   "execution_count": 6,
   "metadata": {},
   "outputs": [
    {
     "data": {
      "text/plain": [
       "4.99714204034952"
      ]
     },
     "execution_count": 6,
     "metadata": {},
     "output_type": "execute_result"
    }
   ],
   "source": [
    "data.std()"
   ]
  },
  {
   "cell_type": "code",
   "execution_count": 7,
   "metadata": {},
   "outputs": [
    {
     "data": {
      "text/plain": [
       "24.97142857142857"
      ]
     },
     "execution_count": 7,
     "metadata": {},
     "output_type": "execute_result"
    }
   ],
   "source": [
    "data.var()"
   ]
  },
  {
   "cell_type": "code",
   "execution_count": 8,
   "metadata": {},
   "outputs": [
    {
     "data": {
      "text/plain": [
       "(-1.038344732097918, 0.6995494033062934)"
      ]
     },
     "execution_count": 8,
     "metadata": {},
     "output_type": "execute_result"
    }
   ],
   "source": [
    "from scipy.stats import skew, kurtosis\n",
    "\n",
    "skew(data), kurtosis(data)"
   ]
  },
  {
   "cell_type": "markdown",
   "metadata": {},
   "source": [
    "**Points to note:**  \n",
    "1. The mean value is affected by outliers (extreme values). Whenever there are outliers in a dataset, it is better to use the median.\n",
    "2. The standard deviation and variance are closely tied to the mean. Thus, if there are outliers, standard deviation and variance may not be representative measures too.\n",
    "3. The mode is generally used for discrete data since there can be more than one modal value for continuous data."
   ]
  },
  {
   "cell_type": "code",
   "execution_count": null,
   "metadata": {},
   "outputs": [],
   "source": []
  }
 ],
 "metadata": {
  "kernelspec": {
   "display_name": "Python 3 (ipykernel)",
   "language": "python",
   "name": "python3"
  },
  "language_info": {
   "codemirror_mode": {
    "name": "ipython",
    "version": 3
   },
   "file_extension": ".py",
   "mimetype": "text/x-python",
   "name": "python",
   "nbconvert_exporter": "python",
   "pygments_lexer": "ipython3",
   "version": "3.11.7"
  }
 },
 "nbformat": 4,
 "nbformat_minor": 4
}

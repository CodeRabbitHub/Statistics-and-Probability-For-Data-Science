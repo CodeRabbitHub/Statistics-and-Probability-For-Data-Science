{
 "cells": [
  {
   "cell_type": "markdown",
   "metadata": {},
   "source": [
    "# Central Limit Theorem"
   ]
  },
  {
   "cell_type": "markdown",
   "metadata": {},
   "source": [
    "The central limit theorem states that if you have a population with mean $\\mu$ and standard deviation $\\sigma$ and take sufficiently large random samples from the population with replacement, then the distribution of the sample means will be approximately normally distributed. This will hold true regardless of whether the source population is normal or skewed, provided the sample size is sufficiently large (usually n > 30). If the population is normal, then the theorem holds true even for samples smaller than 30.\n",
    "\n",
    "The sample mean is used as an estimate for the population mean, but the standard deviation of this sampling distribution ($\\sigma_{\\overline{x}}$) , is not the same as the population standard\n",
    "deviation, $\\sigma$.\n",
    "\n",
    "The standard deviation of sampling distribution is related to population standard deviation as:\n",
    "$$\\sigma_{\\overline{x}} = \\frac{\\sigma}{\\sqrt{n}}$$\n",
    "\n",
    "where,  \n",
    "$\\sigma$ = population s.d  \n",
    "$n$ = sample size\n",
    "\n",
    "$\\sigma_{\\overline{x}}$ is known as the **standard error** (of the distribution of sample means). As the sample size (n increases), the standard error approaches 0, and the sample mean ($\\overline{x}$) approaches the population mean ($\\mu$)"
   ]
  },
  {
   "cell_type": "markdown",
   "metadata": {},
   "source": [
    "## **Estimates and confidence intervals**  \n",
    "\n",
    "**Point estimate:** A single statistic extracted from a sample that is used to estimate an unknown population parameter. The sample mean is used as a point estimate for the population mean.\n",
    "\n",
    "**Interval estimate:** The broad range of values within which the population parameter lies. It is indicative of the error in estimating the population parameter.\n",
    "\n",
    "**Confidence interval:** The interval within which the value of the population mean lies. For a random sample of size n and mean x taken from a population (with standard deviation as $\\sigma$, and mean as $\\mu$), the confidence interval for the population mean is given by the following equations:\n",
    "\n",
    "\n",
    "$$\\overline{x}-\\frac{z\\sigma}{\\sqrt{n}}\\leq \\mu \\leq \\overline{x}+\\frac{z\\sigma}{\\sqrt{n}}$$ when population standard deviation, $\\sigma$, is known  \n",
    "\n",
    "$$\\overline{x}-\\frac{zs}{\\sqrt{n}}\\leq \\mu \\leq \\overline{x}+\\frac{zs}{\\sqrt{n}}$$ \n",
    "\n",
    "when population standard deviation is unknown (s in this equation is the sample standard deviation)\n",
    "\n",
    "Lets look at an example we have grades of 10 students taken from a population and we want to find out 95% confidence interval for population mean."
   ]
  },
  {
   "cell_type": "code",
   "execution_count": 1,
   "metadata": {},
   "outputs": [
    {
     "data": {
      "text/plain": [
       "(3.1110006165952773, 3.668999383404722)"
      ]
     },
     "execution_count": 1,
     "metadata": {},
     "output_type": "execute_result"
    }
   ],
   "source": [
    "import numpy as np\n",
    "import scipy.stats as stats\n",
    "from scipy.stats import t\n",
    "\n",
    "grades =  np.array([3.1,2.9,3.2,3.4,3.7,3.9,3.9,2.8,3.4,3.6])\n",
    "\n",
    "stats.t.interval(0.95, len(grades)-1, loc=np.mean(grades), scale=stats.sem(grades))"
   ]
  },
  {
   "cell_type": "markdown",
   "metadata": {},
   "source": [
    "The arguments inside t.interval function are 95% confidence interval, degrees of freedom (n-1), sample mean and the standard  error calculated by stats.sem function."
   ]
  },
  {
   "cell_type": "code",
   "execution_count": null,
   "metadata": {},
   "outputs": [],
   "source": []
  }
 ],
 "metadata": {
  "kernelspec": {
   "display_name": "Python 3",
   "language": "python",
   "name": "python3"
  },
  "language_info": {
   "codemirror_mode": {
    "name": "ipython",
    "version": 3
   },
   "file_extension": ".py",
   "mimetype": "text/x-python",
   "name": "python",
   "nbconvert_exporter": "python",
   "pygments_lexer": "ipython3",
   "version": "3.8.8"
  }
 },
 "nbformat": 4,
 "nbformat_minor": 4
}

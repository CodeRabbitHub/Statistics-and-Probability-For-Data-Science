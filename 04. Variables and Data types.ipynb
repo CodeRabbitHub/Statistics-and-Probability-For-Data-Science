{
 "cells": [
  {
   "cell_type": "markdown",
   "id": "4affdc6c",
   "metadata": {},
   "source": [
    "# Variables and Data types\n",
    "___"
   ]
  },
  {
   "cell_type": "markdown",
   "id": "649b5672",
   "metadata": {},
   "source": [
    "## What are variables ?\n",
    "\n",
    "In statistical studies, a variable refers to a characteristic of the subject being analyzed. Selecting the right variables is crucial to designing a successful experiment. These variables are used to anticipate the results of the experiment.\n",
    "\n",
    "For example, when predicting the cost of a house, we consider factors such as the number of bedrooms, location, age, nearby amenities, and the presence of a garage or pool. These factors, which help us predict the price of the house, are referred to as variables.\n",
    "\n",
    "\n",
    "## Independent and Dependent variables\n",
    "\n",
    "**Independent Variable**: Independent variables, also known as explanatory variables or predictor variables, are the factors that are manipulated in an experiment to observe the effect on the outcome. They represent the cause, and their value is not influenced by other variables in the study.\n",
    "\n",
    "**Dependent Variable**: Dependent variables, also referred to as response variables or outcome variables, are the results of the experiment that are being observed. They represent the effect, and their value depends on the changes made to the independent variable.\n",
    "\n",
    "## Types of data\n",
    "Data is the information that is collected for a specific purpose. In statistical research, data is used to understand the relationship between variables, make predictions, and support decision-making. Data is a fundamental component of research and analysis, as it provides insights into the phenomenon under study. In order to accurately analyze and interpret data, it is important to understand the different types of data that exist and how they can be best utilized.\n",
    "\n",
    "**Quantitative data** is a type of data that deals with quantities and measurements, it can be either *continuous* or *discrete*. Continuous data refers to values that can be measured along a scale without interruption, such as distance and time. Discrete data, on the other hand, refers to values that can only take certain specific values, such as the number of students in a class or the result of rolling a die.\n",
    "\n",
    "**Categorical data** represents groupings, and can be further divided into three subtypes: *nominal*, *ordinal*, and *binary*. Nominal data refers to values that can be assigned to categories but don't have any order, such as names of people and colors. Ordinal data refers to values that can be assigned to categories and have an order, such as rating levels and grades. Binary data refers to data with only two possible values, such as heads or tails in a coin flip, or yes or no.\n",
    "\n",
    "\n",
    "## Measurement Scales\n",
    "Measurement scales, also known as levels of measurement, describe how precisely variables are recorded in scientific research. In this context, a variable refers to any attribute that can take on different values in your data set (e.g. height, test scores).\n",
    "\n",
    "There are four measurement scales:\n",
    "\n",
    "+ Nominal: the data is only able to be categorized\n",
    "+ Ordinal: the data can be categorized and ordered\n",
    "+ Interval: the data can be categorized, ordered, and equally spaced\n",
    "+ Ratio: the data can be categorized, ordered, equally spaced, and have a true zero point.  \\\n",
    "\n",
    "The level of measurement for a variable influences the types of analysis that can be performed on it. The measurement scales range in complexity and precision from nominal (low) to ratio (high).\n"
   ]
  },
  {
   "cell_type": "code",
   "execution_count": null,
   "id": "8fcad532",
   "metadata": {},
   "outputs": [],
   "source": []
  }
 ],
 "metadata": {
  "kernelspec": {
   "display_name": "Python 3 (ipykernel)",
   "language": "python",
   "name": "python3"
  },
  "language_info": {
   "codemirror_mode": {
    "name": "ipython",
    "version": 3
   },
   "file_extension": ".py",
   "mimetype": "text/x-python",
   "name": "python",
   "nbconvert_exporter": "python",
   "pygments_lexer": "ipython3",
   "version": "3.9.15"
  }
 },
 "nbformat": 4,
 "nbformat_minor": 5
}

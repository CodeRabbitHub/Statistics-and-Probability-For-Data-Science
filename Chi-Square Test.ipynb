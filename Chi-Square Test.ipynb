{
 "cells": [
  {
   "cell_type": "markdown",
   "id": "d1009f20",
   "metadata": {},
   "source": [
    "# Chi-square test\n",
    "\n",
    "The chi-square test is a nonparametric test for testing the association between two variables. A non-parametric test is one that does not make any assumption about the distribution of the population from which the sample is drawn.\n",
    "\n",
    "The following are some of the characteristics of the chi-square test.\n",
    "+ The chi-square test of association is used to test if the frequency of occurrence of one categorical variable is significantly associated with that of another categorical variable.\n",
    "\n",
    ">  The chi-square test statistic is given by: \n",
    "\n",
    "> $$\\chi^2 = \\frac {\\sum(f_o -f_e)^2}{f_e}$$\n",
    "    \n",
    ">   where, $f_o$ denotes the observed frequencies, $f_e$ denotes the expected frequencies, and $\\chi$ is the test statistic.  \n",
    ">   Using the chi-square test of association, we can assess if the differences between the frequencies are statistically significant.\n",
    "\n",
    "+ A contingency table is a table with frequencies of the variable listed under separate columns. The formula for the degrees of freedom in the chi-square test is given by: *df=(r-1)(c-1)*, where *df* is the number of degrees of freedom, r is the number of rows in the contingency table, and c is the number of columns in the contingency table.\n",
    "\n",
    "\n",
    "\n",
    "+ The chi-square test compares the observed values of a set of variables with their expected values. It determines if the differences between the observed values and expected values are due to random chance (like a sampling error), or if these differences are statistically significant. If there are only small differences between the observed and expected values, it may be due to an error in sampling. If there are substantial differences between the two, it may indicate an association between the variables.\n",
    "\n",
    "\n",
    "\n",
    "![](data/csd.png)\n",
    "\n",
    "\n",
    "\n",
    "+ The shape of the chi-square distribution for different values of k (degrees of freedom) When the degrees of freedom are few, it looks like an F-distribution. It has only one tail (toward the right). As the degrees of freedom increase, it looks like a normal curve. Also, the increase in the degrees of freedom indicates that the difference between the observed values and expected values could be meaningful and not just due to a sampling error.  \n",
    "  \n",
    "  \n",
    "  \n",
    "\n",
    "\n"
   ]
  },
  {
   "cell_type": "code",
   "execution_count": null,
   "id": "2bcb6bf7",
   "metadata": {},
   "outputs": [],
   "source": []
  }
 ],
 "metadata": {
  "kernelspec": {
   "display_name": "Python 3",
   "language": "python",
   "name": "python3"
  },
  "language_info": {
   "codemirror_mode": {
    "name": "ipython",
    "version": 3
   },
   "file_extension": ".py",
   "mimetype": "text/x-python",
   "name": "python",
   "nbconvert_exporter": "python",
   "pygments_lexer": "ipython3",
   "version": "3.8.8"
  }
 },
 "nbformat": 4,
 "nbformat_minor": 5
}

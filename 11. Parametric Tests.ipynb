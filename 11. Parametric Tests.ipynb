{
 "cells": [
  {
   "cell_type": "markdown",
   "metadata": {},
   "source": [
    "# Parametric Tests:\n",
    "\n",
    "Parametric tests are statistical tests that are based on the assumption that the data being analyzed follows a normal distribution. These tests are used to make inferences about population parameters based on a sample of data.\n",
    "\n",
    "## One-Sample Test:\n",
    "\n",
    "A one-sample test is used when there is only one population of interest, and a single sample is taken from it. The test determines if there is a significant difference between the values in the sample and the population parameter.\n",
    "\n",
    "## Two-Sample Test:\n",
    "\n",
    "A two-sample test is used when samples are collected from two different populations. The test assesses whether the population parameters are significantly different based on the sample parameters.\n",
    "\n",
    "## Critical Test Statistic:\n",
    "\n",
    "A critical test statistic is the limiting value of the sample test statistic used to determine whether to accept or reject the null hypothesis.\n",
    "\n",
    "## Region of Rejection:\n",
    "\n",
    "The region of rejection is the range of values where the null hypothesis is rejected. The region of acceptance is the area where the null hypothesis holds.\n",
    "\n",
    "## Types of Tests\n",
    "The following four types of tests will be discussed:\n",
    "\n",
    "+ **Z-tests**: Used for large sample sizes (n >= 30) with known population standard deviation.\n",
    "+ **T-tests**: Used for small sample sizes (n < 30) with unknown population standard deviation.\n",
    "+ **F-tests**: Used for comparing values of more than two variables.\n",
    "+ **Chi-square**: Used for comparing categorical data.\n",
    "\n",
    "## One-Tail Test (Directional Test):\n",
    "\n",
    "A one-tail test is performed when testing for a change in the mean, with knowledge of the direction of the change.  \n",
    "\n",
    "There are two types of one-tail tests:  \n",
    "\n",
    "+ **Upper one-tail**: The region of rejection is on the right tail. This test is performed when testing if the mean score has increased.\n",
    "+ **Lower one-tail**: The region of rejection is on the left tail. This test is performed when testing if the mean score has decreased.\n",
    "\n",
    "## Two-Tail Test (Non-Directional Test):\n",
    "\n",
    "A two-tail test is performed when testing for a change in the mean, without knowledge of the direction of the change. The region of rejection is located on both tails of the distribution.\n",
    "\n",
    "## The P-value:\n",
    "\n",
    "The p-value is used to determine whether to accept or reject the null hypothesis. It is calculated based on the sample data and is compared to a significance level, typically 0.05. \n",
    "+ If p < 0.05, it suggests that the sample data is unlikely to be random and not representative of the population. In this case, the null hypothesis is rejected. \n",
    "+ If p > 0.05, it indicates that there is a higher probability that the sample is not representative of the population, and the null hypothesis is not rejected.\n",
    "\n",
    "![](./data/hypothesis.png)"
   ]
  },
  {
   "cell_type": "markdown",
   "metadata": {},
   "source": [
    "SciPy is a Python-based library for mathematics, science, and engineering. There are many useful imports we are going to make from this module."
   ]
  },
  {
   "cell_type": "markdown",
   "metadata": {},
   "source": [
    "## CDF (cumulative distribution function) and PPF (percent point function)\n",
    "\n",
    "\n",
    "The cdf() function calculates the probability value given z-statistic while the ppf() caluculates the z-statistic given probabilty value. It is sometimes refered as inverse of cdf.\n",
    "\n",
    "To illustrate this calculation, check the below sample code. \n",
    "\n",
    "![](data/cdf_ppf.png)"
   ]
  },
  {
   "cell_type": "code",
   "execution_count": 1,
   "metadata": {},
   "outputs": [
    {
     "name": "stdout",
     "output_type": "stream",
     "text": [
      "Calculating p given z: p =  0.95\n",
      "Calculating z given p: z =  1.6448536269514722\n"
     ]
    }
   ],
   "source": [
    "from scipy.stats import norm\n",
    "\n",
    "z = 1.6448536269514722\n",
    "p = 0.95\n",
    "\n",
    "print(\"Calculating p given z: p = \", norm.cdf(z))\n",
    "print(\"Calculating z given p: z = \", norm.ppf(p))"
   ]
  },
  {
   "cell_type": "markdown",
   "metadata": {},
   "source": [
    "# Choosing a statistical test?\n",
    "\n",
    "Below is a simple diagram which shows how to choose a test depending on different data types.\n",
    "\n",
    "![](data/a1.png)"
   ]
  },
  {
   "cell_type": "code",
   "execution_count": null,
   "metadata": {},
   "outputs": [],
   "source": []
  }
 ],
 "metadata": {
  "kernelspec": {
   "display_name": "Python 3 (ipykernel)",
   "language": "python",
   "name": "python3"
  },
  "language_info": {
   "codemirror_mode": {
    "name": "ipython",
    "version": 3
   },
   "file_extension": ".py",
   "mimetype": "text/x-python",
   "name": "python",
   "nbconvert_exporter": "python",
   "pygments_lexer": "ipython3",
   "version": "3.9.15"
  }
 },
 "nbformat": 4,
 "nbformat_minor": 4
}
